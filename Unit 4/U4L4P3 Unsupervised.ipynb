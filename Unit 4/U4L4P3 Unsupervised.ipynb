{
 "cells": [
  {
   "cell_type": "markdown",
   "metadata": {},
   "source": [
    "### NLP as an unsupervised problem (U4L4 Part 3: drill tf-idf, drill 0, drill 1)\n",
    "Lots of written subject matter in this lesson that I won't include here."
   ]
  },
  {
   "cell_type": "code",
   "execution_count": 1,
   "metadata": {},
   "outputs": [],
   "source": [
    "import numpy as np\n",
    "import pandas as pd\n",
    "import scipy\n",
    "import matplotlib.pyplot as plt\n",
    "import seaborn as sns\n",
    "%matplotlib inline"
   ]
  },
  {
   "cell_type": "code",
   "execution_count": 2,
   "metadata": {},
   "outputs": [
    {
     "name": "stderr",
     "output_type": "stream",
     "text": [
      "[nltk_data] Downloading package gutenberg to /Users/aaron/nltk_data...\n",
      "[nltk_data]   Package gutenberg is already up-to-date!\n",
      "[nltk_data] Downloading package punkt to /Users/aaron/nltk_data...\n",
      "[nltk_data]   Package punkt is already up-to-date!\n"
     ]
    },
    {
     "name": "stdout",
     "output_type": "stream",
     "text": [
      "['[ Emma by Jane Austen 1816 ]', 'VOLUME I', 'CHAPTER I', 'Emma Woodhouse , handsome , clever , and rich , with a comfortable home and happy disposition , seemed to unite some of the best blessings of existence ; and had lived nearly twenty - one years in the world with very little to distress or vex her .']\n"
     ]
    }
   ],
   "source": [
    "import nltk\n",
    "from nltk.corpus import gutenberg\n",
    "nltk.download('gutenberg')\n",
    "nltk.download('punkt')\n",
    "import re\n",
    "from sklearn.model_selection import train_test_split\n",
    "\n",
    "#reading in the data, this time in the form of paragraphs\n",
    "emma=gutenberg.paras('austen-emma.txt')\n",
    "\n",
    "#processing\n",
    "emma_paras=[]\n",
    "for paragraph in emma:\n",
    "    para=paragraph[0]\n",
    "    \n",
    "    #removing the double-dash from all words\n",
    "    para=[re.sub(r'--','',word) for word in para]\n",
    "    \n",
    "    #Forming each paragraph into a string and adding it to the list of strings.\n",
    "    emma_paras.append(' '.join(para))\n",
    "\n",
    "print(emma_paras[0:4])"
   ]
  },
  {
   "cell_type": "markdown",
   "metadata": {},
   "source": [
    "### tfidf in sklearn\n",
    "Happily for us, sklearn has a tfidf function that will do all our heavy lifting. It also has a very long list of stop words. Since we're going to be doing dimension reduction later on anyway, let's keep all the words for now."
   ]
  },
  {
   "cell_type": "code",
   "execution_count": 3,
   "metadata": {},
   "outputs": [
    {
     "name": "stdout",
     "output_type": "stream",
     "text": [
      "Number of features: 1948\n",
      "Original sentence: A very few minutes more , however , completed the present trial .\n",
      "Tf_idf vector: {'minutes': 0.7127450310382584, 'present': 0.701423210857947}\n"
     ]
    }
   ],
   "source": [
    "from sklearn.feature_extraction.text import TfidfVectorizer\n",
    "\n",
    "X_train, X_test = train_test_split(emma_paras, test_size=0.4, random_state=0)\n",
    "vectorizer = TfidfVectorizer(max_df=0.5, # drop words that occur in more than half the paragraphs\n",
    "                             min_df=2, # only use words that appear at least twice\n",
    "                             stop_words='english', \n",
    "                             lowercase=True, #convert everything to lower case (since Alice in Wonderland has the HABIT of CAPITALIZING WORDS for EMPHASIS)\n",
    "                             use_idf=True,#we definitely want to use inverse document frequencies in our weighting\n",
    "                             norm=u'l2', #Applies a correction factor so that longer paragraphs and shorter paragraphs get treated equally\n",
    "                             smooth_idf=True #Adds 1 to all document frequencies, as if an extra document existed that used every word once.  Prevents divide-by-zero errors\n",
    "                            )\n",
    "\n",
    "# Applying the vectorizer\n",
    "emma_paras_tfidf=vectorizer.fit_transform(emma_paras)\n",
    "print(\"Number of features: %d\" % emma_paras_tfidf.get_shape()[1])\n",
    "\n",
    "# splitting into training and test sets\n",
    "X_train_tfidf, X_test_tfidf = train_test_split(emma_paras_tfidf, test_size=0.4, random_state=0)\n",
    "\n",
    "# Reshapes the vectorizer output into something people can read\n",
    "X_train_tfidf_csr = X_train_tfidf.tocsr()\n",
    "\n",
    "# number of paragraphs\n",
    "n = X_train_tfidf_csr.shape[0]\n",
    "\n",
    "# A list of dictionaries, one per paragraph\n",
    "tfidf_bypara = [{} for _ in range(0,n)]\n",
    "\n",
    "# List of features\n",
    "terms = vectorizer.get_feature_names()\n",
    "\n",
    "# for each paragraph, lists the feature words and their tf-idf scores\n",
    "for i, j in zip(*X_train_tfidf_csr.nonzero()):\n",
    "    tfidf_bypara[i][terms[j]] = X_train_tfidf_csr[i, j]\n",
    "\n",
    "# Keep in mind that the log base 2 of 1 is 0, so a tf-idf score of 0 indicates that the\n",
    "# word was present once in that sentence.\n",
    "print('Original sentence:', X_train[5])\n",
    "print('Tf_idf vector:', tfidf_bypara[5])"
   ]
  },
  {
   "cell_type": "markdown",
   "metadata": {},
   "source": [
    "### Dimension reduction\n",
    "Okay, now we have our vectors, with one vector per paragraph. It's time to do some dimension reduction. We use the Singular Value Decomposition (SVD) function from sklearn rather than PCA because we don't want to mean-center our variables (and thus lose sparsity):"
   ]
  },
  {
   "cell_type": "code",
   "execution_count": 4,
   "metadata": {},
   "outputs": [
    {
     "name": "stdout",
     "output_type": "stream",
     "text": [
      "Percent variance captured by all components: 45.215115723151875\n",
      "Component 0:\n",
      "\" Oh !    0.999287\n",
      "\" Oh !    0.999287\n",
      "\" Oh !    0.999287\n",
      "\" Oh !    0.999287\n",
      "\" Oh !    0.999287\n",
      "\" Oh !    0.999287\n",
      "\" Oh !    0.999287\n",
      "\" Oh !    0.999287\n",
      "\" Oh !    0.999287\n",
      "\" Oh !    0.999287\n",
      "Name: 0, dtype: float64\n",
      "Component 1:\n",
      "\" You have made her too tall , Emma ,\" said Mr . Knightley .                                                                                                                0.634414\n",
      "\" You get upon delicate subjects , Emma ,\" said Mrs . Weston smiling ; \" remember that I am here . Mr .                                                                     0.582689\n",
      "\" I do not know what your opinion may be , Mrs . Weston ,\" said Mr . Knightley , \" of this great intimacy between Emma and Harriet Smith , but I think it a bad thing .\"    0.565588\n",
      "\" You are right , Mrs . Weston ,\" said Mr . Knightley warmly , \" Miss Fairfax is as capable as any of us of forming a just opinion of Mrs . Elton .                         0.559228\n",
      "\" There were misunderstandings between them , Emma ; he said so expressly .                                                                                                 0.528582\n",
      "Mr . Knightley might quarrel with her , but Emma could not quarrel with herself .                                                                                           0.526389\n",
      "Emma found that it was not Mr . Weston ' s fault that the number of privy councillors was not yet larger .                                                                  0.517304\n",
      "\" Now ,\" said Emma , when they were fairly beyond the sweep gates , \" now Mr . Weston , do let me know what has happened .\"                                                 0.507990\n",
      "\" In one respect , perhaps , Mr . Elton ' s manners are superior to Mr . Knightley ' s or Mr . Weston ' s .                                                                 0.505136\n",
      "\" I do not admire it ,\" said Mr . Knightley .                                                                                                                               0.499379\n",
      "Name: 1, dtype: float64\n",
      "Component 2:\n",
      "CHAPTER I       0.998741\n",
      "CHAPTER I       0.998741\n",
      "CHAPTER I       0.998741\n",
      "CHAPTER V       0.998741\n",
      "CHAPTER V       0.998741\n",
      "CHAPTER X       0.998741\n",
      "CHAPTER V       0.998741\n",
      "CHAPTER X       0.998741\n",
      "CHAPTER X       0.998741\n",
      "CHAPTER XIII    0.997673\n",
      "Name: 2, dtype: float64\n",
      "Component 3:\n",
      "\" Ah !      0.992914\n",
      "\" Ah !      0.992914\n",
      "\" Ah !      0.992914\n",
      "But ah !    0.992914\n",
      "\" Ah !      0.992914\n",
      "\" Ah !      0.992914\n",
      "But ah !    0.992914\n",
      "\" Ah !      0.992914\n",
      "\" Ah !      0.992914\n",
      "\" Ah !      0.992914\n",
      "Name: 3, dtype: float64\n",
      "Component 4:\n",
      "\" There were misunderstandings between them , Emma ; he said so expressly .    0.650873\n",
      "Emma demurred .                                                                0.598973\n",
      "\" Are you well , my Emma ?\"                                                    0.598973\n",
      "Emma was silenced .                                                            0.588137\n",
      "At first it was downright dulness to Emma .                                    0.587163\n",
      "\" Emma , my dear Emma \"                                                        0.577058\n",
      "\" It is not now worth a regret ,\" said Emma .                                  0.576809\n",
      "Emma could not resist .                                                        0.568712\n",
      "\" For shame , Emma !                                                           0.557630\n",
      "\" I am ready ,\" said Emma , \" whenever I am wanted .\"                          0.493291\n",
      "Name: 4, dtype: float64\n"
     ]
    }
   ],
   "source": [
    "from sklearn.decomposition import TruncatedSVD\n",
    "from sklearn.pipeline import make_pipeline\n",
    "from sklearn.preprocessing import Normalizer\n",
    "\n",
    "#Our SVD data reducer.  We are going to reduce the feature space from 1379 to 130.\n",
    "svd= TruncatedSVD(130)\n",
    "lsa = make_pipeline(svd, Normalizer(copy=False))\n",
    "\n",
    "# Run SVD on the training data, then project the training data.\n",
    "X_train_lsa = lsa.fit_transform(X_train_tfidf)\n",
    "\n",
    "variance_explained=svd.explained_variance_ratio_\n",
    "total_variance = variance_explained.sum()\n",
    "print(\"Percent variance captured by all components:\",total_variance*100)\n",
    "\n",
    "#Looking at what sorts of paragraphs our solution considers similar, for the first five identified topics\n",
    "paras_by_component=pd.DataFrame(X_train_lsa,index=X_train)\n",
    "for i in range(5):\n",
    "    print('Component {}:'.format(i))\n",
    "    print(paras_by_component.loc[:,i].sort_values(ascending=False)[0:10])"
   ]
  },
  {
   "cell_type": "code",
   "execution_count": 5,
   "metadata": {},
   "outputs": [
    {
     "data": {
      "image/png": "[encoded data removed]",
      "text/plain": [
       "<Figure size 432x288 with 2 Axes>"
      ]
     },
     "metadata": {},
     "output_type": "display_data"
    },
    {
     "name": "stdout",
     "output_type": "stream",
     "text": [
      "Key:\n",
      "0 That is _court_ .\n",
      "1 \" Yes , sir , I did indeed ; and I am very much obliged by your kind solicitude about me .\"\n",
      "2 \" How much his business engrosses him already is very plain from the circumstance of his forgetting to inquire for the book you recommended .\n",
      "3 To restrain him as much as might be , by her own manners , she was immediately preparing to speak with exquisite calmness and gravity of the weather and the night ; but scarcely had she begun , scarcely had they passed the sweep - gate and joined the other carriage , than she found her subject cut up  her hand seized  her attention demanded , and Mr . Elton actually making violent love to her : availing himself of the precious opportunity , declaring sentiments which must be already well known , hoping  fearing  adoring  ready to die if she refused him ; but flattering himself that his ardent attachment and unequalled love and unexampled passion could not fail of having some effect , and in short , very much resolved on being seriously accepted as soon as possible .\n",
      "4 Emma smiled and answered \" My visit was of use to the nervous part of her complaint , I hope ; but not even I can charm away a sore throat ; it is a most severe cold indeed .\n",
      "5 A very few minutes more , however , completed the present trial .\n",
      "6 \" I am delighted to hear you speak so stoutly on the subject ,\" replied Emma , smiling ; \" but you do not mean to deny that there was a time  and not very distant either  when you gave me reason to understand that you did care about him ?\"\n",
      "7 \" Very well ; and if he had intended to give her one , he would have told her so .\"\n",
      "8 Some laughed , and answered good - humouredly .\n",
      "9 \" There appeared such a perfectly good understanding among them all \" he began rather quickly , but checking himself , added , \" however , it is impossible for me to say on what terms they really were  how it might all be behind the scenes .\n"
     ]
    }
   ],
   "source": [
    "# SENTENCE SIMILARITY as heatmap\n",
    "# Compute document similarity using LSA components\n",
    "similarity = np.asarray(np.asmatrix(X_train_lsa) * np.asmatrix(X_train_lsa).T)\n",
    "\n",
    "#Only taking the first 10 sentences\n",
    "sim_matrix=pd.DataFrame(similarity,index=X_train).iloc[0:10,0:10]\n",
    "\n",
    "#Making a plot\n",
    "ax = sns.heatmap(sim_matrix,yticklabels=range(10))\n",
    "plt.show()\n",
    "\n",
    "#Generating a key for the plot.\n",
    "print('Key:')\n",
    "for i in range(10):\n",
    "    print(i,sim_matrix.index[i])"
   ]
  },
  {
   "cell_type": "markdown",
   "metadata": {},
   "source": [
    "### Drill 0: Test set\n",
    "Now it's your turn: Apply our LSA model to the test set. Does it identify similar sentences for components 0 through 4?\n",
    "### It looks like there is some overlap, but it's not 100%"
   ]
  },
  {
   "cell_type": "code",
   "execution_count": 6,
   "metadata": {},
   "outputs": [
    {
     "name": "stdout",
     "output_type": "stream",
     "text": [
      "Percent variance captured by all components: 49.352226151745135\n",
      "Component 0:\n",
      "\" Oh !       0.99992\n",
      "\" Oh !       0.99992\n",
      "\" Oh !       0.99992\n",
      "\" Oh no !    0.99992\n",
      "\" Oh !       0.99992\n",
      "\" Oh !       0.99992\n",
      "\" Oh !       0.99992\n",
      "\" Oh !       0.99992\n",
      "\" Oh !       0.99992\n",
      "\" Oh !       0.99992\n",
      "Name: 0, dtype: float64\n",
      "Component 1:\n",
      "\" Well , Mrs . Weston ,\" said Emma triumphantly when he left them , \" what do you say now to Mr . Knightley ' s marrying Jane Fairfax ?\"                                                                                                                                                                                                                                                                                                             0.615837\n",
      "After tea , Mr . and Mrs . Weston , and Mr . Elton sat down with Mr . Woodhouse to cards .                                                                                                                                                                                                                                                                                                                                                           0.599697\n",
      "Frank turned instantly to Emma , to claim her former promise ; and boasted himself an engaged man , which his father looked his most perfect approbation of  and it then appeared that Mrs . Weston was wanting _him_ to dance with Mrs . Elton himself , and that their business was to help to persuade him into it , which was done pretty soon . Mr . Weston and Mrs . Elton led the way , Mr . Frank Churchill and Miss Woodhouse followed .    0.559523\n",
      "\" Mr .                                                                                                                                                                                                                                                                                                                                                                                                                                               0.516066\n",
      "While she was gone , Mr . Knightley called , and sat some time with Mr . Woodhouse and Emma , till Mr . Woodhouse , who had previously made up his mind to walk out , was persuaded by his daughter not to defer it , and was induced by the entreaties of both , though against the scruples of his own civility , to leave Mr . Knightley for that purpose .                                                                                       0.510062\n",
      "Mr . Weston was musing .                                                                                                                                                                                                                                                                                                                                                                                                                             0.505484\n",
      "\" Mrs . Weston ' s manners ,\" said Emma , \" were always particularly good .                                                                                                                                                                                                                                                                                                                                                                          0.491948\n",
      "\" I think , indeed ,\" said John Knightley pleasantly , \" that Mr . Weston has some little claim .                                                                                                                                                                                                                                                                                                                                                    0.490831\n",
      "\" Why , to be sure ,\" said Mr . Woodhouse \" yes , certainly  I cannot deny that Mrs . Weston , poor Mrs . Weston , does come and see us pretty often  but then  she is always obliged to go away again .\"                                                                                                                                                                                                                                            0.487969\n",
      "\" It is Frank and Miss Fairfax ,\" said Mrs . Weston .                                                                                                                                                                                                                                                                                                                                                                                                0.487209\n",
      "Name: 1, dtype: float64\n",
      "Component 2:\n",
      "\" Ah !    0.996963\n",
      "\" Ah !    0.996963\n",
      "\" Ah !    0.996963\n",
      "\" Ah !    0.996963\n",
      "\" Ah !    0.996963\n",
      "\" Ah !    0.996963\n",
      "\" Ah !    0.996963\n",
      "\" Ah !    0.996963\n",
      "\" Ah !    0.996963\n",
      "\" Ah !    0.996963\n",
      "Name: 2, dtype: float64\n",
      "Component 3:\n",
      "\" Mr .                                                                                                                                                                                                                                                                 0.629716\n",
      "After tea , Mr . and Mrs . Weston , and Mr . Elton sat down with Mr . Woodhouse to cards .                                                                                                                                                                             0.563871\n",
      "Mr . Knightley was thoughtful again .                                                                                                                                                                                                                                  0.524292\n",
      "\" You are not vain , Mr . Knightley .                                                                                                                                                                                                                                  0.511268\n",
      "Mr . Weston was musing .                                                                                                                                                                                                                                               0.500092\n",
      "Mr . Weston ' s own happiness was indisputable .                                                                                                                                                                                                                       0.455751\n",
      "She meant to be very happy , in spite of the scene being laid at Mr . Cole ' s ; and without being able to forget that among the failings of Mr . Elton , even in the days of his favour , none had disturbed her more than his propensity to dine with Mr . Cole .    0.418407\n",
      "Harriet , Mr . Elton , and Mr . Knightley , their own especial set , were the only persons invited to meet them ; the hours were to be early , as well as the numbers few ; Mr . Woodhouse ' s habits and inclination being consulted in every thing .                 0.404212\n",
      "\" And I , Mr . Knightley , am equally stout in my confidence of its not doing them any harm .                                                                                                                                                                          0.401366\n",
      "\" Christmas weather ,\" observed Mr . Elton .                                                                                                                                                                                                                           0.392630\n",
      "Name: 3, dtype: float64\n",
      "Component 4:\n",
      "\" Yes .                                                                         0.652697\n",
      "\" Yes , do .\"                                                                   0.652697\n",
      "\" Yes , sometimes he can .\"                                                     0.652697\n",
      "\" Yes I should , I am sure I should .                                           0.638711\n",
      "\" Yes , so I imagined .                                                         0.611968\n",
      "\" Yes  a good deal _nearer_ .\"                                                  0.565355\n",
      "\" Yes , our good Mrs . Elton .                                                  0.552299\n",
      "\" Yes ; but we must not rest our claims on that distinction .                   0.548279\n",
      "\" Yes , she would be , but that she thinks there will be another put - off .    0.539816\n",
      "\" Yes , very soon .                                                             0.533144\n",
      "Name: 4, dtype: float64\n"
     ]
    }
   ],
   "source": [
    "X_test_lsa = lsa.fit_transform(X_test_tfidf)\n",
    "\n",
    "variance_explained=svd.explained_variance_ratio_\n",
    "total_variance = variance_explained.sum()\n",
    "print(\"Percent variance captured by all components:\",total_variance*100)\n",
    "\n",
    "#Looking at what sorts of paragraphs our solution considers similar, for the first five identified topics\n",
    "paras_by_component=pd.DataFrame(X_test_lsa, index=X_test)\n",
    "for i in range(5):\n",
    "    print('Component {}:'.format(i))\n",
    "    print(paras_by_component.loc[:,i].sort_values(ascending=False)[0:10])"
   ]
  },
  {
   "cell_type": "markdown",
   "metadata": {},
   "source": [
    "### Drill 1: Tweaking tf-idf\n",
    "Go back up to the code where we originally translated the text from words to numbers. There are a lot of decision-points here, from the stop list to the thresholds for inclusion and exclusion, and many others as well. We also didn't integrate spaCy, and so don't have info on lemmas or Named Entities. Change things up a few times and see how that affects the results of the LSA. Write up your observations and share them with your mentor."
   ]
  },
  {
   "cell_type": "code",
   "execution_count": 7,
   "metadata": {},
   "outputs": [
    {
     "name": "stdout",
     "output_type": "stream",
     "text": [
      "Number of features: 799\n",
      "Percent variance captured by all components: 67.22083732542639\n"
     ]
    }
   ],
   "source": [
    "vectorizer = TfidfVectorizer(max_df=0.35,\n",
    "                             min_df=5,\n",
    "                             stop_words='english', \n",
    "                             lowercase=True,\n",
    "                             use_idf=True,\n",
    "                             norm=u'l1',\n",
    "                             smooth_idf=True\n",
    "                            )\n",
    "#changed max df to .35 min df to 5, penalty to L1\n",
    "\n",
    "#Applying the vectorizer\n",
    "emma_paras_tfidf=vectorizer.fit_transform(emma_paras)\n",
    "print(\"Number of features: %d\" % emma_paras_tfidf.get_shape()[1])\n",
    "emma_tf_lsa = lsa.fit_transform(emma_paras_tfidf)\n",
    "variance_explained=svd.explained_variance_ratio_\n",
    "total_variance = variance_explained.sum()\n",
    "print(\"Percent variance captured by all components:\",total_variance*100)"
   ]
  },
  {
   "cell_type": "code",
   "execution_count": 8,
   "metadata": {},
   "outputs": [
    {
     "name": "stdout",
     "output_type": "stream",
     "text": [
      "Number of features: 382\n",
      "Percent variance captured by all components: 76.56100685678892\n"
     ]
    }
   ],
   "source": [
    "vectorizer = TfidfVectorizer(max_df=0.35,\n",
    "                             min_df=10,\n",
    "                             stop_words='english', \n",
    "                             lowercase=True,\n",
    "                             use_idf=True,\n",
    "                             norm=u'l1',\n",
    "                             smooth_idf=True\n",
    "                            )\n",
    "#changed max df to .35 min df to 10, penalty to L1\n",
    "\n",
    "#Applying the vectorizer\n",
    "emma_paras_tfidf=vectorizer.fit_transform(emma_paras)\n",
    "print(\"Number of features: %d\" % emma_paras_tfidf.get_shape()[1])\n",
    "emma_tf_lsa = lsa.fit_transform(emma_paras_tfidf)\n",
    "variance_explained=svd.explained_variance_ratio_\n",
    "total_variance = variance_explained.sum()\n",
    "print(\"Percent variance captured by all components:\",total_variance*100)"
   ]
  },
  {
   "cell_type": "code",
   "execution_count": 9,
   "metadata": {},
   "outputs": [
    {
     "name": "stdout",
     "output_type": "stream",
     "text": [
      "Number of features: 232\n",
      "Percent variance captured by all components: 87.21677464806861\n"
     ]
    }
   ],
   "source": [
    "vectorizer = TfidfVectorizer(max_df=0.35,\n",
    "                             min_df=15,\n",
    "                             stop_words='english', \n",
    "                             lowercase=True,\n",
    "                             use_idf=True,\n",
    "                             norm=u'l1',\n",
    "                             smooth_idf=True\n",
    "                            )\n",
    "#changed max df to .35 min df to 15, penalty to L1\n",
    "\n",
    "#Applying the vectorizer\n",
    "emma_paras_tfidf=vectorizer.fit_transform(emma_paras)\n",
    "print(\"Number of features: %d\" % emma_paras_tfidf.get_shape()[1])\n",
    "emma_tf_lsa = lsa.fit_transform(emma_paras_tfidf)\n",
    "variance_explained=svd.explained_variance_ratio_\n",
    "total_variance = variance_explained.sum()\n",
    "print(\"Percent variance captured by all components:\",total_variance*100)"
   ]
  },
  {
   "cell_type": "code",
   "execution_count": 10,
   "metadata": {},
   "outputs": [
    {
     "name": "stdout",
     "output_type": "stream",
     "text": [
      "Number of features: 155\n",
      "Percent variance captured by all components: 96.65099698288317\n"
     ]
    }
   ],
   "source": [
    "vectorizer = TfidfVectorizer(max_df=0.35,\n",
    "                             min_df=20,\n",
    "                             stop_words='english', \n",
    "                             lowercase=True,\n",
    "                             use_idf=True,\n",
    "                             norm=u'l1',\n",
    "                             smooth_idf=True\n",
    "                            )\n",
    "#changed max df to .35 min df to 20, penalty to L1\n",
    "\n",
    "#Applying the vectorizer\n",
    "emma_paras_tfidf=vectorizer.fit_transform(emma_paras)\n",
    "print(\"Number of features: %d\" % emma_paras_tfidf.get_shape()[1])\n",
    "emma_tf_lsa = lsa.fit_transform(emma_paras_tfidf)\n",
    "variance_explained=svd.explained_variance_ratio_\n",
    "total_variance = variance_explained.sum()\n",
    "print(\"Percent variance captured by all components:\",total_variance*100)"
   ]
  },
  {
   "cell_type": "code",
   "execution_count": 11,
   "metadata": {},
   "outputs": [
    {
     "name": "stdout",
     "output_type": "stream",
     "text": [
      "Number of features: 144\n",
      "Percent variance captured by all components: 98.12580146676575\n"
     ]
    }
   ],
   "source": [
    "vectorizer = TfidfVectorizer(max_df=0.35,\n",
    "                             min_df=21,\n",
    "                             stop_words='english', \n",
    "                             lowercase=True,\n",
    "                             use_idf=True,\n",
    "                             norm=u'l1',\n",
    "                             smooth_idf=True\n",
    "                            )\n",
    "#changed max df to .35 min df to 21, penalty to L1\n",
    "\n",
    "#Applying the vectorizer\n",
    "emma_paras_tfidf=vectorizer.fit_transform(emma_paras)\n",
    "print(\"Number of features: %d\" % emma_paras_tfidf.get_shape()[1])\n",
    "emma_tf_lsa = lsa.fit_transform(emma_paras_tfidf)\n",
    "variance_explained=svd.explained_variance_ratio_\n",
    "total_variance = variance_explained.sum()\n",
    "print(\"Percent variance captured by all components:\",total_variance*100)"
   ]
  },
  {
   "cell_type": "markdown",
   "metadata": {},
   "source": [
    "__Looks good so far; by increasing the min_df to use words that only occur at lease 21 times, the features are down to 144 wtih 98% variance explained__"
   ]
  },
  {
   "cell_type": "code",
   "execution_count": 12,
   "metadata": {},
   "outputs": [
    {
     "name": "stdout",
     "output_type": "stream",
     "text": [
      "Number of features: 144\n",
      "Percent variance captured by all components: 98.12685304062079\n"
     ]
    }
   ],
   "source": [
    "vectorizer = TfidfVectorizer(max_df=0.2,\n",
    "                             min_df=21,\n",
    "                             stop_words='english', \n",
    "                             lowercase=True,\n",
    "                             use_idf=True,\n",
    "                             norm=u'l1',\n",
    "                             smooth_idf=True\n",
    "                            )\n",
    "#changed max df to .2 min df to 21, penalty to L1\n",
    "\n",
    "#Applying the vectorizer\n",
    "emma_paras_tfidf=vectorizer.fit_transform(emma_paras)\n",
    "print(\"Number of features: %d\" % emma_paras_tfidf.get_shape()[1])\n",
    "emma_tf_lsa = lsa.fit_transform(emma_paras_tfidf)\n",
    "variance_explained=svd.explained_variance_ratio_\n",
    "total_variance = variance_explained.sum()\n",
    "print(\"Percent variance captured by all components:\",total_variance*100)"
   ]
  },
  {
   "cell_type": "markdown",
   "metadata": {},
   "source": [
    "### No change when lowering max_df, try other settings (higher)"
   ]
  },
  {
   "cell_type": "code",
   "execution_count": 13,
   "metadata": {},
   "outputs": [
    {
     "name": "stdout",
     "output_type": "stream",
     "text": [
      "Number of features: 144\n",
      "Percent variance captured by all components: 98.12694471480116\n"
     ]
    }
   ],
   "source": [
    "vectorizer = TfidfVectorizer(max_df=0.9,\n",
    "                             min_df=21,\n",
    "                             stop_words='english', \n",
    "                             lowercase=True,\n",
    "                             use_idf=True,\n",
    "                             norm=u'l1',\n",
    "                             smooth_idf=True\n",
    "                            )\n",
    "#changed max df to .9 min df to 21, penalty to L1\n",
    "\n",
    "#Applying the vectorizer\n",
    "emma_paras_tfidf=vectorizer.fit_transform(emma_paras)\n",
    "print(\"Number of features: %d\" % emma_paras_tfidf.get_shape()[1])\n",
    "emma_tf_lsa = lsa.fit_transform(emma_paras_tfidf)\n",
    "variance_explained=svd.explained_variance_ratio_\n",
    "total_variance = variance_explained.sum()\n",
    "print(\"Percent variance captured by all components:\",total_variance*100)"
   ]
  },
  {
   "cell_type": "markdown",
   "metadata": {},
   "source": [
    "### Again, no change, looks like the minimum is the important one\n",
    "### Pretty good, we've decreased the number of features significantly, and have a high level of variance explained"
   ]
  }
 ],
 "metadata": {
  "kernelspec": {
   "display_name": "Python 3",
   "language": "python",
   "name": "python3"
  },
  "language_info": {
   "codemirror_mode": {
    "name": "ipython",
    "version": 3
   },
   "file_extension": ".py",
   "mimetype": "text/x-python",
   "name": "python",
   "nbconvert_exporter": "python",
   "pygments_lexer": "ipython3",
   "version": "3.7.0"
  }
 },
 "nbformat": 4,
 "nbformat_minor": 2
}
