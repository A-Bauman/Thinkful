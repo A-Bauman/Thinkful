{
 "cells": [
  {
   "cell_type": "markdown",
   "metadata": {},
   "source": [
    "### You can see at the bottom that I cross-validated my new and old models.  My OLD model was 4% better, which means I did a pretty good job initially.  It averaged an R squared of 84.7%, while my new model was 81.0% (across 6 folds).\n",
    "### I want to talk about this though, because on the new 2014 data my old model didn't have any non-significance show up in any parameter, and that confuses me.\n",
    "### I could keep engineering this and do transformations on the data, but the point is checking significance.  If I'm only dropping 3 or 4 percent by using only Population and Rape, the others are nearly insignificant."
   ]
  },
  {
   "cell_type": "code",
   "execution_count": 1,
   "metadata": {},
   "outputs": [
    {
     "data": {
      "text/html": [
       "<style>.container { width:100% !important; }</style>"
      ],
      "text/plain": [
       "<IPython.core.display.HTML object>"
      ]
     },
     "metadata": {},
     "output_type": "display_data"
    }
   ],
   "source": [
    "import pandas as pd\n",
    "import numpy as np\n",
    "import seaborn as sns\n",
    "import matplotlib.pyplot as plt\n",
    "from sklearn import linear_model\n",
    "from scipy import stats\n",
    "import seaborn as sns\n",
    "import statsmodels.formula.api as smf\n",
    "from statsmodels.sandbox.regression.predstd import wls_prediction_std\n",
    "\n",
    "from IPython.core.display import display, HTML\n",
    "display(HTML(\"<style>.container { width:100% !important; }</style>\"))\n",
    "pd.set_option('display.max_rows', 100)\n",
    "pd.set_option('display.max_colwidth', 50)\n",
    "pd.options.display.float_format = '{:.3f}'.format\n",
    "\n",
    "%matplotlib inline"
   ]
  },
  {
   "cell_type": "code",
   "execution_count": 2,
   "metadata": {},
   "outputs": [
    {
     "data": {
      "text/html": [
       "<div>\n",
       "<style scoped>\n",
       "    .dataframe tbody tr th:only-of-type {\n",
       "        vertical-align: middle;\n",
       "    }\n",
       "\n",
       "    .dataframe tbody tr th {\n",
       "        vertical-align: top;\n",
       "    }\n",
       "\n",
       "    .dataframe thead th {\n",
       "        text-align: right;\n",
       "    }\n",
       "</style>\n",
       "<table border=\"1\" class=\"dataframe\">\n",
       "  <thead>\n",
       "    <tr style=\"text-align: right;\">\n",
       "      <th></th>\n",
       "      <th>Population</th>\n",
       "      <th>Viol_Cr</th>\n",
       "      <th>Murder</th>\n",
       "      <th>Rape</th>\n",
       "      <th>Robbery</th>\n",
       "      <th>Assault</th>\n",
       "      <th>Prop_Cr</th>\n",
       "      <th>Pop_Sqr</th>\n",
       "    </tr>\n",
       "  </thead>\n",
       "  <tbody>\n",
       "    <tr>\n",
       "      <th>0</th>\n",
       "      <td>1861</td>\n",
       "      <td>0</td>\n",
       "      <td>0</td>\n",
       "      <td>0</td>\n",
       "      <td>0</td>\n",
       "      <td>0</td>\n",
       "      <td>12</td>\n",
       "      <td>3463321</td>\n",
       "    </tr>\n",
       "    <tr>\n",
       "      <th>1</th>\n",
       "      <td>2577</td>\n",
       "      <td>3</td>\n",
       "      <td>0</td>\n",
       "      <td>0</td>\n",
       "      <td>0</td>\n",
       "      <td>3</td>\n",
       "      <td>24</td>\n",
       "      <td>6640929</td>\n",
       "    </tr>\n",
       "    <tr>\n",
       "      <th>2</th>\n",
       "      <td>2846</td>\n",
       "      <td>3</td>\n",
       "      <td>0</td>\n",
       "      <td>0</td>\n",
       "      <td>0</td>\n",
       "      <td>3</td>\n",
       "      <td>16</td>\n",
       "      <td>8099716</td>\n",
       "    </tr>\n",
       "    <tr>\n",
       "      <th>3</th>\n",
       "      <td>97956</td>\n",
       "      <td>791</td>\n",
       "      <td>8</td>\n",
       "      <td>30</td>\n",
       "      <td>227</td>\n",
       "      <td>526</td>\n",
       "      <td>4090</td>\n",
       "      <td>9595377936</td>\n",
       "    </tr>\n",
       "    <tr>\n",
       "      <th>4</th>\n",
       "      <td>6388</td>\n",
       "      <td>23</td>\n",
       "      <td>0</td>\n",
       "      <td>3</td>\n",
       "      <td>4</td>\n",
       "      <td>16</td>\n",
       "      <td>223</td>\n",
       "      <td>40806544</td>\n",
       "    </tr>\n",
       "  </tbody>\n",
       "</table>\n",
       "</div>"
      ],
      "text/plain": [
       "   Population  Viol_Cr  Murder  Rape  Robbery  Assault  Prop_Cr     Pop_Sqr\n",
       "0        1861        0       0     0        0        0       12     3463321\n",
       "1        2577        3       0     0        0        3       24     6640929\n",
       "2        2846        3       0     0        0        3       16     8099716\n",
       "3       97956      791       8    30      227      526     4090  9595377936\n",
       "4        6388       23       0     3        4       16      223    40806544"
      ]
     },
     "execution_count": 2,
     "metadata": {},
     "output_type": "execute_result"
    }
   ],
   "source": [
    "# Removing spaces in column names\n",
    "features = pd.read_csv(\"feats.csv\")\n",
    "features.rename(columns={\"Aggr Assault\":\"Assault\",\n",
    "                         \"Property Crime\":\"Prop_Cr\",\n",
    "                         \"Pop Squared\":\"Pop_Sqr\"}, inplace=True)\n",
    "features.head()"
   ]
  },
  {
   "cell_type": "code",
   "execution_count": 3,
   "metadata": {},
   "outputs": [],
   "source": [
    "# ORIGINAL\n",
    "original = 'Prop_Cr ~ Population+Murder+Rape+Robbery+Assault+Pop_Sqr'\n",
    "orig_model = smf.ols(formula=original, data=features).fit()"
   ]
  },
  {
   "cell_type": "markdown",
   "metadata": {},
   "source": [
    "### Looks like Murder and Robbery are poor for predicting Prop_Cr.  I'm a little surprised that Pop_Sqr is significant though, but Population is, so it stands to reason that squaring it works.  Might be redundant.  I'll test dropping it and see how that changes my R-squared value.\n",
    "\n",
    "### Interesting.  Robbery is insignificant in either case, so I'm dropping it.  Murder flip flops depending on my inclusion of Pop_Sqr or not, yet it's still 0.02 rather than much smaller, so I'm going to try dropping it."
   ]
  },
  {
   "cell_type": "code",
   "execution_count": 4,
   "metadata": {},
   "outputs": [
    {
     "data": {
      "text/html": [
       "<table class=\"simpletable\">\n",
       "<caption>OLS Regression Results</caption>\n",
       "<tr>\n",
       "  <th>Dep. Variable:</th>         <td>Prop_Cr</td>     <th>  R-squared:         </th> <td>   0.908</td> \n",
       "</tr>\n",
       "<tr>\n",
       "  <th>Model:</th>                   <td>OLS</td>       <th>  Adj. R-squared:    </th> <td>   0.906</td> \n",
       "</tr>\n",
       "<tr>\n",
       "  <th>Method:</th>             <td>Least Squares</td>  <th>  F-statistic:       </th> <td>   558.7</td> \n",
       "</tr>\n",
       "<tr>\n",
       "  <th>Date:</th>             <td>Wed, 31 Oct 2018</td> <th>  Prob (F-statistic):</th> <td>4.74e-173</td>\n",
       "</tr>\n",
       "<tr>\n",
       "  <th>Time:</th>                 <td>12:23:15</td>     <th>  Log-Likelihood:    </th> <td> -2327.2</td> \n",
       "</tr>\n",
       "<tr>\n",
       "  <th>No. Observations:</th>      <td>   348</td>      <th>  AIC:               </th> <td>   4668.</td> \n",
       "</tr>\n",
       "<tr>\n",
       "  <th>Df Residuals:</th>          <td>   341</td>      <th>  BIC:               </th> <td>   4695.</td> \n",
       "</tr>\n",
       "<tr>\n",
       "  <th>Df Model:</th>              <td>     6</td>      <th>                     </th>     <td> </td>    \n",
       "</tr>\n",
       "<tr>\n",
       "  <th>Covariance Type:</th>      <td>nonrobust</td>    <th>                     </th>     <td> </td>    \n",
       "</tr>\n",
       "</table>\n",
       "<table class=\"simpletable\">\n",
       "<tr>\n",
       "       <td></td>         <th>coef</th>     <th>std err</th>      <th>t</th>      <th>P>|t|</th>  <th>[0.025</th>    <th>0.975]</th>  \n",
       "</tr>\n",
       "<tr>\n",
       "  <th>Intercept</th>  <td>  -59.8017</td> <td>   14.978</td> <td>   -3.993</td> <td> 0.000</td> <td>  -89.262</td> <td>  -30.341</td>\n",
       "</tr>\n",
       "<tr>\n",
       "  <th>Population</th> <td>    0.0214</td> <td>    0.001</td> <td>   19.975</td> <td> 0.000</td> <td>    0.019</td> <td>    0.024</td>\n",
       "</tr>\n",
       "<tr>\n",
       "  <th>Murder</th>     <td>   -9.4214</td> <td>   15.270</td> <td>   -0.617</td> <td> 0.538</td> <td>  -39.457</td> <td>   20.614</td>\n",
       "</tr>\n",
       "<tr>\n",
       "  <th>Rape</th>       <td>   39.3314</td> <td>    4.355</td> <td>    9.032</td> <td> 0.000</td> <td>   30.766</td> <td>   47.897</td>\n",
       "</tr>\n",
       "<tr>\n",
       "  <th>Robbery</th>    <td>   -0.2284</td> <td>    1.022</td> <td>   -0.223</td> <td> 0.823</td> <td>   -2.238</td> <td>    1.781</td>\n",
       "</tr>\n",
       "<tr>\n",
       "  <th>Assault</th>    <td>    2.5851</td> <td>    0.633</td> <td>    4.086</td> <td> 0.000</td> <td>    1.341</td> <td>    3.829</td>\n",
       "</tr>\n",
       "<tr>\n",
       "  <th>Pop_Sqr</th>    <td>-9.473e-08</td> <td> 8.39e-09</td> <td>  -11.297</td> <td> 0.000</td> <td>-1.11e-07</td> <td>-7.82e-08</td>\n",
       "</tr>\n",
       "</table>\n",
       "<table class=\"simpletable\">\n",
       "<tr>\n",
       "  <th>Omnibus:</th>       <td>56.188</td> <th>  Durbin-Watson:     </th> <td>   2.148</td> \n",
       "</tr>\n",
       "<tr>\n",
       "  <th>Prob(Omnibus):</th> <td> 0.000</td> <th>  Jarque-Bera (JB):  </th> <td> 564.752</td> \n",
       "</tr>\n",
       "<tr>\n",
       "  <th>Skew:</th>          <td> 0.184</td> <th>  Prob(JB):          </th> <td>2.32e-123</td>\n",
       "</tr>\n",
       "<tr>\n",
       "  <th>Kurtosis:</th>      <td> 9.230</td> <th>  Cond. No.          </th> <td>4.91e+09</td> \n",
       "</tr>\n",
       "</table><br/><br/>Warnings:<br/>[1] Standard Errors assume that the covariance matrix of the errors is correctly specified.<br/>[2] The condition number is large, 4.91e+09. This might indicate that there are<br/>strong multicollinearity or other numerical problems."
      ],
      "text/plain": [
       "<class 'statsmodels.iolib.summary.Summary'>\n",
       "\"\"\"\n",
       "                            OLS Regression Results                            \n",
       "==============================================================================\n",
       "Dep. Variable:                Prop_Cr   R-squared:                       0.908\n",
       "Model:                            OLS   Adj. R-squared:                  0.906\n",
       "Method:                 Least Squares   F-statistic:                     558.7\n",
       "Date:                Wed, 31 Oct 2018   Prob (F-statistic):          4.74e-173\n",
       "Time:                        12:23:15   Log-Likelihood:                -2327.2\n",
       "No. Observations:                 348   AIC:                             4668.\n",
       "Df Residuals:                     341   BIC:                             4695.\n",
       "Df Model:                           6                                         \n",
       "Covariance Type:            nonrobust                                         \n",
       "==============================================================================\n",
       "                 coef    std err          t      P>|t|      [0.025      0.975]\n",
       "------------------------------------------------------------------------------\n",
       "Intercept    -59.8017     14.978     -3.993      0.000     -89.262     -30.341\n",
       "Population     0.0214      0.001     19.975      0.000       0.019       0.024\n",
       "Murder        -9.4214     15.270     -0.617      0.538     -39.457      20.614\n",
       "Rape          39.3314      4.355      9.032      0.000      30.766      47.897\n",
       "Robbery       -0.2284      1.022     -0.223      0.823      -2.238       1.781\n",
       "Assault        2.5851      0.633      4.086      0.000       1.341       3.829\n",
       "Pop_Sqr    -9.473e-08   8.39e-09    -11.297      0.000   -1.11e-07   -7.82e-08\n",
       "==============================================================================\n",
       "Omnibus:                       56.188   Durbin-Watson:                   2.148\n",
       "Prob(Omnibus):                  0.000   Jarque-Bera (JB):              564.752\n",
       "Skew:                           0.184   Prob(JB):                    2.32e-123\n",
       "Kurtosis:                       9.230   Cond. No.                     4.91e+09\n",
       "==============================================================================\n",
       "\n",
       "Warnings:\n",
       "[1] Standard Errors assume that the covariance matrix of the errors is correctly specified.\n",
       "[2] The condition number is large, 4.91e+09. This might indicate that there are\n",
       "strong multicollinearity or other numerical problems.\n",
       "\"\"\""
      ]
     },
     "execution_count": 4,
     "metadata": {},
     "output_type": "execute_result"
    }
   ],
   "source": [
    "orig_model.summary()"
   ]
  },
  {
   "cell_type": "code",
   "execution_count": 5,
   "metadata": {},
   "outputs": [],
   "source": [
    "# NEW MODEL\n",
    "new = 'Prop_Cr ~ Population+Rape'\n",
    "new_model = smf.ols(formula=new, data=features).fit()"
   ]
  },
  {
   "cell_type": "markdown",
   "metadata": {},
   "source": [
    "### Murder and Robbery removed, model appears to still predict well.  I actually went back and included Violent Crime as a column, wondering if maybe it could act as PCA; it worsened the model.  Best I've found is: \n",
    "### Population + Rape"
   ]
  },
  {
   "cell_type": "code",
   "execution_count": 6,
   "metadata": {},
   "outputs": [
    {
     "data": {
      "text/html": [
       "<table class=\"simpletable\">\n",
       "<tr>\n",
       "        <td>Model:</td>               <td>OLS</td>         <td>Adj. R-squared:</td>     <td>0.870</td>  \n",
       "</tr>\n",
       "<tr>\n",
       "  <td>Dependent Variable:</td>      <td>Prop_Cr</td>            <td>AIC:</td>         <td>4777.1622</td>\n",
       "</tr>\n",
       "<tr>\n",
       "         <td>Date:</td>        <td>2018-10-31 12:23</td>        <td>BIC:</td>         <td>4788.7188</td>\n",
       "</tr>\n",
       "<tr>\n",
       "   <td>No. Observations:</td>         <td>348</td>         <td>Log-Likelihood:</td>    <td>-2385.6</td> \n",
       "</tr>\n",
       "<tr>\n",
       "       <td>Df Model:</td>              <td>2</td>           <td>F-statistic:</td>       <td>1163.</td>  \n",
       "</tr>\n",
       "<tr>\n",
       "     <td>Df Residuals:</td>           <td>345</td>       <td>Prob (F-statistic):</td> <td>4.75e-154</td>\n",
       "</tr>\n",
       "<tr>\n",
       "      <td>R-squared:</td>            <td>0.871</td>            <td>Scale:</td>         <td>53158.</td>  \n",
       "</tr>\n",
       "</table>\n",
       "<table class=\"simpletable\">\n",
       "<tr>\n",
       "       <td></td>       <th>Coef.</th>  <th>Std.Err.</th>    <th>t</th>     <th>P>|t|</th>  <th>[0.025</th>  <th>0.975]</th> \n",
       "</tr>\n",
       "<tr>\n",
       "  <th>Intercept</th>  <td>14.4655</td>  <td>14.9159</td> <td>0.9698</td>  <td>0.3328</td> <td>-14.8721</td> <td>43.8031</td>\n",
       "</tr>\n",
       "<tr>\n",
       "  <th>Population</th> <td>0.0126</td>   <td>0.0007</td>  <td>17.5468</td> <td>0.0000</td>  <td>0.0112</td>  <td>0.0140</td> \n",
       "</tr>\n",
       "<tr>\n",
       "  <th>Rape</th>       <td>61.4214</td>  <td>2.8266</td>  <td>21.7298</td> <td>0.0000</td>  <td>55.8619</td> <td>66.9810</td>\n",
       "</tr>\n",
       "</table>\n",
       "<table class=\"simpletable\">\n",
       "<tr>\n",
       "     <td>Omnibus:</td>    <td>95.637</td>  <td>Durbin-Watson:</td>     <td>2.072</td> \n",
       "</tr>\n",
       "<tr>\n",
       "  <td>Prob(Omnibus):</td>  <td>0.000</td> <td>Jarque-Bera (JB):</td> <td>3733.460</td>\n",
       "</tr>\n",
       "<tr>\n",
       "       <td>Skew:</td>      <td>0.203</td>     <td>Prob(JB):</td>       <td>0.000</td> \n",
       "</tr>\n",
       "<tr>\n",
       "     <td>Kurtosis:</td>   <td>19.041</td>  <td>Condition No.:</td>     <td>33505</td> \n",
       "</tr>\n",
       "</table>"
      ],
      "text/plain": [
       "<class 'statsmodels.iolib.summary2.Summary'>\n",
       "\"\"\"\n",
       "                 Results: Ordinary least squares\n",
       "==================================================================\n",
       "Model:              OLS              Adj. R-squared:     0.870    \n",
       "Dependent Variable: Prop_Cr          AIC:                4777.1622\n",
       "Date:               2018-10-31 12:23 BIC:                4788.7188\n",
       "No. Observations:   348              Log-Likelihood:     -2385.6  \n",
       "Df Model:           2                F-statistic:        1163.    \n",
       "Df Residuals:       345              Prob (F-statistic): 4.75e-154\n",
       "R-squared:          0.871            Scale:              53158.   \n",
       "-------------------------------------------------------------------\n",
       "               Coef.   Std.Err.     t     P>|t|    [0.025    0.975]\n",
       "-------------------------------------------------------------------\n",
       "Intercept     14.4655   14.9159   0.9698  0.3328  -14.8721  43.8031\n",
       "Population     0.0126    0.0007  17.5468  0.0000    0.0112   0.0140\n",
       "Rape          61.4214    2.8266  21.7298  0.0000   55.8619  66.9810\n",
       "------------------------------------------------------------------\n",
       "Omnibus:             95.637       Durbin-Watson:          2.072   \n",
       "Prob(Omnibus):       0.000        Jarque-Bera (JB):       3733.460\n",
       "Skew:                0.203        Prob(JB):               0.000   \n",
       "Kurtosis:            19.041       Condition No.:          33505   \n",
       "==================================================================\n",
       "* The condition number is large (3e+04). This might indicate\n",
       "strong multicollinearity or other numerical problems.\n",
       "\"\"\""
      ]
     },
     "execution_count": 6,
     "metadata": {},
     "output_type": "execute_result"
    }
   ],
   "source": [
    "# Also looking at the (slight) difference between the summary types\n",
    "new_model.summary2()"
   ]
  },
  {
   "cell_type": "markdown",
   "metadata": {},
   "source": [
    "### Here's the original model cross-validating on the same 2013 data, just to see how it does.  Below that I'll try the new model."
   ]
  },
  {
   "cell_type": "code",
   "execution_count": 7,
   "metadata": {},
   "outputs": [
    {
     "name": "stdout",
     "output_type": "stream",
     "text": [
      "Scores across 6 folds:\n",
      "[0.92557069 0.71731736 0.76905888 0.85149616 0.86491103 0.93520581]\n",
      "Overall mean: 0.843926653431895\n"
     ]
    },
    {
     "name": "stderr",
     "output_type": "stream",
     "text": [
      "/Library/Frameworks/Python.framework/Versions/3.7/lib/python3.7/site-packages/sklearn/linear_model/base.py:485: RuntimeWarning: internal gelsd driver lwork query error, required iwork dimension not returned. This is likely the result of LAPACK bug 0038, fixed in LAPACK 3.2.2 (released July 21, 2010). Falling back to 'gelss' driver.\n",
      "  linalg.lstsq(X, y)\n"
     ]
    }
   ],
   "source": [
    "from sklearn.model_selection import cross_val_score\n",
    "\n",
    "# ORIGINAL MODEL, 2013 DATA\n",
    "regr = linear_model.LinearRegression()\n",
    "Y = features[\"Prop_Cr\"]\n",
    "X = features[[\"Population\", \"Murder\", \"Rape\", \"Robbery\", \"Assault\", \"Pop_Sqr\"]]\n",
    "regr.fit(X, Y)\n",
    "\n",
    "scores = cross_val_score(regr, X, Y, cv=6)\n",
    "print(f\"Scores across {len(scores)} folds:\\n{scores}\\nOverall mean: {scores.mean()}\")"
   ]
  },
  {
   "cell_type": "code",
   "execution_count": 8,
   "metadata": {},
   "outputs": [
    {
     "name": "stdout",
     "output_type": "stream",
     "text": [
      "Scores across 6 folds:\n",
      "[0.91205699 0.63887995 0.78657279 0.79635956 0.88599312 0.83988352]\n",
      "Overall mean: 0.809957656460211\n"
     ]
    }
   ],
   "source": [
    "# NEW MODEL, 2013 DATA\n",
    "new_regr = linear_model.LinearRegression()\n",
    "new_Y = features[\"Prop_Cr\"]\n",
    "new_X = features[[\"Population\", \"Rape\"]]\n",
    "new_regr.fit(new_X, new_Y)\n",
    "\n",
    "new_scores = cross_val_score(new_regr, new_X, new_Y, cv=6)\n",
    "print(f\"Scores across {len(new_scores)} folds:\\n{new_scores}\\nOverall mean: {new_scores.mean()}\")"
   ]
  },
  {
   "cell_type": "markdown",
   "metadata": {},
   "source": [
    "### Now, let's try a new dataset, NY 2014.  I'm going to clean the data up as before and just import the cleaned file."
   ]
  },
  {
   "cell_type": "code",
   "execution_count": 9,
   "metadata": {},
   "outputs": [
    {
     "data": {
      "text/html": [
       "<div>\n",
       "<style scoped>\n",
       "    .dataframe tbody tr th:only-of-type {\n",
       "        vertical-align: middle;\n",
       "    }\n",
       "\n",
       "    .dataframe tbody tr th {\n",
       "        vertical-align: top;\n",
       "    }\n",
       "\n",
       "    .dataframe thead th {\n",
       "        text-align: right;\n",
       "    }\n",
       "</style>\n",
       "<table border=\"1\" class=\"dataframe\">\n",
       "  <thead>\n",
       "    <tr style=\"text-align: right;\">\n",
       "      <th></th>\n",
       "      <th>Population</th>\n",
       "      <th>Murder</th>\n",
       "      <th>Rape</th>\n",
       "      <th>Robbery</th>\n",
       "      <th>Assault</th>\n",
       "      <th>Prop_Cr</th>\n",
       "      <th>Pop_Sqr</th>\n",
       "    </tr>\n",
       "  </thead>\n",
       "  <tbody>\n",
       "    <tr>\n",
       "      <th>0</th>\n",
       "      <td>1851</td>\n",
       "      <td>0</td>\n",
       "      <td>0</td>\n",
       "      <td>0</td>\n",
       "      <td>0</td>\n",
       "      <td>11</td>\n",
       "      <td>3426201</td>\n",
       "    </tr>\n",
       "    <tr>\n",
       "      <th>1</th>\n",
       "      <td>2568</td>\n",
       "      <td>0</td>\n",
       "      <td>0</td>\n",
       "      <td>1</td>\n",
       "      <td>1</td>\n",
       "      <td>49</td>\n",
       "      <td>6594624</td>\n",
       "    </tr>\n",
       "    <tr>\n",
       "      <th>2</th>\n",
       "      <td>820</td>\n",
       "      <td>0</td>\n",
       "      <td>0</td>\n",
       "      <td>0</td>\n",
       "      <td>0</td>\n",
       "      <td>1</td>\n",
       "      <td>672400</td>\n",
       "    </tr>\n",
       "    <tr>\n",
       "      <th>3</th>\n",
       "      <td>2842</td>\n",
       "      <td>0</td>\n",
       "      <td>0</td>\n",
       "      <td>0</td>\n",
       "      <td>1</td>\n",
       "      <td>17</td>\n",
       "      <td>8076964</td>\n",
       "    </tr>\n",
       "    <tr>\n",
       "      <th>4</th>\n",
       "      <td>98595</td>\n",
       "      <td>8</td>\n",
       "      <td>54</td>\n",
       "      <td>237</td>\n",
       "      <td>503</td>\n",
       "      <td>3888</td>\n",
       "      <td>9720974025</td>\n",
       "    </tr>\n",
       "  </tbody>\n",
       "</table>\n",
       "</div>"
      ],
      "text/plain": [
       "   Population  Murder  Rape  Robbery  Assault  Prop_Cr     Pop_Sqr\n",
       "0        1851       0     0        0        0       11     3426201\n",
       "1        2568       0     0        1        1       49     6594624\n",
       "2         820       0     0        0        0        1      672400\n",
       "3        2842       0     0        0        1       17     8076964\n",
       "4       98595       8    54      237      503     3888  9720974025"
      ]
     },
     "execution_count": 9,
     "metadata": {},
     "output_type": "execute_result"
    }
   ],
   "source": [
    "# Removing spaces in column names\n",
    "feats2014 = pd.read_csv(\"feats2014.csv\")\n",
    "feats2014.rename(columns={\"Aggr Assault\":\"Assault\",\n",
    "                         \"Property Crime\":\"Prop_Cr\",\n",
    "                         \"Pop Squared\":\"Pop_Sqr\"}, inplace=True)\n",
    "feats2014.head()"
   ]
  },
  {
   "cell_type": "markdown",
   "metadata": {},
   "source": [
    "### First test the original, then the revised model on the NEW 2014 DATA"
   ]
  },
  {
   "cell_type": "code",
   "execution_count": 10,
   "metadata": {},
   "outputs": [
    {
     "name": "stdout",
     "output_type": "stream",
     "text": [
      "Scores across 6 folds:\n",
      "[0.94505837 0.73561793 0.8027137  0.806095   0.86783502 0.92747772]\n",
      "Overall mean: 0.8474662908063245\n"
     ]
    }
   ],
   "source": [
    "# ORIGINAL MODEL, 2014 DATA\n",
    "regr = linear_model.LinearRegression()\n",
    "Y = feats2014[\"Prop_Cr\"]\n",
    "X = feats2014[[\"Population\", \"Murder\", \"Rape\", \"Robbery\", \"Assault\", \"Pop_Sqr\"]]\n",
    "regr.fit(X, Y)\n",
    "\n",
    "scores = cross_val_score(regr, X, Y, cv=6)\n",
    "print(f\"Scores across {len(scores)} folds:\\n{scores}\\nOverall mean: {scores.mean()}\")"
   ]
  },
  {
   "cell_type": "code",
   "execution_count": 11,
   "metadata": {},
   "outputs": [
    {
     "name": "stdout",
     "output_type": "stream",
     "text": [
      "Scores across 6 folds:\n",
      "[0.91162853 0.73846358 0.80827315 0.72147823 0.87786821 0.80412732]\n",
      "Overall mean: 0.8103065033351647\n"
     ]
    }
   ],
   "source": [
    "# NEW MODEL, 2014 DATA\n",
    "new_regr = linear_model.LinearRegression()\n",
    "new_Y = feats2014[\"Prop_Cr\"]\n",
    "new_X = feats2014[[\"Population\", \"Rape\"]]\n",
    "new_regr.fit(new_X, new_Y)\n",
    "\n",
    "new_scores = cross_val_score(new_regr, new_X, new_Y, cv=6)\n",
    "print(f\"Scores across {len(new_scores)} folds:\\n{new_scores}\\nOverall mean: {new_scores.mean()}\")"
   ]
  },
  {
   "cell_type": "code",
   "execution_count": 19,
   "metadata": {},
   "outputs": [
    {
     "data": {
      "text/html": [
       "<table class=\"simpletable\">\n",
       "<tr>\n",
       "        <td>Model:</td>               <td>OLS</td>         <td>Adj. R-squared:</td>     <td>0.910</td>  \n",
       "</tr>\n",
       "<tr>\n",
       "  <td>Dependent Variable:</td>      <td>Prop_Cr</td>            <td>AIC:</td>         <td>4921.2944</td>\n",
       "</tr>\n",
       "<tr>\n",
       "         <td>Date:</td>        <td>2018-10-31 12:26</td>        <td>BIC:</td>         <td>4948.6699</td>\n",
       "</tr>\n",
       "<tr>\n",
       "   <td>No. Observations:</td>         <td>369</td>         <td>Log-Likelihood:</td>    <td>-2453.6</td> \n",
       "</tr>\n",
       "<tr>\n",
       "       <td>Df Model:</td>              <td>6</td>           <td>F-statistic:</td>       <td>619.4</td>  \n",
       "</tr>\n",
       "<tr>\n",
       "     <td>Df Residuals:</td>           <td>362</td>       <td>Prob (F-statistic):</td> <td>5.81e-187</td>\n",
       "</tr>\n",
       "<tr>\n",
       "      <td>R-squared:</td>            <td>0.911</td>            <td>Scale:</td>         <td>35603.</td>  \n",
       "</tr>\n",
       "</table>\n",
       "<table class=\"simpletable\">\n",
       "<tr>\n",
       "       <td></td>        <th>Coef.</th>  <th>Std.Err.</th>    <th>t</th>     <th>P>|t|</th>  <th>[0.025</th>   <th>0.975]</th> \n",
       "</tr>\n",
       "<tr>\n",
       "  <th>Intercept</th>  <td>-45.6668</td>  <td>13.7129</td> <td>-3.3302</td> <td>0.0010</td> <td>-72.6338</td> <td>-18.6998</td>\n",
       "</tr>\n",
       "<tr>\n",
       "  <th>Population</th>  <td>0.0187</td>   <td>0.0010</td>  <td>18.2762</td> <td>0.0000</td>  <td>0.0167</td>   <td>0.0207</td> \n",
       "</tr>\n",
       "<tr>\n",
       "  <th>Murder</th>     <td>126.3392</td>  <td>13.9234</td> <td>9.0739</td>  <td>0.0000</td>  <td>98.9583</td> <td>153.7200</td>\n",
       "</tr>\n",
       "<tr>\n",
       "  <th>Rape</th>        <td>19.3445</td>  <td>1.9579</td>  <td>9.8802</td>  <td>0.0000</td>  <td>15.4942</td>  <td>23.1948</td>\n",
       "</tr>\n",
       "<tr>\n",
       "  <th>Assault</th>     <td>3.2291</td>   <td>0.5505</td>  <td>5.8661</td>  <td>0.0000</td>  <td>2.1466</td>   <td>4.3117</td> \n",
       "</tr>\n",
       "<tr>\n",
       "  <th>Robbery</th>     <td>-5.4968</td>  <td>1.0359</td>  <td>-5.3063</td> <td>0.0000</td>  <td>-7.5340</td>  <td>-3.4597</td>\n",
       "</tr>\n",
       "<tr>\n",
       "  <th>Pop_Sqr</th>     <td>-0.0000</td>  <td>0.0000</td>  <td>-7.5252</td> <td>0.0000</td>  <td>-0.0000</td>  <td>-0.0000</td>\n",
       "</tr>\n",
       "</table>\n",
       "<table class=\"simpletable\">\n",
       "<tr>\n",
       "     <td>Omnibus:</td>    <td>107.798</td>  <td>Durbin-Watson:</td>      <td>2.050</td>  \n",
       "</tr>\n",
       "<tr>\n",
       "  <td>Prob(Omnibus):</td>  <td>0.000</td>  <td>Jarque-Bera (JB):</td>  <td>1298.689</td> \n",
       "</tr>\n",
       "<tr>\n",
       "       <td>Skew:</td>      <td>0.846</td>      <td>Prob(JB):</td>        <td>0.000</td>  \n",
       "</tr>\n",
       "<tr>\n",
       "     <td>Kurtosis:</td>   <td>12.034</td>   <td>Condition No.:</td>   <td>4888215079</td>\n",
       "</tr>\n",
       "</table>"
      ],
      "text/plain": [
       "<class 'statsmodels.iolib.summary2.Summary'>\n",
       "\"\"\"\n",
       "                 Results: Ordinary least squares\n",
       "==================================================================\n",
       "Model:              OLS              Adj. R-squared:     0.910    \n",
       "Dependent Variable: Prop_Cr          AIC:                4921.2944\n",
       "Date:               2018-10-31 12:26 BIC:                4948.6699\n",
       "No. Observations:   369              Log-Likelihood:     -2453.6  \n",
       "Df Model:           6                F-statistic:        619.4    \n",
       "Df Residuals:       362              Prob (F-statistic): 5.81e-187\n",
       "R-squared:          0.911            Scale:              35603.   \n",
       "-------------------------------------------------------------------\n",
       "             Coef.    Std.Err.     t     P>|t|    [0.025    0.975] \n",
       "-------------------------------------------------------------------\n",
       "Intercept   -45.6668   13.7129  -3.3302  0.0010  -72.6338  -18.6998\n",
       "Population    0.0187    0.0010  18.2762  0.0000    0.0167    0.0207\n",
       "Murder      126.3392   13.9234   9.0739  0.0000   98.9583  153.7200\n",
       "Rape         19.3445    1.9579   9.8802  0.0000   15.4942   23.1948\n",
       "Assault       3.2291    0.5505   5.8661  0.0000    2.1466    4.3117\n",
       "Robbery      -5.4968    1.0359  -5.3063  0.0000   -7.5340   -3.4597\n",
       "Pop_Sqr      -0.0000    0.0000  -7.5252  0.0000   -0.0000   -0.0000\n",
       "------------------------------------------------------------------\n",
       "Omnibus:            107.798      Durbin-Watson:         2.050     \n",
       "Prob(Omnibus):      0.000        Jarque-Bera (JB):      1298.689  \n",
       "Skew:               0.846        Prob(JB):              0.000     \n",
       "Kurtosis:           12.034       Condition No.:         4888215079\n",
       "==================================================================\n",
       "* The condition number is large (5e+09). This might indicate\n",
       "strong multicollinearity or other numerical problems.\n",
       "\"\"\""
      ]
     },
     "execution_count": 19,
     "metadata": {},
     "output_type": "execute_result"
    }
   ],
   "source": [
    "original = 'Prop_Cr ~ Population+Murder+Rape+Assault+Robbery+Pop_Sqr'\n",
    "orig_model = smf.ols(formula=original, data=feats2014).fit()\n",
    "orig_model.summary2()"
   ]
  },
  {
   "cell_type": "code",
   "execution_count": 13,
   "metadata": {},
   "outputs": [
    {
     "data": {
      "text/html": [
       "<table class=\"simpletable\">\n",
       "<tr>\n",
       "        <td>Model:</td>               <td>OLS</td>         <td>Adj. R-squared:</td>     <td>0.844</td>  \n",
       "</tr>\n",
       "<tr>\n",
       "  <td>Dependent Variable:</td>      <td>Prop_Cr</td>            <td>AIC:</td>         <td>5118.5307</td>\n",
       "</tr>\n",
       "<tr>\n",
       "         <td>Date:</td>        <td>2018-10-31 12:23</td>        <td>BIC:</td>         <td>5130.2631</td>\n",
       "</tr>\n",
       "<tr>\n",
       "   <td>No. Observations:</td>         <td>369</td>         <td>Log-Likelihood:</td>    <td>-2556.3</td> \n",
       "</tr>\n",
       "<tr>\n",
       "       <td>Df Model:</td>              <td>2</td>           <td>F-statistic:</td>       <td>999.2</td>  \n",
       "</tr>\n",
       "<tr>\n",
       "     <td>Df Residuals:</td>           <td>366</td>       <td>Prob (F-statistic):</td> <td>5.29e-149</td>\n",
       "</tr>\n",
       "<tr>\n",
       "      <td>R-squared:</td>            <td>0.845</td>            <td>Scale:</td>         <td>61413.</td>  \n",
       "</tr>\n",
       "</table>\n",
       "<table class=\"simpletable\">\n",
       "<tr>\n",
       "       <td></td>       <th>Coef.</th>  <th>Std.Err.</th>    <th>t</th>     <th>P>|t|</th>  <th>[0.025</th>  <th>0.975]</th> \n",
       "</tr>\n",
       "<tr>\n",
       "  <th>Intercept</th>  <td>8.6782</td>   <td>15.3279</td> <td>0.5662</td>  <td>0.5716</td> <td>-21.4636</td> <td>38.8199</td>\n",
       "</tr>\n",
       "<tr>\n",
       "  <th>Population</th> <td>0.0125</td>   <td>0.0008</td>  <td>16.2123</td> <td>0.0000</td>  <td>0.0110</td>  <td>0.0140</td> \n",
       "</tr>\n",
       "<tr>\n",
       "  <th>Rape</th>       <td>34.8303</td>  <td>1.8604</td>  <td>18.7222</td> <td>0.0000</td>  <td>31.1719</td> <td>38.4886</td>\n",
       "</tr>\n",
       "</table>\n",
       "<table class=\"simpletable\">\n",
       "<tr>\n",
       "     <td>Omnibus:</td>    <td>153.979</td>  <td>Durbin-Watson:</td>     <td>1.999</td> \n",
       "</tr>\n",
       "<tr>\n",
       "  <td>Prob(Omnibus):</td>  <td>0.000</td>  <td>Jarque-Bera (JB):</td> <td>4223.539</td>\n",
       "</tr>\n",
       "<tr>\n",
       "       <td>Skew:</td>      <td>1.129</td>      <td>Prob(JB):</td>       <td>0.000</td> \n",
       "</tr>\n",
       "<tr>\n",
       "     <td>Kurtosis:</td>   <td>19.420</td>   <td>Condition No.:</td>     <td>32627</td> \n",
       "</tr>\n",
       "</table>"
      ],
      "text/plain": [
       "<class 'statsmodels.iolib.summary2.Summary'>\n",
       "\"\"\"\n",
       "                 Results: Ordinary least squares\n",
       "==================================================================\n",
       "Model:              OLS              Adj. R-squared:     0.844    \n",
       "Dependent Variable: Prop_Cr          AIC:                5118.5307\n",
       "Date:               2018-10-31 12:23 BIC:                5130.2631\n",
       "No. Observations:   369              Log-Likelihood:     -2556.3  \n",
       "Df Model:           2                F-statistic:        999.2    \n",
       "Df Residuals:       366              Prob (F-statistic): 5.29e-149\n",
       "R-squared:          0.845            Scale:              61413.   \n",
       "-------------------------------------------------------------------\n",
       "               Coef.   Std.Err.     t     P>|t|    [0.025    0.975]\n",
       "-------------------------------------------------------------------\n",
       "Intercept      8.6782   15.3279   0.5662  0.5716  -21.4636  38.8199\n",
       "Population     0.0125    0.0008  16.2123  0.0000    0.0110   0.0140\n",
       "Rape          34.8303    1.8604  18.7222  0.0000   31.1719  38.4886\n",
       "------------------------------------------------------------------\n",
       "Omnibus:              153.979      Durbin-Watson:         1.999   \n",
       "Prob(Omnibus):        0.000        Jarque-Bera (JB):      4223.539\n",
       "Skew:                 1.129        Prob(JB):              0.000   \n",
       "Kurtosis:             19.420       Condition No.:         32627   \n",
       "==================================================================\n",
       "* The condition number is large (3e+04). This might indicate\n",
       "strong multicollinearity or other numerical problems.\n",
       "\"\"\""
      ]
     },
     "execution_count": 13,
     "metadata": {},
     "output_type": "execute_result"
    }
   ],
   "source": [
    "new = 'Prop_Cr ~ Population+Rape'\n",
    "new_model = smf.ols(formula=new, data=feats2014).fit()\n",
    "new_model.summary2()"
   ]
  }
 ],
 "metadata": {
  "kernelspec": {
   "display_name": "Python 3",
   "language": "python",
   "name": "python3"
  },
  "language_info": {
   "codemirror_mode": {
    "name": "ipython",
    "version": 3
   },
   "file_extension": ".py",
   "mimetype": "text/x-python",
   "name": "python",
   "nbconvert_exporter": "python",
   "pygments_lexer": "ipython3",
   "version": "3.7.0"
  }
 },
 "nbformat": 4,
 "nbformat_minor": 2
}
