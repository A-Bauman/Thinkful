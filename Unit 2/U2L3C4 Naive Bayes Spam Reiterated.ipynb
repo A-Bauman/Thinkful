{
 "cells": [
  {
   "cell_type": "markdown",
   "metadata": {},
   "source": [
    "# Write-up here at top\n",
    "\n",
    "### Basically I iterated through and refined this several times.  I did more analysis toward the bottom to try and focus in on my problem areas, but found that I was starting to get too focused without any return.  Got rid of a few surprising features (xxx being one) as they had too many Type II errors.  It was a bit surprising.  \n",
    "\n",
    "### NLP will be the place to refine this, I think.\n",
    "\n",
    "### These texts are too varied to get too focused in and imbalanced, unless I loop through every one and start doing a word frequency count, and then set up filters based on those.  That would be problematic because of false positives.  The best thing was a bit of thought into my regular expressions, and not getting too many features going.\n",
    "\n",
    "### Surprisingly, caps underperformed and were actually a penalty (more non-spam messages were all caps than spam messages), so I removed that as a feature.  I didn't really seem to have overfitting, nor any significant improvements using cross-validation or holdouts; it all performed about the same.  I think the model is too simple to do very much here.\n",
    "\n",
    "### I was able to go from these numbers to those below:\n",
    "\n",
    "#Accuracy: 90.11%\n",
    "#Specificity: 98.86%\n",
    "#Sensitivity: 33.60%\n",
    "\n",
    "--------------------------------------------------------------------\n",
    "\n",
    "#Accuracy: 92.30%\n",
    "#Specificity: 98.13%\n",
    "#Sensitivity: 54.62%\n"
   ]
  },
  {
   "cell_type": "code",
   "execution_count": 1,
   "metadata": {},
   "outputs": [],
   "source": [
    "import numpy as np\n",
    "import pandas as pd\n",
    "import matplotlib.pyplot as plt\n",
    "import seaborn as sns\n",
    "%matplotlib inline"
   ]
  },
  {
   "cell_type": "code",
   "execution_count": 2,
   "metadata": {},
   "outputs": [],
   "source": [
    "# Note the delimeter is a tab rather than a comma.\n",
    "sms_raw = pd.read_csv('HamSpam', delimiter= '\\t', header=None)\n",
    "sms_raw.columns = ['spam', 'message']"
   ]
  },
  {
   "cell_type": "code",
   "execution_count": 3,
   "metadata": {},
   "outputs": [
    {
     "data": {
      "text/html": [
       "<div>\n",
       "<style scoped>\n",
       "    .dataframe tbody tr th:only-of-type {\n",
       "        vertical-align: middle;\n",
       "    }\n",
       "\n",
       "    .dataframe tbody tr th {\n",
       "        vertical-align: top;\n",
       "    }\n",
       "\n",
       "    .dataframe thead th {\n",
       "        text-align: right;\n",
       "    }\n",
       "</style>\n",
       "<table border=\"1\" class=\"dataframe\">\n",
       "  <thead>\n",
       "    <tr style=\"text-align: right;\">\n",
       "      <th></th>\n",
       "      <th>spam</th>\n",
       "      <th>message</th>\n",
       "    </tr>\n",
       "  </thead>\n",
       "  <tbody>\n",
       "    <tr>\n",
       "      <th>0</th>\n",
       "      <td>ham</td>\n",
       "      <td>Go until jurong point, crazy.. Available only ...</td>\n",
       "    </tr>\n",
       "    <tr>\n",
       "      <th>1</th>\n",
       "      <td>ham</td>\n",
       "      <td>Ok lar... Joking wif u oni...</td>\n",
       "    </tr>\n",
       "    <tr>\n",
       "      <th>2</th>\n",
       "      <td>spam</td>\n",
       "      <td>Free entry in 2 a wkly comp to win FA Cup fina...</td>\n",
       "    </tr>\n",
       "    <tr>\n",
       "      <th>3</th>\n",
       "      <td>ham</td>\n",
       "      <td>U dun say so early hor... U c already then say...</td>\n",
       "    </tr>\n",
       "    <tr>\n",
       "      <th>4</th>\n",
       "      <td>ham</td>\n",
       "      <td>Nah I don't think he goes to usf, he lives aro...</td>\n",
       "    </tr>\n",
       "  </tbody>\n",
       "</table>\n",
       "</div>"
      ],
      "text/plain": [
       "   spam                                            message\n",
       "0   ham  Go until jurong point, crazy.. Available only ...\n",
       "1   ham                      Ok lar... Joking wif u oni...\n",
       "2  spam  Free entry in 2 a wkly comp to win FA Cup fina...\n",
       "3   ham  U dun say so early hor... U c already then say...\n",
       "4   ham  Nah I don't think he goes to usf, he lives aro..."
      ]
     },
     "execution_count": 3,
     "metadata": {},
     "output_type": "execute_result"
    }
   ],
   "source": [
    "sms_raw.head()"
   ]
  },
  {
   "cell_type": "markdown",
   "metadata": {},
   "source": [
    "### Let's call this below 'Naive Aaron', as my first attempt"
   ]
  },
  {
   "cell_type": "code",
   "execution_count": 4,
   "metadata": {},
   "outputs": [],
   "source": [
    "# These are basic spammy words, using .split() as a trick to generate a list.\n",
    "keywords = \"click offer winner buy free cash urgent\".split()\n",
    "\n",
    "# Create new features as a separate column, and\n",
    "# populate with T/F of the keyword presence in message.\n",
    "for key in keywords:\n",
    "    sms_raw[str(key)] = sms_raw['message'].str.contains(' ' + str(key) + ' ', case=False)\n",
    "\n",
    "# Spammy all caps words.\n",
    "caps = [\"WINNER!\", \"URGENT!\", \"CASH!\", \"XXX\", \"GUARANTEED\"]\n",
    "\n",
    "for word in caps:\n",
    "    sms_raw[str(word)] = sms_raw['message'].str.contains(str(word), case=False)\n",
    "\n",
    "# If the entire message is in caps, classify as spam.\n",
    "sms_raw['allcaps'] = sms_raw['message'].str.isupper()"
   ]
  },
  {
   "cell_type": "code",
   "execution_count": 5,
   "metadata": {},
   "outputs": [
    {
     "data": {
      "text/html": [
       "<div>\n",
       "<style scoped>\n",
       "    .dataframe tbody tr th:only-of-type {\n",
       "        vertical-align: middle;\n",
       "    }\n",
       "\n",
       "    .dataframe tbody tr th {\n",
       "        vertical-align: top;\n",
       "    }\n",
       "\n",
       "    .dataframe thead th {\n",
       "        text-align: right;\n",
       "    }\n",
       "</style>\n",
       "<table border=\"1\" class=\"dataframe\">\n",
       "  <thead>\n",
       "    <tr style=\"text-align: right;\">\n",
       "      <th></th>\n",
       "      <th>spam</th>\n",
       "      <th>message</th>\n",
       "      <th>click</th>\n",
       "      <th>offer</th>\n",
       "      <th>winner</th>\n",
       "      <th>buy</th>\n",
       "      <th>free</th>\n",
       "      <th>cash</th>\n",
       "      <th>urgent</th>\n",
       "      <th>WINNER!</th>\n",
       "      <th>URGENT!</th>\n",
       "      <th>CASH!</th>\n",
       "      <th>XXX</th>\n",
       "      <th>GUARANTEED</th>\n",
       "      <th>allcaps</th>\n",
       "    </tr>\n",
       "  </thead>\n",
       "  <tbody>\n",
       "    <tr>\n",
       "      <th>0</th>\n",
       "      <td>ham</td>\n",
       "      <td>Go until jurong point, crazy.. Available only ...</td>\n",
       "      <td>False</td>\n",
       "      <td>False</td>\n",
       "      <td>False</td>\n",
       "      <td>False</td>\n",
       "      <td>False</td>\n",
       "      <td>False</td>\n",
       "      <td>False</td>\n",
       "      <td>False</td>\n",
       "      <td>False</td>\n",
       "      <td>False</td>\n",
       "      <td>False</td>\n",
       "      <td>False</td>\n",
       "      <td>False</td>\n",
       "    </tr>\n",
       "    <tr>\n",
       "      <th>1</th>\n",
       "      <td>ham</td>\n",
       "      <td>Ok lar... Joking wif u oni...</td>\n",
       "      <td>False</td>\n",
       "      <td>False</td>\n",
       "      <td>False</td>\n",
       "      <td>False</td>\n",
       "      <td>False</td>\n",
       "      <td>False</td>\n",
       "      <td>False</td>\n",
       "      <td>False</td>\n",
       "      <td>False</td>\n",
       "      <td>False</td>\n",
       "      <td>False</td>\n",
       "      <td>False</td>\n",
       "      <td>False</td>\n",
       "    </tr>\n",
       "  </tbody>\n",
       "</table>\n",
       "</div>"
      ],
      "text/plain": [
       "  spam                                            message  click  offer  \\\n",
       "0  ham  Go until jurong point, crazy.. Available only ...  False  False   \n",
       "1  ham                      Ok lar... Joking wif u oni...  False  False   \n",
       "\n",
       "   winner    buy   free   cash  urgent  WINNER!  URGENT!  CASH!    XXX  \\\n",
       "0   False  False  False  False   False    False    False  False  False   \n",
       "1   False  False  False  False   False    False    False  False  False   \n",
       "\n",
       "   GUARANTEED  allcaps  \n",
       "0       False    False  \n",
       "1       False    False  "
      ]
     },
     "execution_count": 5,
     "metadata": {},
     "output_type": "execute_result"
    }
   ],
   "source": [
    "sms_raw.head(2)"
   ]
  },
  {
   "cell_type": "code",
   "execution_count": 6,
   "metadata": {},
   "outputs": [],
   "source": [
    "# Only run once, or everything goes False.\n",
    "sms_raw['spam'] = (sms_raw['spam'] == 'spam')"
   ]
  },
  {
   "cell_type": "code",
   "execution_count": 7,
   "metadata": {},
   "outputs": [
    {
     "data": {
      "image/png": "[encoded data removed]",
      "text/plain": [
       "<Figure size 576x432 with 2 Axes>"
      ]
     },
     "metadata": {},
     "output_type": "display_data"
    }
   ],
   "source": [
    "def draw_htmap(df):\n",
    "    fig, ax = plt.subplots(figsize=(8,6))\n",
    "    sns.heatmap(df.corr())\n",
    "    plt.show()\n",
    "    \n",
    "draw_htmap(sms_raw)"
   ]
  },
  {
   "cell_type": "code",
   "execution_count": 8,
   "metadata": {},
   "outputs": [],
   "source": [
    "# Select each part of the overall df as either data or target.\n",
    "data = sms_raw.loc[:, \"click\":]\n",
    "target = sms_raw['spam']"
   ]
  },
  {
   "cell_type": "code",
   "execution_count": 9,
   "metadata": {},
   "outputs": [],
   "source": [
    "# The data is binary / boolean, so we're importing the Bernoulli classifier.\n",
    "from sklearn.naive_bayes import BernoulliNB\n",
    "from sklearn.naive_bayes import GaussianNB\n",
    "from sklearn.naive_bayes import ComplementNB\n",
    "from sklearn.naive_bayes import MultinomialNB\n",
    "\n",
    "# Instantiate our model and store it in a new variable.\n",
    "bnb = BernoulliNB()\n",
    "#bnb = GaussianNB()\n",
    "#bnb = ComplementNB()\n",
    "#bnb = MultinomialNB()\n",
    "\n",
    "# Combine 2 lines of code above into a single line here.\n",
    "y_pred = bnb.fit(data, target).predict(data)"
   ]
  },
  {
   "cell_type": "code",
   "execution_count": 10,
   "metadata": {},
   "outputs": [],
   "source": [
    "from sklearn.metrics import confusion_matrix\n",
    "\n",
    "def evaluate(data, target, predicted):\n",
    "    \"\"\"\n",
    "    Do all of the statistical evaluation of a classifier in one place.\n",
    "    IN: the data being tested, target labels and predicted labels\n",
    "    OUT: various tests, accuracy, specificity, sensitivity, and confusion matrix usage\n",
    "    \"\"\"\n",
    "    \n",
    "    total_points = data.shape[0]\n",
    "    hits = (target == predicted).sum()\n",
    "    misses = (target != predicted).sum()\n",
    "    accuracy = (hits / data.shape[0]) * 100\n",
    "    c_matr = confusion_matrix(target, y_pred)\n",
    "    real_ham = (target == False).sum()\n",
    "    real_spam = (target == True).sum()\n",
    "    specificity = (c_matr[0][0] / real_ham) * 100\n",
    "    sensitivity = (c_matr[1][1] / real_spam) * 100\n",
    "    \n",
    "    print(\"Total data points in the set: {}\".format(total_points))\n",
    "    \n",
    "    print(\"Correct: {} ({} true negatives and {} true positives)\".format(\n",
    "        hits, c_matr[0][0], c_matr[1][1]))\n",
    "    \n",
    "    print(\"Mislabeled: {} ({} Type I / false alarms and {} Type II / misses)\".format(\n",
    "        misses, c_matr[0][1], c_matr[1][0]))\n",
    "    \n",
    "    print(f\"Real test data: negatives {real_ham} positives {real_spam}\")  \n",
    "    print(f\"\\nAccuracy: {accuracy:.2f}%\\nSpecificity: {specificity:.2f}%\\nSensitivity: {sensitivity:.2f}%\")"
   ]
  },
  {
   "cell_type": "code",
   "execution_count": 11,
   "metadata": {},
   "outputs": [
    {
     "name": "stdout",
     "output_type": "stream",
     "text": [
      "Total data points in the set: 5572\n",
      "Correct: 5021 (4770 true negatives and 251 true positives)\n",
      "Mislabeled: 551 (55 Type I / false alarms and 496 Type II / misses)\n",
      "Real test data: negatives 4825 positives 747\n",
      "\n",
      "Accuracy: 90.11%\n",
      "Specificity: 98.86%\n",
      "Sensitivity: 33.60%\n"
     ]
    }
   ],
   "source": [
    "evaluate(data, target, y_pred)"
   ]
  },
  {
   "cell_type": "markdown",
   "metadata": {},
   "source": [
    "### Trying simple holdout group to see if it changes at all\n",
    "It did, but I'm not sure if that's significant or not"
   ]
  },
  {
   "cell_type": "code",
   "execution_count": 12,
   "metadata": {},
   "outputs": [
    {
     "name": "stdout",
     "output_type": "stream",
     "text": [
      "With 30.0% Holdout: 0.9120813397129187\n",
      "Testing on Sample: 0.9011127063890882\n"
     ]
    }
   ],
   "source": [
    "from sklearn.model_selection import train_test_split\n",
    "\n",
    "# Size is a percentage, 30% is apparently common,\n",
    "# but can be anything from 1 - 50%.\n",
    "holdout_size = 0.3\n",
    "X_train, X_test, y_train, y_test = train_test_split(data, target, test_size=holdout_size, random_state=50)\n",
    "\n",
    "print(f'With {holdout_size*100}% Holdout: ' + str(bnb.fit(X_train, y_train).score(X_test, y_test)))\n",
    "print('Testing on Sample: ' + str(bnb.fit(data, target).score(data, target)))"
   ]
  },
  {
   "cell_type": "markdown",
   "metadata": {},
   "source": [
    "### Now I'll do some cross-validation\n",
    "Up and down, but still clustered in essentially the same place; essentially no change, and worse than just a plain holdout."
   ]
  },
  {
   "cell_type": "code",
   "execution_count": 13,
   "metadata": {},
   "outputs": [
    {
     "data": {
      "text/plain": [
       "array([0.9058296 , 0.90044843, 0.90394973, 0.8940754 , 0.89856373])"
      ]
     },
     "execution_count": 13,
     "metadata": {},
     "output_type": "execute_result"
    }
   ],
   "source": [
    "from sklearn.model_selection import cross_val_score\n",
    "\n",
    "# Will try 5 splits and see\n",
    "cross_val_score(bnb, data, target, cv=5)"
   ]
  },
  {
   "cell_type": "markdown",
   "metadata": {},
   "source": [
    "### Time to modify some features"
   ]
  },
  {
   "cell_type": "code",
   "execution_count": 14,
   "metadata": {},
   "outputs": [],
   "source": [
    "# Reset the dataframe\n",
    "sms_raw = pd.read_csv('HamSpam', delimiter= '\\t', header=None)\n",
    "sms_raw.columns = ['spam', 'message']"
   ]
  },
  {
   "cell_type": "code",
   "execution_count": 15,
   "metadata": {},
   "outputs": [
    {
     "name": "stderr",
     "output_type": "stream",
     "text": [
      "/Library/Frameworks/Python.framework/Versions/3.7/lib/python3.7/site-packages/ipykernel_launcher.py:13: UserWarning: This pattern has match groups. To actually get the groups, use str.extract.\n",
      "  del sys.path[0]\n"
     ]
    }
   ],
   "source": [
    "# Get a bit more sophisticated with regexps\n",
    "keywords = ([r\"click\", \"click\"],\n",
    "            [r\"offer\", \"offer\"],\n",
    "            [r\"winner\", \"winner\"],\n",
    "            [r\"buy\", \"buy\"],\n",
    "            [r\"free\", \"free\"],\n",
    "            [r\"\\b(cash|CASH)!?\\b\", \"cash\"],\n",
    "            [r\"urgent\", \"urgent\"],\n",
    "            [r\"\\b(xxx|XXX)!?\\b\", \"xxx\"],\n",
    "            [r\"\\bGUARANTEED?!?\\b\", \"guarantee\"])\n",
    "\n",
    "for pattern, word in keywords:\n",
    "    sms_raw[str(word)] = sms_raw['message'].str.contains(pattern, case=False)\n",
    "\n",
    "# If the entire message is in caps, classify as spam.\n",
    "sms_raw['allcaps'] = sms_raw['message'].str.isupper()"
   ]
  },
  {
   "cell_type": "code",
   "execution_count": 16,
   "metadata": {},
   "outputs": [],
   "source": [
    "# Only run once, or everything goes False.\n",
    "sms_raw['spam'] = (sms_raw['spam'] == 'spam')"
   ]
  },
  {
   "cell_type": "code",
   "execution_count": 17,
   "metadata": {},
   "outputs": [
    {
     "data": {
      "text/html": [
       "<div>\n",
       "<style scoped>\n",
       "    .dataframe tbody tr th:only-of-type {\n",
       "        vertical-align: middle;\n",
       "    }\n",
       "\n",
       "    .dataframe tbody tr th {\n",
       "        vertical-align: top;\n",
       "    }\n",
       "\n",
       "    .dataframe thead th {\n",
       "        text-align: right;\n",
       "    }\n",
       "</style>\n",
       "<table border=\"1\" class=\"dataframe\">\n",
       "  <thead>\n",
       "    <tr style=\"text-align: right;\">\n",
       "      <th></th>\n",
       "      <th>spam</th>\n",
       "      <th>message</th>\n",
       "      <th>click</th>\n",
       "      <th>offer</th>\n",
       "      <th>winner</th>\n",
       "      <th>buy</th>\n",
       "      <th>free</th>\n",
       "      <th>cash</th>\n",
       "      <th>urgent</th>\n",
       "      <th>xxx</th>\n",
       "      <th>guarantee</th>\n",
       "      <th>allcaps</th>\n",
       "    </tr>\n",
       "  </thead>\n",
       "  <tbody>\n",
       "    <tr>\n",
       "      <th>0</th>\n",
       "      <td>False</td>\n",
       "      <td>Go until jurong point, crazy.. Available only ...</td>\n",
       "      <td>False</td>\n",
       "      <td>False</td>\n",
       "      <td>False</td>\n",
       "      <td>False</td>\n",
       "      <td>False</td>\n",
       "      <td>False</td>\n",
       "      <td>False</td>\n",
       "      <td>False</td>\n",
       "      <td>False</td>\n",
       "      <td>False</td>\n",
       "    </tr>\n",
       "    <tr>\n",
       "      <th>1</th>\n",
       "      <td>False</td>\n",
       "      <td>Ok lar... Joking wif u oni...</td>\n",
       "      <td>False</td>\n",
       "      <td>False</td>\n",
       "      <td>False</td>\n",
       "      <td>False</td>\n",
       "      <td>False</td>\n",
       "      <td>False</td>\n",
       "      <td>False</td>\n",
       "      <td>False</td>\n",
       "      <td>False</td>\n",
       "      <td>False</td>\n",
       "    </tr>\n",
       "    <tr>\n",
       "      <th>2</th>\n",
       "      <td>True</td>\n",
       "      <td>Free entry in 2 a wkly comp to win FA Cup fina...</td>\n",
       "      <td>False</td>\n",
       "      <td>False</td>\n",
       "      <td>False</td>\n",
       "      <td>False</td>\n",
       "      <td>True</td>\n",
       "      <td>False</td>\n",
       "      <td>False</td>\n",
       "      <td>False</td>\n",
       "      <td>False</td>\n",
       "      <td>False</td>\n",
       "    </tr>\n",
       "    <tr>\n",
       "      <th>3</th>\n",
       "      <td>False</td>\n",
       "      <td>U dun say so early hor... U c already then say...</td>\n",
       "      <td>False</td>\n",
       "      <td>False</td>\n",
       "      <td>False</td>\n",
       "      <td>False</td>\n",
       "      <td>False</td>\n",
       "      <td>False</td>\n",
       "      <td>False</td>\n",
       "      <td>False</td>\n",
       "      <td>False</td>\n",
       "      <td>False</td>\n",
       "    </tr>\n",
       "    <tr>\n",
       "      <th>4</th>\n",
       "      <td>False</td>\n",
       "      <td>Nah I don't think he goes to usf, he lives aro...</td>\n",
       "      <td>False</td>\n",
       "      <td>False</td>\n",
       "      <td>False</td>\n",
       "      <td>False</td>\n",
       "      <td>False</td>\n",
       "      <td>False</td>\n",
       "      <td>False</td>\n",
       "      <td>False</td>\n",
       "      <td>False</td>\n",
       "      <td>False</td>\n",
       "    </tr>\n",
       "  </tbody>\n",
       "</table>\n",
       "</div>"
      ],
      "text/plain": [
       "    spam                                            message  click  offer  \\\n",
       "0  False  Go until jurong point, crazy.. Available only ...  False  False   \n",
       "1  False                      Ok lar... Joking wif u oni...  False  False   \n",
       "2   True  Free entry in 2 a wkly comp to win FA Cup fina...  False  False   \n",
       "3  False  U dun say so early hor... U c already then say...  False  False   \n",
       "4  False  Nah I don't think he goes to usf, he lives aro...  False  False   \n",
       "\n",
       "   winner    buy   free   cash  urgent    xxx  guarantee  allcaps  \n",
       "0   False  False  False  False   False  False      False    False  \n",
       "1   False  False  False  False   False  False      False    False  \n",
       "2   False  False   True  False   False  False      False    False  \n",
       "3   False  False  False  False   False  False      False    False  \n",
       "4   False  False  False  False   False  False      False    False  "
      ]
     },
     "execution_count": 17,
     "metadata": {},
     "output_type": "execute_result"
    }
   ],
   "source": [
    "sms_raw.head()"
   ]
  },
  {
   "cell_type": "code",
   "execution_count": 18,
   "metadata": {},
   "outputs": [],
   "source": [
    "# Select each part of the overall df as either data or target.\n",
    "data = sms_raw.loc[:, \"click\":]\n",
    "target = sms_raw['spam']"
   ]
  },
  {
   "cell_type": "code",
   "execution_count": 19,
   "metadata": {},
   "outputs": [
    {
     "data": {
      "image/png": "[encoded data removed]",
      "text/plain": [
       "<Figure size 576x432 with 2 Axes>"
      ]
     },
     "metadata": {},
     "output_type": "display_data"
    }
   ],
   "source": [
    "draw_htmap(sms_raw)"
   ]
  },
  {
   "cell_type": "code",
   "execution_count": 20,
   "metadata": {},
   "outputs": [
    {
     "name": "stdout",
     "output_type": "stream",
     "text": [
      "With 30.0% Holdout: 0.9222488038277512\n",
      "Testing on Sample: 0.9124192390524049\n"
     ]
    }
   ],
   "source": [
    "holdout_size = 0.3\n",
    "X_train, X_test, y_train, y_test = train_test_split(data, target, test_size=holdout_size, random_state=50)\n",
    "\n",
    "print(f'With {holdout_size*100}% Holdout: ' + str(bnb.fit(X_train, y_train).score(X_test, y_test)))\n",
    "print('Testing on Sample: ' + str(bnb.fit(data, target).score(data, target)))"
   ]
  },
  {
   "cell_type": "code",
   "execution_count": 21,
   "metadata": {},
   "outputs": [
    {
     "name": "stdout",
     "output_type": "stream",
     "text": [
      "Total data points in the set: 5572\n",
      "Correct: 5084 (4732 true negatives and 352 true positives)\n",
      "Mislabeled: 488 (93 Type I / false alarms and 395 Type II / misses)\n",
      "Real test data: negatives 4825 positives 747\n",
      "\n",
      "Accuracy: 91.24%\n",
      "Specificity: 98.07%\n",
      "Sensitivity: 47.12%\n"
     ]
    }
   ],
   "source": [
    "y_pred = bnb.fit(data, target).predict(data)\n",
    "evaluate(data, target, y_pred)"
   ]
  },
  {
   "cell_type": "code",
   "execution_count": 22,
   "metadata": {},
   "outputs": [],
   "source": [
    "# Reset the dataframe\n",
    "sms_raw = pd.read_csv('HamSpam', delimiter= '\\t', header=None)\n",
    "sms_raw.columns = ['spam', 'message']"
   ]
  },
  {
   "cell_type": "code",
   "execution_count": 23,
   "metadata": {},
   "outputs": [
    {
     "name": "stderr",
     "output_type": "stream",
     "text": [
      "/Library/Frameworks/Python.framework/Versions/3.7/lib/python3.7/site-packages/ipykernel_launcher.py:15: UserWarning: This pattern has match groups. To actually get the groups, use str.extract.\n",
      "  from ipykernel import kernelapp as app\n"
     ]
    }
   ],
   "source": [
    "# Get a bit more sophisticated with regexps\n",
    "keywords = ([r\"\\b(click|CLICK)!?\\b\", \"click\"],\n",
    "            [r\"\\b(offer|OFFER)!?\\b\", \"offer\"],\n",
    "            [r\"\\b(winner|WINNER)!?\\b\", \"winner\"],\n",
    "            [r\"\\b(buy|BUY)!?\\b\", \"buy\"],\n",
    "            [r\"\\b(free|FREE)!?\\b\", \"free\"],\n",
    "            [r\"\\b(cash|CASH)!?\\b\", \"cash\"],\n",
    "            [r\"\\b(urgent|URGENT)!?\\b\", \"urgent\"],\n",
    "            [r\"\\b[Xx]{3}!?\\b\", \"xxx\"],\n",
    "            [r\"\\bGUARANTEED?!?\\b\", \"guarantee\"],\n",
    "            [r\"\\bto claim\\b\", \"to_claim\"],\n",
    "            [r\"\\b(expire(s|d)?|EXPIRE(S|D)?)\\b\", \"expire\"])\n",
    "\n",
    "for pattern, word in keywords:\n",
    "    sms_raw[str(word)] = sms_raw['message'].str.contains(pattern, case=False)\n",
    "\n",
    "# If the entire message is in caps, classify as spam.\n",
    "sms_raw['allcaps'] = sms_raw['message'].str.isupper()"
   ]
  },
  {
   "cell_type": "code",
   "execution_count": 24,
   "metadata": {},
   "outputs": [],
   "source": [
    "# Only run once, or everything goes False.\n",
    "sms_raw['spam'] = (sms_raw['spam'] == 'spam')"
   ]
  },
  {
   "cell_type": "code",
   "execution_count": 25,
   "metadata": {},
   "outputs": [
    {
     "data": {
      "text/html": [
       "<div>\n",
       "<style scoped>\n",
       "    .dataframe tbody tr th:only-of-type {\n",
       "        vertical-align: middle;\n",
       "    }\n",
       "\n",
       "    .dataframe tbody tr th {\n",
       "        vertical-align: top;\n",
       "    }\n",
       "\n",
       "    .dataframe thead th {\n",
       "        text-align: right;\n",
       "    }\n",
       "</style>\n",
       "<table border=\"1\" class=\"dataframe\">\n",
       "  <thead>\n",
       "    <tr style=\"text-align: right;\">\n",
       "      <th></th>\n",
       "      <th>spam</th>\n",
       "      <th>message</th>\n",
       "      <th>click</th>\n",
       "      <th>offer</th>\n",
       "      <th>winner</th>\n",
       "      <th>buy</th>\n",
       "      <th>free</th>\n",
       "      <th>cash</th>\n",
       "      <th>urgent</th>\n",
       "      <th>xxx</th>\n",
       "      <th>guarantee</th>\n",
       "      <th>to_claim</th>\n",
       "      <th>expire</th>\n",
       "      <th>allcaps</th>\n",
       "    </tr>\n",
       "  </thead>\n",
       "  <tbody>\n",
       "    <tr>\n",
       "      <th>0</th>\n",
       "      <td>False</td>\n",
       "      <td>Go until jurong point, crazy.. Available only ...</td>\n",
       "      <td>False</td>\n",
       "      <td>False</td>\n",
       "      <td>False</td>\n",
       "      <td>False</td>\n",
       "      <td>False</td>\n",
       "      <td>False</td>\n",
       "      <td>False</td>\n",
       "      <td>False</td>\n",
       "      <td>False</td>\n",
       "      <td>False</td>\n",
       "      <td>False</td>\n",
       "      <td>False</td>\n",
       "    </tr>\n",
       "    <tr>\n",
       "      <th>1</th>\n",
       "      <td>False</td>\n",
       "      <td>Ok lar... Joking wif u oni...</td>\n",
       "      <td>False</td>\n",
       "      <td>False</td>\n",
       "      <td>False</td>\n",
       "      <td>False</td>\n",
       "      <td>False</td>\n",
       "      <td>False</td>\n",
       "      <td>False</td>\n",
       "      <td>False</td>\n",
       "      <td>False</td>\n",
       "      <td>False</td>\n",
       "      <td>False</td>\n",
       "      <td>False</td>\n",
       "    </tr>\n",
       "    <tr>\n",
       "      <th>2</th>\n",
       "      <td>True</td>\n",
       "      <td>Free entry in 2 a wkly comp to win FA Cup fina...</td>\n",
       "      <td>False</td>\n",
       "      <td>False</td>\n",
       "      <td>False</td>\n",
       "      <td>False</td>\n",
       "      <td>True</td>\n",
       "      <td>False</td>\n",
       "      <td>False</td>\n",
       "      <td>False</td>\n",
       "      <td>False</td>\n",
       "      <td>False</td>\n",
       "      <td>False</td>\n",
       "      <td>False</td>\n",
       "    </tr>\n",
       "    <tr>\n",
       "      <th>3</th>\n",
       "      <td>False</td>\n",
       "      <td>U dun say so early hor... U c already then say...</td>\n",
       "      <td>False</td>\n",
       "      <td>False</td>\n",
       "      <td>False</td>\n",
       "      <td>False</td>\n",
       "      <td>False</td>\n",
       "      <td>False</td>\n",
       "      <td>False</td>\n",
       "      <td>False</td>\n",
       "      <td>False</td>\n",
       "      <td>False</td>\n",
       "      <td>False</td>\n",
       "      <td>False</td>\n",
       "    </tr>\n",
       "    <tr>\n",
       "      <th>4</th>\n",
       "      <td>False</td>\n",
       "      <td>Nah I don't think he goes to usf, he lives aro...</td>\n",
       "      <td>False</td>\n",
       "      <td>False</td>\n",
       "      <td>False</td>\n",
       "      <td>False</td>\n",
       "      <td>False</td>\n",
       "      <td>False</td>\n",
       "      <td>False</td>\n",
       "      <td>False</td>\n",
       "      <td>False</td>\n",
       "      <td>False</td>\n",
       "      <td>False</td>\n",
       "      <td>False</td>\n",
       "    </tr>\n",
       "    <tr>\n",
       "      <th>5</th>\n",
       "      <td>True</td>\n",
       "      <td>FreeMsg Hey there darling it's been 3 week's n...</td>\n",
       "      <td>False</td>\n",
       "      <td>False</td>\n",
       "      <td>False</td>\n",
       "      <td>False</td>\n",
       "      <td>False</td>\n",
       "      <td>False</td>\n",
       "      <td>False</td>\n",
       "      <td>True</td>\n",
       "      <td>False</td>\n",
       "      <td>False</td>\n",
       "      <td>False</td>\n",
       "      <td>False</td>\n",
       "    </tr>\n",
       "    <tr>\n",
       "      <th>6</th>\n",
       "      <td>False</td>\n",
       "      <td>Even my brother is not like to speak with me. ...</td>\n",
       "      <td>False</td>\n",
       "      <td>False</td>\n",
       "      <td>False</td>\n",
       "      <td>False</td>\n",
       "      <td>False</td>\n",
       "      <td>False</td>\n",
       "      <td>False</td>\n",
       "      <td>False</td>\n",
       "      <td>False</td>\n",
       "      <td>False</td>\n",
       "      <td>False</td>\n",
       "      <td>False</td>\n",
       "    </tr>\n",
       "    <tr>\n",
       "      <th>7</th>\n",
       "      <td>False</td>\n",
       "      <td>As per your request 'Melle Melle (Oru Minnamin...</td>\n",
       "      <td>False</td>\n",
       "      <td>False</td>\n",
       "      <td>False</td>\n",
       "      <td>False</td>\n",
       "      <td>False</td>\n",
       "      <td>False</td>\n",
       "      <td>False</td>\n",
       "      <td>False</td>\n",
       "      <td>False</td>\n",
       "      <td>False</td>\n",
       "      <td>False</td>\n",
       "      <td>False</td>\n",
       "    </tr>\n",
       "    <tr>\n",
       "      <th>8</th>\n",
       "      <td>True</td>\n",
       "      <td>WINNER!! As a valued network customer you have...</td>\n",
       "      <td>False</td>\n",
       "      <td>False</td>\n",
       "      <td>True</td>\n",
       "      <td>False</td>\n",
       "      <td>False</td>\n",
       "      <td>False</td>\n",
       "      <td>False</td>\n",
       "      <td>False</td>\n",
       "      <td>False</td>\n",
       "      <td>True</td>\n",
       "      <td>False</td>\n",
       "      <td>False</td>\n",
       "    </tr>\n",
       "    <tr>\n",
       "      <th>9</th>\n",
       "      <td>True</td>\n",
       "      <td>Had your mobile 11 months or more? U R entitle...</td>\n",
       "      <td>False</td>\n",
       "      <td>False</td>\n",
       "      <td>False</td>\n",
       "      <td>False</td>\n",
       "      <td>True</td>\n",
       "      <td>False</td>\n",
       "      <td>False</td>\n",
       "      <td>False</td>\n",
       "      <td>False</td>\n",
       "      <td>False</td>\n",
       "      <td>False</td>\n",
       "      <td>False</td>\n",
       "    </tr>\n",
       "  </tbody>\n",
       "</table>\n",
       "</div>"
      ],
      "text/plain": [
       "    spam                                            message  click  offer  \\\n",
       "0  False  Go until jurong point, crazy.. Available only ...  False  False   \n",
       "1  False                      Ok lar... Joking wif u oni...  False  False   \n",
       "2   True  Free entry in 2 a wkly comp to win FA Cup fina...  False  False   \n",
       "3  False  U dun say so early hor... U c already then say...  False  False   \n",
       "4  False  Nah I don't think he goes to usf, he lives aro...  False  False   \n",
       "5   True  FreeMsg Hey there darling it's been 3 week's n...  False  False   \n",
       "6  False  Even my brother is not like to speak with me. ...  False  False   \n",
       "7  False  As per your request 'Melle Melle (Oru Minnamin...  False  False   \n",
       "8   True  WINNER!! As a valued network customer you have...  False  False   \n",
       "9   True  Had your mobile 11 months or more? U R entitle...  False  False   \n",
       "\n",
       "   winner    buy   free   cash  urgent    xxx  guarantee  to_claim  expire  \\\n",
       "0   False  False  False  False   False  False      False     False   False   \n",
       "1   False  False  False  False   False  False      False     False   False   \n",
       "2   False  False   True  False   False  False      False     False   False   \n",
       "3   False  False  False  False   False  False      False     False   False   \n",
       "4   False  False  False  False   False  False      False     False   False   \n",
       "5   False  False  False  False   False   True      False     False   False   \n",
       "6   False  False  False  False   False  False      False     False   False   \n",
       "7   False  False  False  False   False  False      False     False   False   \n",
       "8    True  False  False  False   False  False      False      True   False   \n",
       "9   False  False   True  False   False  False      False     False   False   \n",
       "\n",
       "   allcaps  \n",
       "0    False  \n",
       "1    False  \n",
       "2    False  \n",
       "3    False  \n",
       "4    False  \n",
       "5    False  \n",
       "6    False  \n",
       "7    False  \n",
       "8    False  \n",
       "9    False  "
      ]
     },
     "execution_count": 25,
     "metadata": {},
     "output_type": "execute_result"
    }
   ],
   "source": [
    "sms_raw.head(10)"
   ]
  },
  {
   "cell_type": "code",
   "execution_count": 26,
   "metadata": {},
   "outputs": [],
   "source": [
    "# Select each part of the overall df as either data or target.\n",
    "data = sms_raw.loc[:, \"click\":]\n",
    "target = sms_raw['spam']"
   ]
  },
  {
   "cell_type": "code",
   "execution_count": 27,
   "metadata": {},
   "outputs": [
    {
     "data": {
      "image/png": "[encoded data removed]",
      "text/plain": [
       "<Figure size 576x432 with 2 Axes>"
      ]
     },
     "metadata": {},
     "output_type": "display_data"
    }
   ],
   "source": [
    "draw_htmap(sms_raw)"
   ]
  },
  {
   "cell_type": "code",
   "execution_count": 28,
   "metadata": {},
   "outputs": [
    {
     "name": "stdout",
     "output_type": "stream",
     "text": [
      "With 30.0% Holdout: 0.9216507177033493\n",
      "Testing on Sample: 0.9133165829145728\n"
     ]
    }
   ],
   "source": [
    "holdout_size = 0.3\n",
    "X_train, X_test, y_train, y_test = train_test_split(data, target, test_size=holdout_size, random_state=50)\n",
    "\n",
    "print(f'With {holdout_size*100}% Holdout: ' + str(bnb.fit(X_train, y_train).score(X_test, y_test)))\n",
    "print('Testing on Sample: ' + str(bnb.fit(data, target).score(data, target)))"
   ]
  },
  {
   "cell_type": "code",
   "execution_count": 29,
   "metadata": {},
   "outputs": [
    {
     "name": "stdout",
     "output_type": "stream",
     "text": [
      "Total data points in the set: 5572\n",
      "Correct: 5089 (4740 true negatives and 349 true positives)\n",
      "Mislabeled: 483 (85 Type I / false alarms and 398 Type II / misses)\n",
      "Real test data: negatives 4825 positives 747\n",
      "\n",
      "Accuracy: 91.33%\n",
      "Specificity: 98.24%\n",
      "Sensitivity: 46.72%\n"
     ]
    }
   ],
   "source": [
    "y_pred = bnb.fit(data, target).predict(data)\n",
    "evaluate(data, target, y_pred)"
   ]
  },
  {
   "cell_type": "code",
   "execution_count": 100,
   "metadata": {},
   "outputs": [],
   "source": [
    "# Reset the dataframe\n",
    "sms_raw = pd.read_csv('HamSpam', delimiter= '\\t', header=None)\n",
    "sms_raw.columns = ['spam', 'message']"
   ]
  },
  {
   "cell_type": "code",
   "execution_count": 101,
   "metadata": {},
   "outputs": [
    {
     "name": "stderr",
     "output_type": "stream",
     "text": [
      "/Library/Frameworks/Python.framework/Versions/3.7/lib/python3.7/site-packages/ipykernel_launcher.py:20: UserWarning: This pattern has match groups. To actually get the groups, use str.extract.\n",
      "/Library/Frameworks/Python.framework/Versions/3.7/lib/python3.7/site-packages/ipykernel_launcher.py:25: UserWarning: This pattern has match groups. To actually get the groups, use str.extract.\n"
     ]
    }
   ],
   "source": [
    "# Get a bit more sophisticated with regexps\n",
    "keywords = ([r\"\\boffer!?\", \"offer\"],\n",
    "            [r\"\\bwinner!?\", \"winner\"],\n",
    "            [r\"\\bfree!?\\b\", \"free\"],\n",
    "            [r\"\\bcash!?\\b\", \"cash\"],\n",
    "            [r\"\\burgent!?\", \"urgent\"],\n",
    "           # [r\"\\b[Xx]{3,}!?\", \"xxx\"],\n",
    "            [r\"\\bto claim\\b\", \"to_claim\"],\n",
    "            #[r\"\\bexpire(s|d)?\\b\", \"expire\"],\n",
    "            [r\"\\bnokia\\b\", \"nokia\"],\n",
    "            [r\"optout\\b\", \"optout\"],\n",
    "            [r\"\\b(un)?subscribe\\b\", \"subscribe\"],\n",
    "            [r\"(\\text stop|2?stop ?te?xts?)\\b\", \"stoptxt\"],\n",
    "            [r\"\\bcustcare\\b\", \"custcare\"],\n",
    "            [r\"\\bringtone\\b\", \"ringtone\"],\n",
    "            [r\"\\bprivate!?\", \"private\"],\n",
    "            [r\"\\bdouble\\b\", \"double\"])\n",
    "\n",
    "for pattern, word in keywords:\n",
    "    sms_raw[str(word)] = sms_raw['message'].str.contains(pattern, case=False)\n",
    "    \n",
    "capwords = ([r\"\\bGUARANTEE(D|S)?!?\\b\", \"guarantee\"],)\n",
    "\n",
    "for pattern, word in capwords:\n",
    "    sms_raw[str(word)] = sms_raw['message'].str.contains(pattern, case=True)"
   ]
  },
  {
   "cell_type": "code",
   "execution_count": 102,
   "metadata": {},
   "outputs": [],
   "source": [
    "# Only run once, or everything goes False.\n",
    "sms_raw['spam'] = (sms_raw['spam'] == 'spam')"
   ]
  },
  {
   "cell_type": "code",
   "execution_count": 111,
   "metadata": {},
   "outputs": [
    {
     "data": {
      "text/html": [
       "<div>\n",
       "<style scoped>\n",
       "    .dataframe tbody tr th:only-of-type {\n",
       "        vertical-align: middle;\n",
       "    }\n",
       "\n",
       "    .dataframe tbody tr th {\n",
       "        vertical-align: top;\n",
       "    }\n",
       "\n",
       "    .dataframe thead th {\n",
       "        text-align: right;\n",
       "    }\n",
       "</style>\n",
       "<table border=\"1\" class=\"dataframe\">\n",
       "  <thead>\n",
       "    <tr style=\"text-align: right;\">\n",
       "      <th></th>\n",
       "      <th>spam</th>\n",
       "      <th>message</th>\n",
       "      <th>offer</th>\n",
       "      <th>winner</th>\n",
       "      <th>free</th>\n",
       "      <th>cash</th>\n",
       "      <th>urgent</th>\n",
       "      <th>to_claim</th>\n",
       "      <th>nokia</th>\n",
       "      <th>optout</th>\n",
       "      <th>subscribe</th>\n",
       "      <th>stoptxt</th>\n",
       "      <th>custcare</th>\n",
       "      <th>ringtone</th>\n",
       "      <th>private</th>\n",
       "      <th>double</th>\n",
       "      <th>guarantee</th>\n",
       "    </tr>\n",
       "  </thead>\n",
       "  <tbody>\n",
       "    <tr>\n",
       "      <th>0</th>\n",
       "      <td>False</td>\n",
       "      <td>Go until jurong point, crazy.. Available only ...</td>\n",
       "      <td>False</td>\n",
       "      <td>False</td>\n",
       "      <td>False</td>\n",
       "      <td>False</td>\n",
       "      <td>False</td>\n",
       "      <td>False</td>\n",
       "      <td>False</td>\n",
       "      <td>False</td>\n",
       "      <td>False</td>\n",
       "      <td>False</td>\n",
       "      <td>False</td>\n",
       "      <td>False</td>\n",
       "      <td>False</td>\n",
       "      <td>False</td>\n",
       "      <td>False</td>\n",
       "    </tr>\n",
       "    <tr>\n",
       "      <th>1</th>\n",
       "      <td>False</td>\n",
       "      <td>Ok lar... Joking wif u oni...</td>\n",
       "      <td>False</td>\n",
       "      <td>False</td>\n",
       "      <td>False</td>\n",
       "      <td>False</td>\n",
       "      <td>False</td>\n",
       "      <td>False</td>\n",
       "      <td>False</td>\n",
       "      <td>False</td>\n",
       "      <td>False</td>\n",
       "      <td>False</td>\n",
       "      <td>False</td>\n",
       "      <td>False</td>\n",
       "      <td>False</td>\n",
       "      <td>False</td>\n",
       "      <td>False</td>\n",
       "    </tr>\n",
       "  </tbody>\n",
       "</table>\n",
       "</div>"
      ],
      "text/plain": [
       "    spam                                            message  offer  winner  \\\n",
       "0  False  Go until jurong point, crazy.. Available only ...  False   False   \n",
       "1  False                      Ok lar... Joking wif u oni...  False   False   \n",
       "\n",
       "    free   cash  urgent  to_claim  nokia  optout  subscribe  stoptxt  \\\n",
       "0  False  False   False     False  False   False      False    False   \n",
       "1  False  False   False     False  False   False      False    False   \n",
       "\n",
       "   custcare  ringtone  private  double  guarantee  \n",
       "0     False     False    False   False      False  \n",
       "1     False     False    False   False      False  "
      ]
     },
     "execution_count": 111,
     "metadata": {},
     "output_type": "execute_result"
    }
   ],
   "source": [
    "sms_raw.head(2)"
   ]
  },
  {
   "cell_type": "code",
   "execution_count": 103,
   "metadata": {},
   "outputs": [],
   "source": [
    "# Select each part of the overall df as either data or target.\n",
    "data = sms_raw.loc[:, \"offer\":]\n",
    "target = sms_raw['spam']"
   ]
  },
  {
   "cell_type": "code",
   "execution_count": 104,
   "metadata": {},
   "outputs": [
    {
     "data": {
      "image/png": "[encoded data removed]",
      "text/plain": [
       "<Figure size 576x432 with 2 Axes>"
      ]
     },
     "metadata": {},
     "output_type": "display_data"
    }
   ],
   "source": [
    "draw_htmap(sms_raw)"
   ]
  },
  {
   "cell_type": "code",
   "execution_count": 105,
   "metadata": {},
   "outputs": [
    {
     "name": "stdout",
     "output_type": "stream",
     "text": [
      "With 30.0% Holdout: 0.93122009569378\n",
      "Testing on Sample: 0.923007896625987\n"
     ]
    }
   ],
   "source": [
    "holdout_size = 0.3\n",
    "X_train, X_test, y_train, y_test = train_test_split(data, target, test_size=holdout_size, random_state=50)\n",
    "\n",
    "print(f'With {holdout_size*100}% Holdout: ' + str(bnb.fit(X_train, y_train).score(X_test, y_test)))\n",
    "print('Testing on Sample: ' + str(bnb.fit(data, target).score(data, target)))"
   ]
  },
  {
   "cell_type": "code",
   "execution_count": 113,
   "metadata": {},
   "outputs": [
    {
     "data": {
      "text/plain": [
       "array([0.92735426, 0.92914798, 0.93087971, 0.90574506, 0.92010772])"
      ]
     },
     "execution_count": 113,
     "metadata": {},
     "output_type": "execute_result"
    }
   ],
   "source": [
    "# I can't seem to get better than this\n",
    "cross_val_score(bnb, data, target, cv=5)"
   ]
  },
  {
   "cell_type": "code",
   "execution_count": 106,
   "metadata": {},
   "outputs": [
    {
     "name": "stdout",
     "output_type": "stream",
     "text": [
      "Total data points in the set: 5572\n",
      "Correct: 5143 (4735 true negatives and 408 true positives)\n",
      "Mislabeled: 429 (90 Type I / false alarms and 339 Type II / misses)\n",
      "Real test data: negatives 4825 positives 747\n",
      "\n",
      "Accuracy: 92.30%\n",
      "Specificity: 98.13%\n",
      "Sensitivity: 54.62%\n"
     ]
    }
   ],
   "source": [
    "y_pred = bnb.fit(data, target).predict(data)\n",
    "evaluate(data, target, y_pred)"
   ]
  },
  {
   "cell_type": "markdown",
   "metadata": {},
   "source": [
    "### Make some comparisons to find out where I'm really having problems ('free' is one).  I'm comparing each feature to find out where they are true positives vs. false positives"
   ]
  },
  {
   "cell_type": "code",
   "execution_count": 117,
   "metadata": {},
   "outputs": [
    {
     "name": "stdout",
     "output_type": "stream",
     "text": [
      "offer 38 8\n",
      "winner 17 0\n",
      "free 170 59\n",
      "cash 66 12\n",
      "urgent 62 7\n",
      "to_claim 47 0\n",
      "nokia 50 3\n",
      "optout 23 0\n",
      "subscribe 19 0\n",
      "stoptxt 20 0\n",
      "custcare 10 0\n",
      "ringtone 29 0\n",
      "private 18 1\n",
      "double 13 6\n",
      "guarantee 23 0\n"
     ]
    }
   ],
   "source": [
    "for col in sms_raw.columns[2:]:\n",
    "    print(col, sms_raw.loc[(sms_raw[\"spam\"] == True) & (sms_raw[col] == True), col].sum(),\n",
    "          sms_raw.loc[(sms_raw[\"spam\"] == False) & (sms_raw[col] == True), col].sum())"
   ]
  },
  {
   "cell_type": "code",
   "execution_count": 114,
   "metadata": {},
   "outputs": [],
   "source": [
    "#sms_raw[(sms_raw[\"free\"] == True) & (sms_raw[\"spam\"] == False)]"
   ]
  }
 ],
 "metadata": {
  "kernelspec": {
   "display_name": "Python 3",
   "language": "python",
   "name": "python3"
  },
  "language_info": {
   "codemirror_mode": {
    "name": "ipython",
    "version": 3
   },
   "file_extension": ".py",
   "mimetype": "text/x-python",
   "name": "python",
   "nbconvert_exporter": "python",
   "pygments_lexer": "ipython3",
   "version": "3.7.0"
  }
 },
 "nbformat": 4,
 "nbformat_minor": 2
}
