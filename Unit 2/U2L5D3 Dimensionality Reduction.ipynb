{
 "cells": [
  {
   "cell_type": "markdown",
   "metadata": {},
   "source": [
    "### I just did PLSR here with my crime dataset.  Originally, I had 6 features, and had nearly the same predictive capability with 3 dimensions.\n",
    "### As you continue decreasing, R squared continues to drop, though it's surprising how much you retain with just 2 dimensions (at least in this case).  In the other direction, the difference just gets smaller and smaller.  Obviously, it depends on how many features are in your model, and how far you want to reduce them.  Personally, I'll likely use roughly a third as a starting point, though surely each situation will require its own analysis.\n",
    "### Lots of correlation between features here, leading to PLSR working well, right?"
   ]
  },
  {
   "cell_type": "code",
   "execution_count": 1,
   "metadata": {},
   "outputs": [
    {
     "data": {
      "text/html": [
       "<style>.container { width:100% !important; }</style>"
      ],
      "text/plain": [
       "<IPython.core.display.HTML object>"
      ]
     },
     "metadata": {},
     "output_type": "display_data"
    }
   ],
   "source": [
    "import pandas as pd\n",
    "import numpy as np\n",
    "import seaborn as sns\n",
    "import matplotlib.pyplot as plt\n",
    "from sklearn import linear_model\n",
    "from scipy import stats\n",
    "import seaborn as sns\n",
    "import statsmodels.formula.api as smf\n",
    "from statsmodels.sandbox.regression.predstd import wls_prediction_std\n",
    "\n",
    "from IPython.core.display import display, HTML\n",
    "display(HTML(\"<style>.container { width:100% !important; }</style>\"))\n",
    "pd.set_option('display.max_rows', 100)\n",
    "pd.set_option('display.max_colwidth', 50)\n",
    "pd.options.display.float_format = '{:.3f}'.format\n",
    "\n",
    "%matplotlib inline"
   ]
  },
  {
   "cell_type": "code",
   "execution_count": 2,
   "metadata": {},
   "outputs": [
    {
     "data": {
      "text/html": [
       "<div>\n",
       "<style scoped>\n",
       "    .dataframe tbody tr th:only-of-type {\n",
       "        vertical-align: middle;\n",
       "    }\n",
       "\n",
       "    .dataframe tbody tr th {\n",
       "        vertical-align: top;\n",
       "    }\n",
       "\n",
       "    .dataframe thead th {\n",
       "        text-align: right;\n",
       "    }\n",
       "</style>\n",
       "<table border=\"1\" class=\"dataframe\">\n",
       "  <thead>\n",
       "    <tr style=\"text-align: right;\">\n",
       "      <th></th>\n",
       "      <th>Population</th>\n",
       "      <th>Viol_Cr</th>\n",
       "      <th>Murder</th>\n",
       "      <th>Rape</th>\n",
       "      <th>Robbery</th>\n",
       "      <th>Assault</th>\n",
       "      <th>Prop_Cr</th>\n",
       "      <th>Pop_Sqr</th>\n",
       "    </tr>\n",
       "  </thead>\n",
       "  <tbody>\n",
       "    <tr>\n",
       "      <th>0</th>\n",
       "      <td>1861</td>\n",
       "      <td>0</td>\n",
       "      <td>0</td>\n",
       "      <td>0</td>\n",
       "      <td>0</td>\n",
       "      <td>0</td>\n",
       "      <td>12</td>\n",
       "      <td>3463321</td>\n",
       "    </tr>\n",
       "    <tr>\n",
       "      <th>1</th>\n",
       "      <td>2577</td>\n",
       "      <td>3</td>\n",
       "      <td>0</td>\n",
       "      <td>0</td>\n",
       "      <td>0</td>\n",
       "      <td>3</td>\n",
       "      <td>24</td>\n",
       "      <td>6640929</td>\n",
       "    </tr>\n",
       "    <tr>\n",
       "      <th>2</th>\n",
       "      <td>2846</td>\n",
       "      <td>3</td>\n",
       "      <td>0</td>\n",
       "      <td>0</td>\n",
       "      <td>0</td>\n",
       "      <td>3</td>\n",
       "      <td>16</td>\n",
       "      <td>8099716</td>\n",
       "    </tr>\n",
       "    <tr>\n",
       "      <th>3</th>\n",
       "      <td>97956</td>\n",
       "      <td>791</td>\n",
       "      <td>8</td>\n",
       "      <td>30</td>\n",
       "      <td>227</td>\n",
       "      <td>526</td>\n",
       "      <td>4090</td>\n",
       "      <td>9595377936</td>\n",
       "    </tr>\n",
       "    <tr>\n",
       "      <th>4</th>\n",
       "      <td>6388</td>\n",
       "      <td>23</td>\n",
       "      <td>0</td>\n",
       "      <td>3</td>\n",
       "      <td>4</td>\n",
       "      <td>16</td>\n",
       "      <td>223</td>\n",
       "      <td>40806544</td>\n",
       "    </tr>\n",
       "  </tbody>\n",
       "</table>\n",
       "</div>"
      ],
      "text/plain": [
       "   Population  Viol_Cr  Murder  Rape  Robbery  Assault  Prop_Cr     Pop_Sqr\n",
       "0        1861        0       0     0        0        0       12     3463321\n",
       "1        2577        3       0     0        0        3       24     6640929\n",
       "2        2846        3       0     0        0        3       16     8099716\n",
       "3       97956      791       8    30      227      526     4090  9595377936\n",
       "4        6388       23       0     3        4       16      223    40806544"
      ]
     },
     "execution_count": 2,
     "metadata": {},
     "output_type": "execute_result"
    }
   ],
   "source": [
    "# Removing spaces in column names\n",
    "features = pd.read_csv(\"feats.csv\")\n",
    "features.rename(columns={\"Aggr Assault\":\"Assault\",\n",
    "                         \"Property Crime\":\"Prop_Cr\",\n",
    "                         \"Pop Squared\":\"Pop_Sqr\"}, inplace=True)\n",
    "features.head()"
   ]
  },
  {
   "cell_type": "code",
   "execution_count": 3,
   "metadata": {},
   "outputs": [],
   "source": [
    "# ORIGINAL\n",
    "original = 'Prop_Cr ~ Population+Murder+Rape+Robbery+Assault+Pop_Sqr'\n",
    "orig_model = smf.ols(formula=original, data=features).fit()"
   ]
  },
  {
   "cell_type": "code",
   "execution_count": 4,
   "metadata": {},
   "outputs": [
    {
     "data": {
      "text/html": [
       "<table class=\"simpletable\">\n",
       "<caption>OLS Regression Results</caption>\n",
       "<tr>\n",
       "  <th>Dep. Variable:</th>         <td>Prop_Cr</td>     <th>  R-squared:         </th> <td>   0.908</td> \n",
       "</tr>\n",
       "<tr>\n",
       "  <th>Model:</th>                   <td>OLS</td>       <th>  Adj. R-squared:    </th> <td>   0.906</td> \n",
       "</tr>\n",
       "<tr>\n",
       "  <th>Method:</th>             <td>Least Squares</td>  <th>  F-statistic:       </th> <td>   558.7</td> \n",
       "</tr>\n",
       "<tr>\n",
       "  <th>Date:</th>             <td>Wed, 31 Oct 2018</td> <th>  Prob (F-statistic):</th> <td>4.74e-173</td>\n",
       "</tr>\n",
       "<tr>\n",
       "  <th>Time:</th>                 <td>13:46:58</td>     <th>  Log-Likelihood:    </th> <td> -2327.2</td> \n",
       "</tr>\n",
       "<tr>\n",
       "  <th>No. Observations:</th>      <td>   348</td>      <th>  AIC:               </th> <td>   4668.</td> \n",
       "</tr>\n",
       "<tr>\n",
       "  <th>Df Residuals:</th>          <td>   341</td>      <th>  BIC:               </th> <td>   4695.</td> \n",
       "</tr>\n",
       "<tr>\n",
       "  <th>Df Model:</th>              <td>     6</td>      <th>                     </th>     <td> </td>    \n",
       "</tr>\n",
       "<tr>\n",
       "  <th>Covariance Type:</th>      <td>nonrobust</td>    <th>                     </th>     <td> </td>    \n",
       "</tr>\n",
       "</table>\n",
       "<table class=\"simpletable\">\n",
       "<tr>\n",
       "       <td></td>         <th>coef</th>     <th>std err</th>      <th>t</th>      <th>P>|t|</th>  <th>[0.025</th>    <th>0.975]</th>  \n",
       "</tr>\n",
       "<tr>\n",
       "  <th>Intercept</th>  <td>  -59.8017</td> <td>   14.978</td> <td>   -3.993</td> <td> 0.000</td> <td>  -89.262</td> <td>  -30.341</td>\n",
       "</tr>\n",
       "<tr>\n",
       "  <th>Population</th> <td>    0.0214</td> <td>    0.001</td> <td>   19.975</td> <td> 0.000</td> <td>    0.019</td> <td>    0.024</td>\n",
       "</tr>\n",
       "<tr>\n",
       "  <th>Murder</th>     <td>   -9.4214</td> <td>   15.270</td> <td>   -0.617</td> <td> 0.538</td> <td>  -39.457</td> <td>   20.614</td>\n",
       "</tr>\n",
       "<tr>\n",
       "  <th>Rape</th>       <td>   39.3314</td> <td>    4.355</td> <td>    9.032</td> <td> 0.000</td> <td>   30.766</td> <td>   47.897</td>\n",
       "</tr>\n",
       "<tr>\n",
       "  <th>Robbery</th>    <td>   -0.2284</td> <td>    1.022</td> <td>   -0.223</td> <td> 0.823</td> <td>   -2.238</td> <td>    1.781</td>\n",
       "</tr>\n",
       "<tr>\n",
       "  <th>Assault</th>    <td>    2.5851</td> <td>    0.633</td> <td>    4.086</td> <td> 0.000</td> <td>    1.341</td> <td>    3.829</td>\n",
       "</tr>\n",
       "<tr>\n",
       "  <th>Pop_Sqr</th>    <td>-9.473e-08</td> <td> 8.39e-09</td> <td>  -11.297</td> <td> 0.000</td> <td>-1.11e-07</td> <td>-7.82e-08</td>\n",
       "</tr>\n",
       "</table>\n",
       "<table class=\"simpletable\">\n",
       "<tr>\n",
       "  <th>Omnibus:</th>       <td>56.188</td> <th>  Durbin-Watson:     </th> <td>   2.148</td> \n",
       "</tr>\n",
       "<tr>\n",
       "  <th>Prob(Omnibus):</th> <td> 0.000</td> <th>  Jarque-Bera (JB):  </th> <td> 564.752</td> \n",
       "</tr>\n",
       "<tr>\n",
       "  <th>Skew:</th>          <td> 0.184</td> <th>  Prob(JB):          </th> <td>2.32e-123</td>\n",
       "</tr>\n",
       "<tr>\n",
       "  <th>Kurtosis:</th>      <td> 9.230</td> <th>  Cond. No.          </th> <td>4.91e+09</td> \n",
       "</tr>\n",
       "</table><br/><br/>Warnings:<br/>[1] Standard Errors assume that the covariance matrix of the errors is correctly specified.<br/>[2] The condition number is large, 4.91e+09. This might indicate that there are<br/>strong multicollinearity or other numerical problems."
      ],
      "text/plain": [
       "<class 'statsmodels.iolib.summary.Summary'>\n",
       "\"\"\"\n",
       "                            OLS Regression Results                            \n",
       "==============================================================================\n",
       "Dep. Variable:                Prop_Cr   R-squared:                       0.908\n",
       "Model:                            OLS   Adj. R-squared:                  0.906\n",
       "Method:                 Least Squares   F-statistic:                     558.7\n",
       "Date:                Wed, 31 Oct 2018   Prob (F-statistic):          4.74e-173\n",
       "Time:                        13:46:58   Log-Likelihood:                -2327.2\n",
       "No. Observations:                 348   AIC:                             4668.\n",
       "Df Residuals:                     341   BIC:                             4695.\n",
       "Df Model:                           6                                         \n",
       "Covariance Type:            nonrobust                                         \n",
       "==============================================================================\n",
       "                 coef    std err          t      P>|t|      [0.025      0.975]\n",
       "------------------------------------------------------------------------------\n",
       "Intercept    -59.8017     14.978     -3.993      0.000     -89.262     -30.341\n",
       "Population     0.0214      0.001     19.975      0.000       0.019       0.024\n",
       "Murder        -9.4214     15.270     -0.617      0.538     -39.457      20.614\n",
       "Rape          39.3314      4.355      9.032      0.000      30.766      47.897\n",
       "Robbery       -0.2284      1.022     -0.223      0.823      -2.238       1.781\n",
       "Assault        2.5851      0.633      4.086      0.000       1.341       3.829\n",
       "Pop_Sqr    -9.473e-08   8.39e-09    -11.297      0.000   -1.11e-07   -7.82e-08\n",
       "==============================================================================\n",
       "Omnibus:                       56.188   Durbin-Watson:                   2.148\n",
       "Prob(Omnibus):                  0.000   Jarque-Bera (JB):              564.752\n",
       "Skew:                           0.184   Prob(JB):                    2.32e-123\n",
       "Kurtosis:                       9.230   Cond. No.                     4.91e+09\n",
       "==============================================================================\n",
       "\n",
       "Warnings:\n",
       "[1] Standard Errors assume that the covariance matrix of the errors is correctly specified.\n",
       "[2] The condition number is large, 4.91e+09. This might indicate that there are\n",
       "strong multicollinearity or other numerical problems.\n",
       "\"\"\""
      ]
     },
     "execution_count": 4,
     "metadata": {},
     "output_type": "execute_result"
    }
   ],
   "source": [
    "orig_model.summary()"
   ]
  },
  {
   "cell_type": "markdown",
   "metadata": {},
   "source": [
    "# PLSR\n",
    "### Nearly the same predictive power as with the 6 features.  Going to 3 or even 2 dimensions still retains a lot (meaning, a couple of % points lost)"
   ]
  },
  {
   "cell_type": "code",
   "execution_count": 31,
   "metadata": {},
   "outputs": [
    {
     "name": "stdout",
     "output_type": "stream",
     "text": [
      "R-squared PLSR: 0.8991473096806221\n",
      "R-squared  OLS: 0.9112448869302934\n"
     ]
    }
   ],
   "source": [
    "from sklearn.cross_decomposition import PLSRegression\n",
    "\n",
    "# Fit a linear model using Partial Least Squares Regression.\n",
    "# Reduce feature space to 3 dimensions.\n",
    "pls1 = PLSRegression(n_components=3)\n",
    "\n",
    "# Reduce X to R(X) and regress on y.\n",
    "pls1.fit(X, Y)\n",
    "\n",
    "# Save predicted values.\n",
    "Y_PLS_pred = pls1.predict(X)\n",
    "print('R-squared PLSR:', pls1.score(X, Y))\n",
    "print('R-squared  OLS:', orig_model.rsquared)"
   ]
  }
 ],
 "metadata": {
  "kernelspec": {
   "display_name": "Python 3",
   "language": "python",
   "name": "python3"
  },
  "language_info": {
   "codemirror_mode": {
    "name": "ipython",
    "version": 3
   },
   "file_extension": ".py",
   "mimetype": "text/x-python",
   "name": "python",
   "nbconvert_exporter": "python",
   "pygments_lexer": "ipython3",
   "version": "3.7.0"
  }
 },
 "nbformat": 4,
 "nbformat_minor": 2
}
