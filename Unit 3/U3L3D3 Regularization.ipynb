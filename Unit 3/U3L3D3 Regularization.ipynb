{
 "cells": [
  {
   "cell_type": "markdown",
   "metadata": {},
   "source": [
    "## Drill exploring the differences in R-squared for different regularization coefficient values"
   ]
  },
  {
   "cell_type": "code",
   "execution_count": 1,
   "metadata": {},
   "outputs": [],
   "source": [
    "import pandas as pd\n",
    "from matplotlib import pyplot as plt\n",
    "import numpy as np\n",
    "import math\n",
    "import seaborn as sns\n",
    "import sklearn\n",
    "from sklearn import linear_model\n",
    "from sklearn import preprocessing\n",
    "%matplotlib inline\n",
    "sns.set_style('white')"
   ]
  },
  {
   "cell_type": "markdown",
   "metadata": {},
   "source": [
    "### Data and prep from Thinkful, as specified"
   ]
  },
  {
   "cell_type": "code",
   "execution_count": 5,
   "metadata": {},
   "outputs": [
    {
     "name": "stderr",
     "output_type": "stream",
     "text": [
      "/Library/Frameworks/Python.framework/Versions/3.7/lib/python3.7/site-packages/ipykernel_launcher.py:9: DataConversionWarning: Data with input dtype int64, float64 were all converted to float64 by the scale function.\n",
      "  if __name__ == '__main__':\n"
     ]
    }
   ],
   "source": [
    "df = pd.read_csv('Default.csv').iloc[:,1:].dropna()\n",
    "\n",
    "# Recode strings to numeric.\n",
    "df['default'] = np.where(df['default']=='Yes', 1, 0)\n",
    "df['student'] = np.where(df['student']=='Yes', 1, 0)\n",
    "names = df.columns\n",
    "df = pd.DataFrame(preprocessing.scale(df), columns=names)\n",
    "\n",
    "# Define the training and test sizes.\n",
    "trainsize = int(df.shape[0] / 2)\n",
    "df_test = df.iloc[trainsize:, :].copy()\n",
    "df_train = df.iloc[:trainsize, :].copy()\n",
    "\n",
    "Y_train = df_train['income'].values.reshape(-1, 1)\n",
    "X_train = df_train.loc[:, ~(df_train.columns).isin(['income'])]\n",
    "\n",
    "# Make some new features to capture potential quadratic and cubic\n",
    "# relationships between variables.\n",
    "df_train['balance_student'] = df_train['balance'] * df_train['student']\n",
    "df_train['balance_default'] = df_train['balance'] * df_train['default']\n",
    "df_train['student_default'] = df_train['student'] * df_train['default']\n",
    "df_train['balance_sqrt'] = (df_train['balance'] + 100) ** .5\n",
    "df_train['balance2'] = (df_train['balance'] + 100) ** 2\n",
    "df_train['balance3'] = (df_train['balance'] + 100) ** 3\n",
    "\n",
    "X_train2 = df_train.loc[:, ~(df_train.columns).isin(['income'])]\n",
    "\n",
    "# Test the simpler model with smaller coefficients.\n",
    "Y_test = df_test['income'].values.reshape(-1, 1)\n",
    "X_test2 = df_test.loc[:, ~(df_test.columns).isin(['income'])]"
   ]
  },
  {
   "cell_type": "code",
   "execution_count": 23,
   "metadata": {},
   "outputs": [],
   "source": [
    "# Create a dictionary to hold summary data\n",
    "lambda_vals = np.arange(0.1,500,0.1)\n",
    "summary_dict = {'lambda':lambda_vals,\n",
    "                'ridge_rsq':[],\n",
    "                'lasso_rsq':[]}\n",
    "\n",
    "for value in lambda_vals:\n",
    "    lasso = linear_model.Lasso(alpha=value)\n",
    "    lasso.fit(X_train2, Y_train)\n",
    "    summary_dict['lasso_rsq'].append(lasso.score(X_train2, Y_train))\n",
    "    \n",
    "    ridge = linear_model.Ridge(alpha=value)\n",
    "    ridge.fit(X_train2, Y_train)\n",
    "    summary_dict['ridge_rsq'].append(ridge.score(X_train2, Y_train))\n",
    "    \n",
    "r_square = pd.DataFrame(summary_dict)"
   ]
  },
  {
   "cell_type": "markdown",
   "metadata": {},
   "source": [
    "### Let's look numerically at the differences before looking graphically: LASSO hits a floor\n",
    "Also, Ridge changes, but slowly; if you tail(), it's different.  Stepsizes are just so small.  It's visible graphically."
   ]
  },
  {
   "cell_type": "code",
   "execution_count": 44,
   "metadata": {},
   "outputs": [
    {
     "data": {
      "text/html": [
       "<div>\n",
       "<style scoped>\n",
       "    .dataframe tbody tr th:only-of-type {\n",
       "        vertical-align: middle;\n",
       "    }\n",
       "\n",
       "    .dataframe tbody tr th {\n",
       "        vertical-align: top;\n",
       "    }\n",
       "\n",
       "    .dataframe thead th {\n",
       "        text-align: right;\n",
       "    }\n",
       "</style>\n",
       "<table border=\"1\" class=\"dataframe\">\n",
       "  <thead>\n",
       "    <tr style=\"text-align: right;\">\n",
       "      <th></th>\n",
       "      <th>lambda</th>\n",
       "      <th>ridge_rsq</th>\n",
       "      <th>lasso_rsq</th>\n",
       "    </tr>\n",
       "  </thead>\n",
       "  <tbody>\n",
       "    <tr>\n",
       "      <th>0</th>\n",
       "      <td>0.1</td>\n",
       "      <td>0.573972</td>\n",
       "      <td>0.563089</td>\n",
       "    </tr>\n",
       "    <tr>\n",
       "      <th>1</th>\n",
       "      <td>0.2</td>\n",
       "      <td>0.573972</td>\n",
       "      <td>0.531235</td>\n",
       "    </tr>\n",
       "    <tr>\n",
       "      <th>2</th>\n",
       "      <td>0.3</td>\n",
       "      <td>0.573972</td>\n",
       "      <td>0.478145</td>\n",
       "    </tr>\n",
       "    <tr>\n",
       "      <th>3</th>\n",
       "      <td>0.4</td>\n",
       "      <td>0.573972</td>\n",
       "      <td>0.403815</td>\n",
       "    </tr>\n",
       "    <tr>\n",
       "      <th>4</th>\n",
       "      <td>0.5</td>\n",
       "      <td>0.573972</td>\n",
       "      <td>0.308250</td>\n",
       "    </tr>\n",
       "    <tr>\n",
       "      <th>5</th>\n",
       "      <td>0.6</td>\n",
       "      <td>0.573972</td>\n",
       "      <td>0.191447</td>\n",
       "    </tr>\n",
       "    <tr>\n",
       "      <th>6</th>\n",
       "      <td>0.7</td>\n",
       "      <td>0.573972</td>\n",
       "      <td>0.053408</td>\n",
       "    </tr>\n",
       "    <tr>\n",
       "      <th>7</th>\n",
       "      <td>0.8</td>\n",
       "      <td>0.573972</td>\n",
       "      <td>0.026834</td>\n",
       "    </tr>\n",
       "    <tr>\n",
       "      <th>8</th>\n",
       "      <td>0.9</td>\n",
       "      <td>0.573972</td>\n",
       "      <td>0.026834</td>\n",
       "    </tr>\n",
       "    <tr>\n",
       "      <th>9</th>\n",
       "      <td>1.0</td>\n",
       "      <td>0.573972</td>\n",
       "      <td>0.026834</td>\n",
       "    </tr>\n",
       "  </tbody>\n",
       "</table>\n",
       "</div>"
      ],
      "text/plain": [
       "   lambda  ridge_rsq  lasso_rsq\n",
       "0     0.1   0.573972   0.563089\n",
       "1     0.2   0.573972   0.531235\n",
       "2     0.3   0.573972   0.478145\n",
       "3     0.4   0.573972   0.403815\n",
       "4     0.5   0.573972   0.308250\n",
       "5     0.6   0.573972   0.191447\n",
       "6     0.7   0.573972   0.053408\n",
       "7     0.8   0.573972   0.026834\n",
       "8     0.9   0.573972   0.026834\n",
       "9     1.0   0.573972   0.026834"
      ]
     },
     "execution_count": 44,
     "metadata": {},
     "output_type": "execute_result"
    }
   ],
   "source": [
    "r_square.head(10)"
   ]
  },
  {
   "cell_type": "markdown",
   "metadata": {},
   "source": [
    "### I zoomed in where LASSO bottoms out.  Interesting difference between them."
   ]
  },
  {
   "cell_type": "code",
   "execution_count": 40,
   "metadata": {},
   "outputs": [
    {
     "data": {
      "image/png": "[encoded data removed]",
      "text/plain": [
       "<Figure size 1008x576 with 3 Axes>"
      ]
     },
     "metadata": {},
     "output_type": "display_data"
    }
   ],
   "source": [
    "plt.figure(figsize=(14,8))\n",
    "\n",
    "ax1 = plt.subplot(231)\n",
    "sns.regplot(x='lambda', y='ridge_rsq', data=r_square, fit_reg=False, color='royalblue',\n",
    "            scatter_kws={\"s\":100})\n",
    "ax1.set_title('Ridge', fontweight='bold')\n",
    "ax1.set_ylabel('R-squared')\n",
    "ax1.set_xlabel('Lambda')\n",
    "\n",
    "ax2 = plt.subplot(232)\n",
    "sns.regplot(x='lambda', y='lasso_rsq', data=r_square, fit_reg=False, color='darkorange',\n",
    "            scatter_kws={\"s\":100})\n",
    "ax2.set_title('LASSO', fontweight='bold')\n",
    "ax2.set_ylabel('R-squared')\n",
    "ax2.set_xlabel('Lambda')\n",
    "\n",
    "ax2 = plt.subplot(233)\n",
    "sns.regplot(x='lambda', y='lasso_rsq', data=r_square[:12], fit_reg=False, color='darkorange',\n",
    "            scatter_kws={\"s\":100})\n",
    "ax2.set_title('LASSO: Zoomed', fontweight='bold')\n",
    "ax2.set_ylabel('R-squared')\n",
    "ax2.set_xlabel('Lambda')\n",
    "\n",
    "plt.tight_layout()\n",
    "plt.show()"
   ]
  }
 ],
 "metadata": {
  "kernelspec": {
   "display_name": "Python 3",
   "language": "python",
   "name": "python3"
  },
  "language_info": {
   "codemirror_mode": {
    "name": "ipython",
    "version": 3
   },
   "file_extension": ".py",
   "mimetype": "text/x-python",
   "name": "python",
   "nbconvert_exporter": "python",
   "pygments_lexer": "ipython3",
   "version": "3.7.0"
  }
 },
 "nbformat": 4,
 "nbformat_minor": 2
}
