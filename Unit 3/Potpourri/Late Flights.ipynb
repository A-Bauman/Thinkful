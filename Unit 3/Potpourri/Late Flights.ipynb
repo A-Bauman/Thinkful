{
 "cells": [
  {
   "cell_type": "markdown",
   "metadata": {},
   "source": [
    "### Random forest did quite well, 94% under cross-validation.  I also tried XGBoost, which unsurprisingly did better, nearly 99% cross-validated, once I tuned it.\n",
    "### I know I could do a bunch of visualization here, but again I was focused on prediction, on getting more practice with actual machine learning.  Didn't end up using GridSearch as it hardly seemed necessary."
   ]
  },
  {
   "cell_type": "code",
   "execution_count": 1,
   "metadata": {},
   "outputs": [],
   "source": [
    "import pandas as pd\n",
    "import numpy as np\n",
    "import matplotlib.pyplot as plt\n",
    "import seaborn as sns\n",
    "\n",
    "from sklearn.preprocessing import LabelEncoder\n",
    "from sklearn.ensemble import RandomForestRegressor\n",
    "from xgboost import XGBRegressor\n",
    "from sklearn.model_selection import train_test_split, cross_val_score, GridSearchCV\n",
    "from sklearn.metrics import classification_report, confusion_matrix, accuracy_score\n",
    "from sklearn.feature_selection import SelectKBest\n",
    "\n",
    "%matplotlib inline"
   ]
  },
  {
   "cell_type": "code",
   "execution_count": 2,
   "metadata": {},
   "outputs": [],
   "source": [
    "df = pd.read_csv('Arrivals2000.csv')"
   ]
  },
  {
   "cell_type": "code",
   "execution_count": 3,
   "metadata": {},
   "outputs": [
    {
     "data": {
      "text/html": [
       "<div>\n",
       "<style scoped>\n",
       "    .dataframe tbody tr th:only-of-type {\n",
       "        vertical-align: middle;\n",
       "    }\n",
       "\n",
       "    .dataframe tbody tr th {\n",
       "        vertical-align: top;\n",
       "    }\n",
       "\n",
       "    .dataframe thead th {\n",
       "        text-align: right;\n",
       "    }\n",
       "</style>\n",
       "<table border=\"1\" class=\"dataframe\">\n",
       "  <thead>\n",
       "    <tr style=\"text-align: right;\">\n",
       "      <th></th>\n",
       "      <th>Year</th>\n",
       "      <th>Month</th>\n",
       "      <th>DayofMonth</th>\n",
       "      <th>DayOfWeek</th>\n",
       "      <th>DepTime</th>\n",
       "      <th>CRSDepTime</th>\n",
       "      <th>ArrTime</th>\n",
       "      <th>CRSArrTime</th>\n",
       "      <th>UniqueCarrier</th>\n",
       "      <th>FlightNum</th>\n",
       "      <th>...</th>\n",
       "      <th>TaxiIn</th>\n",
       "      <th>TaxiOut</th>\n",
       "      <th>Cancelled</th>\n",
       "      <th>CancellationCode</th>\n",
       "      <th>Diverted</th>\n",
       "      <th>CarrierDelay</th>\n",
       "      <th>WeatherDelay</th>\n",
       "      <th>NASDelay</th>\n",
       "      <th>SecurityDelay</th>\n",
       "      <th>LateAircraftDelay</th>\n",
       "    </tr>\n",
       "  </thead>\n",
       "  <tbody>\n",
       "    <tr>\n",
       "      <th>0</th>\n",
       "      <td>2000</td>\n",
       "      <td>1</td>\n",
       "      <td>28</td>\n",
       "      <td>5</td>\n",
       "      <td>1647.0</td>\n",
       "      <td>1647</td>\n",
       "      <td>1906.0</td>\n",
       "      <td>1859</td>\n",
       "      <td>HP</td>\n",
       "      <td>154</td>\n",
       "      <td>...</td>\n",
       "      <td>15</td>\n",
       "      <td>11</td>\n",
       "      <td>0</td>\n",
       "      <td>NaN</td>\n",
       "      <td>0</td>\n",
       "      <td>NaN</td>\n",
       "      <td>NaN</td>\n",
       "      <td>NaN</td>\n",
       "      <td>NaN</td>\n",
       "      <td>NaN</td>\n",
       "    </tr>\n",
       "    <tr>\n",
       "      <th>1</th>\n",
       "      <td>2000</td>\n",
       "      <td>1</td>\n",
       "      <td>29</td>\n",
       "      <td>6</td>\n",
       "      <td>1648.0</td>\n",
       "      <td>1647</td>\n",
       "      <td>1939.0</td>\n",
       "      <td>1859</td>\n",
       "      <td>HP</td>\n",
       "      <td>154</td>\n",
       "      <td>...</td>\n",
       "      <td>5</td>\n",
       "      <td>47</td>\n",
       "      <td>0</td>\n",
       "      <td>NaN</td>\n",
       "      <td>0</td>\n",
       "      <td>NaN</td>\n",
       "      <td>NaN</td>\n",
       "      <td>NaN</td>\n",
       "      <td>NaN</td>\n",
       "      <td>NaN</td>\n",
       "    </tr>\n",
       "    <tr>\n",
       "      <th>2</th>\n",
       "      <td>2000</td>\n",
       "      <td>1</td>\n",
       "      <td>30</td>\n",
       "      <td>7</td>\n",
       "      <td>NaN</td>\n",
       "      <td>1647</td>\n",
       "      <td>NaN</td>\n",
       "      <td>1859</td>\n",
       "      <td>HP</td>\n",
       "      <td>154</td>\n",
       "      <td>...</td>\n",
       "      <td>0</td>\n",
       "      <td>0</td>\n",
       "      <td>1</td>\n",
       "      <td>NaN</td>\n",
       "      <td>0</td>\n",
       "      <td>NaN</td>\n",
       "      <td>NaN</td>\n",
       "      <td>NaN</td>\n",
       "      <td>NaN</td>\n",
       "      <td>NaN</td>\n",
       "    </tr>\n",
       "    <tr>\n",
       "      <th>3</th>\n",
       "      <td>2000</td>\n",
       "      <td>1</td>\n",
       "      <td>31</td>\n",
       "      <td>1</td>\n",
       "      <td>1645.0</td>\n",
       "      <td>1647</td>\n",
       "      <td>1852.0</td>\n",
       "      <td>1859</td>\n",
       "      <td>HP</td>\n",
       "      <td>154</td>\n",
       "      <td>...</td>\n",
       "      <td>7</td>\n",
       "      <td>14</td>\n",
       "      <td>0</td>\n",
       "      <td>NaN</td>\n",
       "      <td>0</td>\n",
       "      <td>NaN</td>\n",
       "      <td>NaN</td>\n",
       "      <td>NaN</td>\n",
       "      <td>NaN</td>\n",
       "      <td>NaN</td>\n",
       "    </tr>\n",
       "    <tr>\n",
       "      <th>4</th>\n",
       "      <td>2000</td>\n",
       "      <td>1</td>\n",
       "      <td>1</td>\n",
       "      <td>6</td>\n",
       "      <td>842.0</td>\n",
       "      <td>846</td>\n",
       "      <td>1057.0</td>\n",
       "      <td>1101</td>\n",
       "      <td>HP</td>\n",
       "      <td>609</td>\n",
       "      <td>...</td>\n",
       "      <td>3</td>\n",
       "      <td>8</td>\n",
       "      <td>0</td>\n",
       "      <td>NaN</td>\n",
       "      <td>0</td>\n",
       "      <td>NaN</td>\n",
       "      <td>NaN</td>\n",
       "      <td>NaN</td>\n",
       "      <td>NaN</td>\n",
       "      <td>NaN</td>\n",
       "    </tr>\n",
       "  </tbody>\n",
       "</table>\n",
       "<p>5 rows × 29 columns</p>\n",
       "</div>"
      ],
      "text/plain": [
       "   Year  Month  DayofMonth  DayOfWeek  DepTime  CRSDepTime  ArrTime  \\\n",
       "0  2000      1          28          5   1647.0        1647   1906.0   \n",
       "1  2000      1          29          6   1648.0        1647   1939.0   \n",
       "2  2000      1          30          7      NaN        1647      NaN   \n",
       "3  2000      1          31          1   1645.0        1647   1852.0   \n",
       "4  2000      1           1          6    842.0         846   1057.0   \n",
       "\n",
       "   CRSArrTime UniqueCarrier  FlightNum        ...         TaxiIn  TaxiOut  \\\n",
       "0        1859            HP        154        ...             15       11   \n",
       "1        1859            HP        154        ...              5       47   \n",
       "2        1859            HP        154        ...              0        0   \n",
       "3        1859            HP        154        ...              7       14   \n",
       "4        1101            HP        609        ...              3        8   \n",
       "\n",
       "   Cancelled  CancellationCode  Diverted  CarrierDelay WeatherDelay NASDelay  \\\n",
       "0          0               NaN         0           NaN          NaN      NaN   \n",
       "1          0               NaN         0           NaN          NaN      NaN   \n",
       "2          1               NaN         0           NaN          NaN      NaN   \n",
       "3          0               NaN         0           NaN          NaN      NaN   \n",
       "4          0               NaN         0           NaN          NaN      NaN   \n",
       "\n",
       "   SecurityDelay  LateAircraftDelay  \n",
       "0            NaN                NaN  \n",
       "1            NaN                NaN  \n",
       "2            NaN                NaN  \n",
       "3            NaN                NaN  \n",
       "4            NaN                NaN  \n",
       "\n",
       "[5 rows x 29 columns]"
      ]
     },
     "execution_count": 3,
     "metadata": {},
     "output_type": "execute_result"
    }
   ],
   "source": [
    "df.head()"
   ]
  },
  {
   "cell_type": "markdown",
   "metadata": {},
   "source": [
    "### Start cleaning the data: remove Year because it's all the same.  Flight numbers are also irrelevant (if the flight number is relevant, it's because of other factors which are elsewhere, such as carrier incompetence, diversion, consistently bad weather between 2 locations, etc.).  Also, I'm removing cancellation data; being late or cancelled are mutually exclusive.\n",
    "### I had been going to remove Tail Number, but with further thought realized that there could be some aircraft that are simply slower; they might be older, or prone to malfunction, who knows?  The way to identify them would be via the tail number, so it might be somewhat predictive."
   ]
  },
  {
   "cell_type": "code",
   "execution_count": 4,
   "metadata": {},
   "outputs": [],
   "source": [
    "# only keep flights that weren't cancelled\n",
    "df = df[df['Cancelled'] == 0]"
   ]
  },
  {
   "cell_type": "code",
   "execution_count": 5,
   "metadata": {},
   "outputs": [],
   "source": [
    "df.drop(['Year', 'DayofMonth', 'FlightNum', 'Cancelled', 'CancellationCode'], 1, inplace=True)"
   ]
  },
  {
   "cell_type": "code",
   "execution_count": 6,
   "metadata": {},
   "outputs": [],
   "source": [
    "df.rename(columns={'DayOfWeek':'DWeek', 'UniqueCarrier':'CarrID', 'CRSElapsedTime':'SchElapTime',\n",
    "                   'FlightNum':'Flight', 'CRSArrTime':'SchArr', 'CRSDepTime':'SchDep'}, inplace=True)"
   ]
  },
  {
   "cell_type": "code",
   "execution_count": 7,
   "metadata": {},
   "outputs": [
    {
     "data": {
      "text/plain": [
       "Month                      0\n",
       "DWeek                      0\n",
       "DepTime                    0\n",
       "SchDep                     0\n",
       "ArrTime                14254\n",
       "SchArr                     0\n",
       "CarrID                     0\n",
       "TailNum                    0\n",
       "ActualElapsedTime      14254\n",
       "SchElapTime               10\n",
       "AirTime                14254\n",
       "ArrDelay               14254\n",
       "DepDelay                   0\n",
       "Origin                     0\n",
       "Dest                       0\n",
       "Distance                   0\n",
       "TaxiIn                     0\n",
       "TaxiOut                    0\n",
       "Diverted                   0\n",
       "CarrierDelay         5495557\n",
       "WeatherDelay         5495557\n",
       "NASDelay             5495557\n",
       "SecurityDelay        5495557\n",
       "LateAircraftDelay    5495557\n",
       "dtype: int64"
      ]
     },
     "execution_count": 7,
     "metadata": {},
     "output_type": "execute_result"
    }
   ],
   "source": [
    "df.isnull().sum()"
   ]
  },
  {
   "cell_type": "markdown",
   "metadata": {},
   "source": [
    "### All of the 'X'Delay columns contain only null values, so all are useless."
   ]
  },
  {
   "cell_type": "code",
   "execution_count": 8,
   "metadata": {},
   "outputs": [],
   "source": [
    "df.drop(['CarrierDelay', 'NASDelay', 'SecurityDelay', 'LateAircraftDelay', 'WeatherDelay'], 1, inplace=True)"
   ]
  },
  {
   "cell_type": "code",
   "execution_count": 9,
   "metadata": {},
   "outputs": [
    {
     "name": "stdout",
     "output_type": "stream",
     "text": [
      "<class 'pandas.core.frame.DataFrame'>\n",
      "Int64Index: 5495557 entries, 0 to 5683046\n",
      "Data columns (total 19 columns):\n",
      "Month                int64\n",
      "DWeek                int64\n",
      "DepTime              float64\n",
      "SchDep               int64\n",
      "ArrTime              float64\n",
      "SchArr               int64\n",
      "CarrID               object\n",
      "TailNum              object\n",
      "ActualElapsedTime    float64\n",
      "SchElapTime          float64\n",
      "AirTime              float64\n",
      "ArrDelay             float64\n",
      "DepDelay             float64\n",
      "Origin               object\n",
      "Dest                 object\n",
      "Distance             int64\n",
      "TaxiIn               int64\n",
      "TaxiOut              int64\n",
      "Diverted             int64\n",
      "dtypes: float64(7), int64(8), object(4)\n",
      "memory usage: 838.6+ MB\n"
     ]
    }
   ],
   "source": [
    "# Do we need these floats?  Floating point arithmetic takes more resources...\n",
    "df.info()"
   ]
  },
  {
   "cell_type": "markdown",
   "metadata": {},
   "source": [
    "### Only losing 14k rows by dropping NaN's"
   ]
  },
  {
   "cell_type": "code",
   "execution_count": 10,
   "metadata": {},
   "outputs": [
    {
     "name": "stdout",
     "output_type": "stream",
     "text": [
      "Out of 5495557 rows, 14254 will be lost by dropping NaN's\n"
     ]
    }
   ],
   "source": [
    "curr_size = df.shape[0]\n",
    "no_nulls_size = df.dropna().shape[0]\n",
    "print(\"Out of \" + str(curr_size) + \" rows, \" + str(curr_size - no_nulls_size) + \" will be lost by dropping NaN's\")\n",
    "df.dropna(inplace=True)"
   ]
  },
  {
   "cell_type": "markdown",
   "metadata": {},
   "source": [
    "### I've looked through the data, and all these floating point numbers are functioning as integers (none seem to have decimal places actually being used).  I'm converting them for performance.  Moreover, there's no reason to use 64-bit integers, where 16-bit will suffice, saving space and computation.  There aren't any really big numbers in this data."
   ]
  },
  {
   "cell_type": "code",
   "execution_count": 11,
   "metadata": {},
   "outputs": [],
   "source": [
    "cols = df.select_dtypes(['float64', 'int64']).columns\n",
    "\n",
    "for col in cols:\n",
    "    df[col] = df[col].astype('int16')"
   ]
  },
  {
   "cell_type": "code",
   "execution_count": 12,
   "metadata": {},
   "outputs": [
    {
     "data": {
      "text/html": [
       "<div>\n",
       "<style scoped>\n",
       "    .dataframe tbody tr th:only-of-type {\n",
       "        vertical-align: middle;\n",
       "    }\n",
       "\n",
       "    .dataframe tbody tr th {\n",
       "        vertical-align: top;\n",
       "    }\n",
       "\n",
       "    .dataframe thead th {\n",
       "        text-align: right;\n",
       "    }\n",
       "</style>\n",
       "<table border=\"1\" class=\"dataframe\">\n",
       "  <thead>\n",
       "    <tr style=\"text-align: right;\">\n",
       "      <th></th>\n",
       "      <th>Month</th>\n",
       "      <th>DWeek</th>\n",
       "      <th>DepTime</th>\n",
       "      <th>SchDep</th>\n",
       "      <th>ArrTime</th>\n",
       "      <th>SchArr</th>\n",
       "      <th>CarrID</th>\n",
       "      <th>TailNum</th>\n",
       "      <th>ActualElapsedTime</th>\n",
       "      <th>SchElapTime</th>\n",
       "      <th>AirTime</th>\n",
       "      <th>ArrDelay</th>\n",
       "      <th>DepDelay</th>\n",
       "      <th>Origin</th>\n",
       "      <th>Dest</th>\n",
       "      <th>Distance</th>\n",
       "      <th>TaxiIn</th>\n",
       "      <th>TaxiOut</th>\n",
       "      <th>Diverted</th>\n",
       "    </tr>\n",
       "  </thead>\n",
       "  <tbody>\n",
       "  </tbody>\n",
       "</table>\n",
       "</div>"
      ],
      "text/plain": [
       "Empty DataFrame\n",
       "Columns: [Month, DWeek, DepTime, SchDep, ArrTime, SchArr, CarrID, TailNum, ActualElapsedTime, SchElapTime, AirTime, ArrDelay, DepDelay, Origin, Dest, Distance, TaxiIn, TaxiOut, Diverted]\n",
       "Index: []"
      ]
     },
     "execution_count": 12,
     "metadata": {},
     "output_type": "execute_result"
    }
   ],
   "source": [
    "# Well look at that, no diversions at all.  Drop this column.\n",
    "df.loc[df['Diverted'] == 1]"
   ]
  },
  {
   "cell_type": "code",
   "execution_count": 13,
   "metadata": {},
   "outputs": [
    {
     "data": {
      "text/html": [
       "<div>\n",
       "<style scoped>\n",
       "    .dataframe tbody tr th:only-of-type {\n",
       "        vertical-align: middle;\n",
       "    }\n",
       "\n",
       "    .dataframe tbody tr th {\n",
       "        vertical-align: top;\n",
       "    }\n",
       "\n",
       "    .dataframe thead th {\n",
       "        text-align: right;\n",
       "    }\n",
       "</style>\n",
       "<table border=\"1\" class=\"dataframe\">\n",
       "  <thead>\n",
       "    <tr style=\"text-align: right;\">\n",
       "      <th></th>\n",
       "      <th>Month</th>\n",
       "      <th>DWeek</th>\n",
       "      <th>DepTime</th>\n",
       "      <th>SchDep</th>\n",
       "      <th>ArrTime</th>\n",
       "      <th>SchArr</th>\n",
       "      <th>CarrID</th>\n",
       "      <th>TailNum</th>\n",
       "      <th>ActualElapsedTime</th>\n",
       "      <th>SchElapTime</th>\n",
       "      <th>AirTime</th>\n",
       "      <th>ArrDelay</th>\n",
       "      <th>DepDelay</th>\n",
       "      <th>Origin</th>\n",
       "      <th>Dest</th>\n",
       "      <th>Distance</th>\n",
       "      <th>TaxiIn</th>\n",
       "      <th>TaxiOut</th>\n",
       "    </tr>\n",
       "  </thead>\n",
       "  <tbody>\n",
       "    <tr>\n",
       "      <th>0</th>\n",
       "      <td>1</td>\n",
       "      <td>5</td>\n",
       "      <td>1647</td>\n",
       "      <td>1647</td>\n",
       "      <td>1906</td>\n",
       "      <td>1859</td>\n",
       "      <td>HP</td>\n",
       "      <td>N808AW</td>\n",
       "      <td>259</td>\n",
       "      <td>252</td>\n",
       "      <td>233</td>\n",
       "      <td>7</td>\n",
       "      <td>0</td>\n",
       "      <td>ATL</td>\n",
       "      <td>PHX</td>\n",
       "      <td>1587</td>\n",
       "      <td>15</td>\n",
       "      <td>11</td>\n",
       "    </tr>\n",
       "    <tr>\n",
       "      <th>1</th>\n",
       "      <td>1</td>\n",
       "      <td>6</td>\n",
       "      <td>1648</td>\n",
       "      <td>1647</td>\n",
       "      <td>1939</td>\n",
       "      <td>1859</td>\n",
       "      <td>HP</td>\n",
       "      <td>N653AW</td>\n",
       "      <td>291</td>\n",
       "      <td>252</td>\n",
       "      <td>239</td>\n",
       "      <td>40</td>\n",
       "      <td>1</td>\n",
       "      <td>ATL</td>\n",
       "      <td>PHX</td>\n",
       "      <td>1587</td>\n",
       "      <td>5</td>\n",
       "      <td>47</td>\n",
       "    </tr>\n",
       "    <tr>\n",
       "      <th>3</th>\n",
       "      <td>1</td>\n",
       "      <td>1</td>\n",
       "      <td>1645</td>\n",
       "      <td>1647</td>\n",
       "      <td>1852</td>\n",
       "      <td>1859</td>\n",
       "      <td>HP</td>\n",
       "      <td>N806AW</td>\n",
       "      <td>247</td>\n",
       "      <td>252</td>\n",
       "      <td>226</td>\n",
       "      <td>-7</td>\n",
       "      <td>-2</td>\n",
       "      <td>ATL</td>\n",
       "      <td>PHX</td>\n",
       "      <td>1587</td>\n",
       "      <td>7</td>\n",
       "      <td>14</td>\n",
       "    </tr>\n",
       "    <tr>\n",
       "      <th>4</th>\n",
       "      <td>1</td>\n",
       "      <td>6</td>\n",
       "      <td>842</td>\n",
       "      <td>846</td>\n",
       "      <td>1057</td>\n",
       "      <td>1101</td>\n",
       "      <td>HP</td>\n",
       "      <td>N158AW</td>\n",
       "      <td>255</td>\n",
       "      <td>255</td>\n",
       "      <td>244</td>\n",
       "      <td>-4</td>\n",
       "      <td>-4</td>\n",
       "      <td>ATL</td>\n",
       "      <td>PHX</td>\n",
       "      <td>1587</td>\n",
       "      <td>3</td>\n",
       "      <td>8</td>\n",
       "    </tr>\n",
       "    <tr>\n",
       "      <th>5</th>\n",
       "      <td>1</td>\n",
       "      <td>7</td>\n",
       "      <td>849</td>\n",
       "      <td>846</td>\n",
       "      <td>1148</td>\n",
       "      <td>1101</td>\n",
       "      <td>HP</td>\n",
       "      <td>N656AW</td>\n",
       "      <td>299</td>\n",
       "      <td>255</td>\n",
       "      <td>267</td>\n",
       "      <td>47</td>\n",
       "      <td>3</td>\n",
       "      <td>ATL</td>\n",
       "      <td>PHX</td>\n",
       "      <td>1587</td>\n",
       "      <td>8</td>\n",
       "      <td>24</td>\n",
       "    </tr>\n",
       "  </tbody>\n",
       "</table>\n",
       "</div>"
      ],
      "text/plain": [
       "   Month  DWeek  DepTime  SchDep  ArrTime  SchArr CarrID TailNum  \\\n",
       "0      1      5     1647    1647     1906    1859     HP  N808AW   \n",
       "1      1      6     1648    1647     1939    1859     HP  N653AW   \n",
       "3      1      1     1645    1647     1852    1859     HP  N806AW   \n",
       "4      1      6      842     846     1057    1101     HP  N158AW   \n",
       "5      1      7      849     846     1148    1101     HP  N656AW   \n",
       "\n",
       "   ActualElapsedTime  SchElapTime  AirTime  ArrDelay  DepDelay Origin Dest  \\\n",
       "0                259          252      233         7         0    ATL  PHX   \n",
       "1                291          252      239        40         1    ATL  PHX   \n",
       "3                247          252      226        -7        -2    ATL  PHX   \n",
       "4                255          255      244        -4        -4    ATL  PHX   \n",
       "5                299          255      267        47         3    ATL  PHX   \n",
       "\n",
       "   Distance  TaxiIn  TaxiOut  \n",
       "0      1587      15       11  \n",
       "1      1587       5       47  \n",
       "3      1587       7       14  \n",
       "4      1587       3        8  \n",
       "5      1587       8       24  "
      ]
     },
     "execution_count": 13,
     "metadata": {},
     "output_type": "execute_result"
    }
   ],
   "source": [
    "df.drop('Diverted', 1, inplace=True)\n",
    "df.head()"
   ]
  },
  {
   "cell_type": "markdown",
   "metadata": {},
   "source": [
    "### It looks like there are redundant columns, which will have very high correlation with one another.  For instance, ActualElapsedTime is simply AirTime, TaxiIn, and TaxiOut added together.  Also, I'm not sure how useful scheduled times are for prediction, since actual times are what predict being early/late (along with flight time).  Specifically, I'm looking at scheduled arrival and scheduled in-air times; Scheduled departure will certainly be useful as certain times of the day are more or less busy, and people work differently in the morning vs. afternoon or evening.\n",
    "### Departure time likewise is simply derived from adding the scheduled departure with the departure delay; arrival time is similar."
   ]
  },
  {
   "cell_type": "code",
   "execution_count": 14,
   "metadata": {},
   "outputs": [],
   "source": [
    "df.drop(['DepTime', 'SchArr', 'ActualElapsedTime', 'ArrTime'], 1, inplace=True)"
   ]
  },
  {
   "cell_type": "code",
   "execution_count": 15,
   "metadata": {},
   "outputs": [
    {
     "data": {
      "text/html": [
       "<div>\n",
       "<style scoped>\n",
       "    .dataframe tbody tr th:only-of-type {\n",
       "        vertical-align: middle;\n",
       "    }\n",
       "\n",
       "    .dataframe tbody tr th {\n",
       "        vertical-align: top;\n",
       "    }\n",
       "\n",
       "    .dataframe thead th {\n",
       "        text-align: right;\n",
       "    }\n",
       "</style>\n",
       "<table border=\"1\" class=\"dataframe\">\n",
       "  <thead>\n",
       "    <tr style=\"text-align: right;\">\n",
       "      <th></th>\n",
       "      <th>Month</th>\n",
       "      <th>DWeek</th>\n",
       "      <th>SchDep</th>\n",
       "      <th>CarrID</th>\n",
       "      <th>TailNum</th>\n",
       "      <th>SchElapTime</th>\n",
       "      <th>AirTime</th>\n",
       "      <th>ArrDelay</th>\n",
       "      <th>DepDelay</th>\n",
       "      <th>Origin</th>\n",
       "      <th>Dest</th>\n",
       "      <th>Distance</th>\n",
       "      <th>TaxiIn</th>\n",
       "      <th>TaxiOut</th>\n",
       "    </tr>\n",
       "  </thead>\n",
       "  <tbody>\n",
       "    <tr>\n",
       "      <th>0</th>\n",
       "      <td>1</td>\n",
       "      <td>5</td>\n",
       "      <td>1647</td>\n",
       "      <td>HP</td>\n",
       "      <td>N808AW</td>\n",
       "      <td>252</td>\n",
       "      <td>233</td>\n",
       "      <td>7</td>\n",
       "      <td>0</td>\n",
       "      <td>ATL</td>\n",
       "      <td>PHX</td>\n",
       "      <td>1587</td>\n",
       "      <td>15</td>\n",
       "      <td>11</td>\n",
       "    </tr>\n",
       "    <tr>\n",
       "      <th>1</th>\n",
       "      <td>1</td>\n",
       "      <td>6</td>\n",
       "      <td>1647</td>\n",
       "      <td>HP</td>\n",
       "      <td>N653AW</td>\n",
       "      <td>252</td>\n",
       "      <td>239</td>\n",
       "      <td>40</td>\n",
       "      <td>1</td>\n",
       "      <td>ATL</td>\n",
       "      <td>PHX</td>\n",
       "      <td>1587</td>\n",
       "      <td>5</td>\n",
       "      <td>47</td>\n",
       "    </tr>\n",
       "    <tr>\n",
       "      <th>3</th>\n",
       "      <td>1</td>\n",
       "      <td>1</td>\n",
       "      <td>1647</td>\n",
       "      <td>HP</td>\n",
       "      <td>N806AW</td>\n",
       "      <td>252</td>\n",
       "      <td>226</td>\n",
       "      <td>-7</td>\n",
       "      <td>-2</td>\n",
       "      <td>ATL</td>\n",
       "      <td>PHX</td>\n",
       "      <td>1587</td>\n",
       "      <td>7</td>\n",
       "      <td>14</td>\n",
       "    </tr>\n",
       "    <tr>\n",
       "      <th>4</th>\n",
       "      <td>1</td>\n",
       "      <td>6</td>\n",
       "      <td>846</td>\n",
       "      <td>HP</td>\n",
       "      <td>N158AW</td>\n",
       "      <td>255</td>\n",
       "      <td>244</td>\n",
       "      <td>-4</td>\n",
       "      <td>-4</td>\n",
       "      <td>ATL</td>\n",
       "      <td>PHX</td>\n",
       "      <td>1587</td>\n",
       "      <td>3</td>\n",
       "      <td>8</td>\n",
       "    </tr>\n",
       "    <tr>\n",
       "      <th>5</th>\n",
       "      <td>1</td>\n",
       "      <td>7</td>\n",
       "      <td>846</td>\n",
       "      <td>HP</td>\n",
       "      <td>N656AW</td>\n",
       "      <td>255</td>\n",
       "      <td>267</td>\n",
       "      <td>47</td>\n",
       "      <td>3</td>\n",
       "      <td>ATL</td>\n",
       "      <td>PHX</td>\n",
       "      <td>1587</td>\n",
       "      <td>8</td>\n",
       "      <td>24</td>\n",
       "    </tr>\n",
       "  </tbody>\n",
       "</table>\n",
       "</div>"
      ],
      "text/plain": [
       "   Month  DWeek  SchDep CarrID TailNum  SchElapTime  AirTime  ArrDelay  \\\n",
       "0      1      5    1647     HP  N808AW          252      233         7   \n",
       "1      1      6    1647     HP  N653AW          252      239        40   \n",
       "3      1      1    1647     HP  N806AW          252      226        -7   \n",
       "4      1      6     846     HP  N158AW          255      244        -4   \n",
       "5      1      7     846     HP  N656AW          255      267        47   \n",
       "\n",
       "   DepDelay Origin Dest  Distance  TaxiIn  TaxiOut  \n",
       "0         0    ATL  PHX      1587      15       11  \n",
       "1         1    ATL  PHX      1587       5       47  \n",
       "3        -2    ATL  PHX      1587       7       14  \n",
       "4        -4    ATL  PHX      1587       3        8  \n",
       "5         3    ATL  PHX      1587       8       24  "
      ]
     },
     "execution_count": 15,
     "metadata": {},
     "output_type": "execute_result"
    }
   ],
   "source": [
    "df.head()"
   ]
  },
  {
   "cell_type": "code",
   "execution_count": 16,
   "metadata": {},
   "outputs": [
    {
     "data": {
      "text/plain": [
       "Month            12\n",
       "DWeek             7\n",
       "SchDep         1183\n",
       "CarrID           11\n",
       "TailNum        4033\n",
       "SchElapTime     497\n",
       "AirTime         630\n",
       "ArrDelay       1051\n",
       "DepDelay       1023\n",
       "Origin          206\n",
       "Dest            206\n",
       "Distance       1108\n",
       "TaxiIn          181\n",
       "TaxiOut         344\n",
       "dtype: int64"
      ]
     },
     "execution_count": 16,
     "metadata": {},
     "output_type": "execute_result"
    }
   ],
   "source": [
    "df.nunique()"
   ]
  },
  {
   "cell_type": "markdown",
   "metadata": {},
   "source": [
    "### Convert categorical variables"
   ]
  },
  {
   "cell_type": "code",
   "execution_count": 17,
   "metadata": {},
   "outputs": [],
   "source": [
    "convert = ['CarrID', 'Origin', 'Dest', 'TailNum']\n",
    "le = LabelEncoder()\n",
    "for name in convert:\n",
    "    df[name] = le.fit_transform(df[name])"
   ]
  },
  {
   "cell_type": "code",
   "execution_count": 18,
   "metadata": {},
   "outputs": [
    {
     "data": {
      "text/html": [
       "<div>\n",
       "<style scoped>\n",
       "    .dataframe tbody tr th:only-of-type {\n",
       "        vertical-align: middle;\n",
       "    }\n",
       "\n",
       "    .dataframe tbody tr th {\n",
       "        vertical-align: top;\n",
       "    }\n",
       "\n",
       "    .dataframe thead th {\n",
       "        text-align: right;\n",
       "    }\n",
       "</style>\n",
       "<table border=\"1\" class=\"dataframe\">\n",
       "  <thead>\n",
       "    <tr style=\"text-align: right;\">\n",
       "      <th></th>\n",
       "      <th>Month</th>\n",
       "      <th>DWeek</th>\n",
       "      <th>SchDep</th>\n",
       "      <th>CarrID</th>\n",
       "      <th>TailNum</th>\n",
       "      <th>SchElapTime</th>\n",
       "      <th>AirTime</th>\n",
       "      <th>ArrDelay</th>\n",
       "      <th>DepDelay</th>\n",
       "      <th>Origin</th>\n",
       "      <th>Dest</th>\n",
       "      <th>Distance</th>\n",
       "      <th>TaxiIn</th>\n",
       "      <th>TaxiOut</th>\n",
       "    </tr>\n",
       "  </thead>\n",
       "  <tbody>\n",
       "    <tr>\n",
       "      <th>0</th>\n",
       "      <td>1</td>\n",
       "      <td>5</td>\n",
       "      <td>1647</td>\n",
       "      <td>5</td>\n",
       "      <td>3254</td>\n",
       "      <td>252</td>\n",
       "      <td>233</td>\n",
       "      <td>7</td>\n",
       "      <td>0</td>\n",
       "      <td>8</td>\n",
       "      <td>154</td>\n",
       "      <td>1587</td>\n",
       "      <td>15</td>\n",
       "      <td>11</td>\n",
       "    </tr>\n",
       "    <tr>\n",
       "      <th>1</th>\n",
       "      <td>1</td>\n",
       "      <td>6</td>\n",
       "      <td>1647</td>\n",
       "      <td>5</td>\n",
       "      <td>2528</td>\n",
       "      <td>252</td>\n",
       "      <td>239</td>\n",
       "      <td>40</td>\n",
       "      <td>1</td>\n",
       "      <td>8</td>\n",
       "      <td>154</td>\n",
       "      <td>1587</td>\n",
       "      <td>5</td>\n",
       "      <td>47</td>\n",
       "    </tr>\n",
       "    <tr>\n",
       "      <th>3</th>\n",
       "      <td>1</td>\n",
       "      <td>1</td>\n",
       "      <td>1647</td>\n",
       "      <td>5</td>\n",
       "      <td>3244</td>\n",
       "      <td>252</td>\n",
       "      <td>226</td>\n",
       "      <td>-7</td>\n",
       "      <td>-2</td>\n",
       "      <td>8</td>\n",
       "      <td>154</td>\n",
       "      <td>1587</td>\n",
       "      <td>7</td>\n",
       "      <td>14</td>\n",
       "    </tr>\n",
       "    <tr>\n",
       "      <th>4</th>\n",
       "      <td>1</td>\n",
       "      <td>6</td>\n",
       "      <td>846</td>\n",
       "      <td>5</td>\n",
       "      <td>293</td>\n",
       "      <td>255</td>\n",
       "      <td>244</td>\n",
       "      <td>-4</td>\n",
       "      <td>-4</td>\n",
       "      <td>8</td>\n",
       "      <td>154</td>\n",
       "      <td>1587</td>\n",
       "      <td>3</td>\n",
       "      <td>8</td>\n",
       "    </tr>\n",
       "    <tr>\n",
       "      <th>5</th>\n",
       "      <td>1</td>\n",
       "      <td>7</td>\n",
       "      <td>846</td>\n",
       "      <td>5</td>\n",
       "      <td>2543</td>\n",
       "      <td>255</td>\n",
       "      <td>267</td>\n",
       "      <td>47</td>\n",
       "      <td>3</td>\n",
       "      <td>8</td>\n",
       "      <td>154</td>\n",
       "      <td>1587</td>\n",
       "      <td>8</td>\n",
       "      <td>24</td>\n",
       "    </tr>\n",
       "  </tbody>\n",
       "</table>\n",
       "</div>"
      ],
      "text/plain": [
       "   Month  DWeek  SchDep  CarrID  TailNum  SchElapTime  AirTime  ArrDelay  \\\n",
       "0      1      5    1647       5     3254          252      233         7   \n",
       "1      1      6    1647       5     2528          252      239        40   \n",
       "3      1      1    1647       5     3244          252      226        -7   \n",
       "4      1      6     846       5      293          255      244        -4   \n",
       "5      1      7     846       5     2543          255      267        47   \n",
       "\n",
       "   DepDelay  Origin  Dest  Distance  TaxiIn  TaxiOut  \n",
       "0         0       8   154      1587      15       11  \n",
       "1         1       8   154      1587       5       47  \n",
       "3        -2       8   154      1587       7       14  \n",
       "4        -4       8   154      1587       3        8  \n",
       "5         3       8   154      1587       8       24  "
      ]
     },
     "execution_count": 18,
     "metadata": {},
     "output_type": "execute_result"
    }
   ],
   "source": [
    "df.head()"
   ]
  },
  {
   "cell_type": "markdown",
   "metadata": {},
   "source": [
    "### These times make me nervous, as models will look at them as if they're actually numbers.  I'm going to convert them to raw minutes, as other time-related columns are just minutes."
   ]
  },
  {
   "cell_type": "code",
   "execution_count": 19,
   "metadata": {},
   "outputs": [],
   "source": [
    "def get_last_digits(num, digits=2):\n",
    "    \"\"\"\n",
    "    This converts a time to purely minutes.\n",
    "    IN: a 'time' in the form 1647 or 832; it's dealing with a bad format\n",
    "    OUT: an integer\n",
    "    EX: get_last_ditigs(1647) = 1007\n",
    "        get_last_digits(632)  = 392\n",
    "    \"\"\"\n",
    "    return (num // 100)*60 + (num % 10**digits)\n"
   ]
  },
  {
   "cell_type": "code",
   "execution_count": 20,
   "metadata": {},
   "outputs": [],
   "source": [
    "df['SchDep'] = df['SchDep'].apply(get_last_digits)"
   ]
  },
  {
   "cell_type": "code",
   "execution_count": 21,
   "metadata": {},
   "outputs": [
    {
     "data": {
      "text/html": [
       "<div>\n",
       "<style scoped>\n",
       "    .dataframe tbody tr th:only-of-type {\n",
       "        vertical-align: middle;\n",
       "    }\n",
       "\n",
       "    .dataframe tbody tr th {\n",
       "        vertical-align: top;\n",
       "    }\n",
       "\n",
       "    .dataframe thead th {\n",
       "        text-align: right;\n",
       "    }\n",
       "</style>\n",
       "<table border=\"1\" class=\"dataframe\">\n",
       "  <thead>\n",
       "    <tr style=\"text-align: right;\">\n",
       "      <th></th>\n",
       "      <th>Month</th>\n",
       "      <th>DWeek</th>\n",
       "      <th>SchDep</th>\n",
       "      <th>CarrID</th>\n",
       "      <th>TailNum</th>\n",
       "      <th>SchElapTime</th>\n",
       "      <th>AirTime</th>\n",
       "      <th>ArrDelay</th>\n",
       "      <th>DepDelay</th>\n",
       "      <th>Origin</th>\n",
       "      <th>Dest</th>\n",
       "      <th>Distance</th>\n",
       "      <th>TaxiIn</th>\n",
       "      <th>TaxiOut</th>\n",
       "    </tr>\n",
       "  </thead>\n",
       "  <tbody>\n",
       "    <tr>\n",
       "      <th>0</th>\n",
       "      <td>1</td>\n",
       "      <td>5</td>\n",
       "      <td>1007</td>\n",
       "      <td>5</td>\n",
       "      <td>3254</td>\n",
       "      <td>252</td>\n",
       "      <td>233</td>\n",
       "      <td>7</td>\n",
       "      <td>0</td>\n",
       "      <td>8</td>\n",
       "      <td>154</td>\n",
       "      <td>1587</td>\n",
       "      <td>15</td>\n",
       "      <td>11</td>\n",
       "    </tr>\n",
       "    <tr>\n",
       "      <th>1</th>\n",
       "      <td>1</td>\n",
       "      <td>6</td>\n",
       "      <td>1007</td>\n",
       "      <td>5</td>\n",
       "      <td>2528</td>\n",
       "      <td>252</td>\n",
       "      <td>239</td>\n",
       "      <td>40</td>\n",
       "      <td>1</td>\n",
       "      <td>8</td>\n",
       "      <td>154</td>\n",
       "      <td>1587</td>\n",
       "      <td>5</td>\n",
       "      <td>47</td>\n",
       "    </tr>\n",
       "    <tr>\n",
       "      <th>3</th>\n",
       "      <td>1</td>\n",
       "      <td>1</td>\n",
       "      <td>1007</td>\n",
       "      <td>5</td>\n",
       "      <td>3244</td>\n",
       "      <td>252</td>\n",
       "      <td>226</td>\n",
       "      <td>-7</td>\n",
       "      <td>-2</td>\n",
       "      <td>8</td>\n",
       "      <td>154</td>\n",
       "      <td>1587</td>\n",
       "      <td>7</td>\n",
       "      <td>14</td>\n",
       "    </tr>\n",
       "    <tr>\n",
       "      <th>4</th>\n",
       "      <td>1</td>\n",
       "      <td>6</td>\n",
       "      <td>526</td>\n",
       "      <td>5</td>\n",
       "      <td>293</td>\n",
       "      <td>255</td>\n",
       "      <td>244</td>\n",
       "      <td>-4</td>\n",
       "      <td>-4</td>\n",
       "      <td>8</td>\n",
       "      <td>154</td>\n",
       "      <td>1587</td>\n",
       "      <td>3</td>\n",
       "      <td>8</td>\n",
       "    </tr>\n",
       "    <tr>\n",
       "      <th>5</th>\n",
       "      <td>1</td>\n",
       "      <td>7</td>\n",
       "      <td>526</td>\n",
       "      <td>5</td>\n",
       "      <td>2543</td>\n",
       "      <td>255</td>\n",
       "      <td>267</td>\n",
       "      <td>47</td>\n",
       "      <td>3</td>\n",
       "      <td>8</td>\n",
       "      <td>154</td>\n",
       "      <td>1587</td>\n",
       "      <td>8</td>\n",
       "      <td>24</td>\n",
       "    </tr>\n",
       "  </tbody>\n",
       "</table>\n",
       "</div>"
      ],
      "text/plain": [
       "   Month  DWeek  SchDep  CarrID  TailNum  SchElapTime  AirTime  ArrDelay  \\\n",
       "0      1      5    1007       5     3254          252      233         7   \n",
       "1      1      6    1007       5     2528          252      239        40   \n",
       "3      1      1    1007       5     3244          252      226        -7   \n",
       "4      1      6     526       5      293          255      244        -4   \n",
       "5      1      7     526       5     2543          255      267        47   \n",
       "\n",
       "   DepDelay  Origin  Dest  Distance  TaxiIn  TaxiOut  \n",
       "0         0       8   154      1587      15       11  \n",
       "1         1       8   154      1587       5       47  \n",
       "3        -2       8   154      1587       7       14  \n",
       "4        -4       8   154      1587       3        8  \n",
       "5         3       8   154      1587       8       24  "
      ]
     },
     "execution_count": 21,
     "metadata": {},
     "output_type": "execute_result"
    }
   ],
   "source": [
    "df.head()"
   ]
  },
  {
   "cell_type": "markdown",
   "metadata": {},
   "source": [
    "### Take a subsample for testing"
   ]
  },
  {
   "cell_type": "code",
   "execution_count": 40,
   "metadata": {},
   "outputs": [],
   "source": [
    "train_samp = df.sample(100000)\n",
    "y = train_samp['ArrDelay']\n",
    "X = train_samp.drop('ArrDelay', 1)\n",
    "X_train, X_test, y_train, y_test = train_test_split(X, y, test_size=0.3, random_state=43)"
   ]
  },
  {
   "cell_type": "markdown",
   "metadata": {},
   "source": [
    "### Do a run with a random forest; turned out to be quite good"
   ]
  },
  {
   "cell_type": "code",
   "execution_count": 41,
   "metadata": {},
   "outputs": [
    {
     "data": {
      "text/plain": [
       "RandomForestRegressor(bootstrap=True, criterion='mse', max_depth=None,\n",
       "           max_features='auto', max_leaf_nodes=None,\n",
       "           min_impurity_decrease=0.0, min_impurity_split=None,\n",
       "           min_samples_leaf=1, min_samples_split=2,\n",
       "           min_weight_fraction_leaf=0.0, n_estimators=100, n_jobs=None,\n",
       "           oob_score=False, random_state=None, verbose=0, warm_start=False)"
      ]
     },
     "execution_count": 41,
     "metadata": {},
     "output_type": "execute_result"
    }
   ],
   "source": [
    "rfr = RandomForestRegressor(n_estimators=100)\n",
    "rfr.fit(X_train, y_train)"
   ]
  },
  {
   "cell_type": "code",
   "execution_count": 42,
   "metadata": {},
   "outputs": [
    {
     "name": "stdout",
     "output_type": "stream",
     "text": [
      "0.9594914581469073\n",
      "0.9594914581469073\n",
      "[0.96410515 0.96363157 0.96279804 0.92755681 0.9038075 ]\n",
      "Cross Validation Mean:  0.9443798150646103\n"
     ]
    }
   ],
   "source": [
    "predictions = rfr.predict(X_test)\n",
    "print('\\nR-squared:')\n",
    "print(rfr.score(X_test, y_test))\n",
    "cross = cross_val_score(rfr, X_train, y_train, cv=5)\n",
    "print(cross)\n",
    "print(\"Cross Validation Mean: \", cross.mean())"
   ]
  },
  {
   "cell_type": "code",
   "execution_count": 46,
   "metadata": {},
   "outputs": [
    {
     "data": {
      "text/plain": [
       "array([0.00271415, 0.00207422, 0.00418984, 0.00257026, 0.00368617,\n",
       "       0.02492101, 0.02688932, 0.84187855, 0.00393132, 0.00359294,\n",
       "       0.00378222, 0.01157274, 0.06819727])"
      ]
     },
     "execution_count": 46,
     "metadata": {},
     "output_type": "execute_result"
    }
   ],
   "source": [
    "rfr.feature_importances_"
   ]
  },
  {
   "cell_type": "code",
   "execution_count": 47,
   "metadata": {},
   "outputs": [
    {
     "name": "stdout",
     "output_type": "stream",
     "text": [
      "     Feat_names     F_Scores\n",
      "7      DepDelay  1102.724673\n",
      "12      TaxiOut    37.420912\n",
      "5   SchElapTime    12.550797\n",
      "10     Distance     9.971317\n",
      "6       AirTime     8.952449\n",
      "3        CarrID     5.672168\n",
      "2        SchDep     5.422968\n",
      "11       TaxiIn     4.597506\n",
      "4       TailNum     1.457786\n",
      "0         Month     1.360205\n",
      "9          Dest     1.275390\n",
      "8        Origin     1.137196\n",
      "1         DWeek     0.904761\n"
     ]
    }
   ],
   "source": [
    "selector = SelectKBest(k=13)\n",
    "X_new = selector.fit_transform(X_train, y_train)\n",
    "names = X.columns.values[selector.get_support()]\n",
    "scores = selector.scores_[selector.get_support()]\n",
    "names_scores = list(zip(names, scores))\n",
    "ns_df = pd.DataFrame(data = names_scores, columns=['Feat_names', 'F_Scores'])\n",
    "ns_df_sorted = ns_df.sort_values(['F_Scores', 'Feat_names'], ascending = [False, True])\n",
    "print(ns_df_sorted)"
   ]
  },
  {
   "cell_type": "markdown",
   "metadata": {},
   "source": [
    "### Now let's see how XGBoost does"
   ]
  },
  {
   "cell_type": "code",
   "execution_count": 59,
   "metadata": {},
   "outputs": [
    {
     "data": {
      "text/plain": [
       "XGBRegressor(base_score=0.5, booster='gbtree', colsample_bylevel=0.4,\n",
       "       colsample_bytree=1, gamma=0, learning_rate=0.1, max_delta_step=0,\n",
       "       max_depth=5, min_child_weight=1, missing=None, n_estimators=220,\n",
       "       n_jobs=1, nthread=None, objective='reg:linear', random_state=0,\n",
       "       reg_alpha=0, reg_lambda=1, scale_pos_weight=1, seed=None,\n",
       "       silent=True, subsample=1)"
      ]
     },
     "execution_count": 59,
     "metadata": {},
     "output_type": "execute_result"
    }
   ],
   "source": [
    "xgb = XGBRegressor(max_depth=5, learning_rate=0.1, n_estimators=220, colsample_bylevel=0.4)\n",
    "xgb.fit(X_train, y_train)"
   ]
  },
  {
   "cell_type": "code",
   "execution_count": 60,
   "metadata": {},
   "outputs": [
    {
     "name": "stdout",
     "output_type": "stream",
     "text": [
      "\n",
      "R-squared:\n",
      "0.9793779388735974\n",
      "[0.98725181 0.98099217 0.98424895 0.94343124 0.95001126]\n",
      "Accuracy: 96.92% (1.86%)\n"
     ]
    }
   ],
   "source": [
    "predictions = xgb.predict(X_test)\n",
    "print('\\nR-squared:')\n",
    "print(xgb.score(X_test, y_test))\n",
    "cross = cross_val_score(xgb, X_train, y_train, cv=5)\n",
    "print(cross)\n",
    "print(\"Accuracy: %.2f%% (%.2f%%)\" % (cross.mean()*100, cross.std()*100))"
   ]
  },
  {
   "cell_type": "markdown",
   "metadata": {},
   "source": [
    "### Aaannd let's run it on the whole set.  I expect it to take a couple hours."
   ]
  },
  {
   "cell_type": "code",
   "execution_count": 61,
   "metadata": {},
   "outputs": [],
   "source": [
    "y = df['ArrDelay']\n",
    "X = df.drop('ArrDelay', 1)\n",
    "X_train, X_test, y_train, y_test = train_test_split(X, y, test_size=0.3, random_state=43)"
   ]
  },
  {
   "cell_type": "code",
   "execution_count": 62,
   "metadata": {},
   "outputs": [
    {
     "data": {
      "text/plain": [
       "XGBRegressor(base_score=0.5, booster='gbtree', colsample_bylevel=0.4,\n",
       "       colsample_bytree=1, gamma=0, learning_rate=0.1, max_delta_step=0,\n",
       "       max_depth=5, min_child_weight=1, missing=None, n_estimators=220,\n",
       "       n_jobs=1, nthread=None, objective='reg:linear', random_state=0,\n",
       "       reg_alpha=0, reg_lambda=1, scale_pos_weight=1, seed=None,\n",
       "       silent=True, subsample=1)"
      ]
     },
     "execution_count": 62,
     "metadata": {},
     "output_type": "execute_result"
    }
   ],
   "source": [
    "xgb.fit(X_train, y_train)"
   ]
  },
  {
   "cell_type": "markdown",
   "metadata": {},
   "source": [
    "### It did take a couple hours, and it did very well too!"
   ]
  },
  {
   "cell_type": "code",
   "execution_count": 63,
   "metadata": {},
   "outputs": [
    {
     "name": "stdout",
     "output_type": "stream",
     "text": [
      "\n",
      "R-squared:\n",
      "0.9899538291348515\n",
      "[0.99053557 0.98896328 0.9891445  0.98988191 0.99063218]\n",
      "Accuracy: 98.98% (0.07%)\n"
     ]
    }
   ],
   "source": [
    "predictions = xgb.predict(X_test)\n",
    "print('\\nR-squared:')\n",
    "print(xgb.score(X_test, y_test))\n",
    "cross = cross_val_score(xgb, X_train, y_train, cv=5)\n",
    "print(cross)\n",
    "print(\"Accuracy: %.2f%% (%.2f%%)\" % (cross.mean()*100, cross.std()*100))"
   ]
  }
 ],
 "metadata": {
  "kernelspec": {
   "display_name": "Python 3",
   "language": "python",
   "name": "python3"
  },
  "language_info": {
   "codemirror_mode": {
    "name": "ipython",
    "version": 3
   },
   "file_extension": ".py",
   "mimetype": "text/x-python",
   "name": "python",
   "nbconvert_exporter": "python",
   "pygments_lexer": "ipython3",
   "version": "3.7.0"
  }
 },
 "nbformat": 4,
 "nbformat_minor": 2
}
