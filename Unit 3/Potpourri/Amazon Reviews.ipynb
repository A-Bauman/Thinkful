{
 "cells": [
  {
   "cell_type": "markdown",
   "metadata": {},
   "source": [
    "### I only show a slight improvement over simply choosing the dominant class (which was 84%, but 0 sensitivity).  The reviews have a lot of crossover between negative and positive, and it's especially difficult to pull out features that focus on negatives.  With another half day or day of work, I could parse through and find more features, but I'm sure there's a better way (NLP?)\n",
    "### I got the numbers below from Logistic Regression, and almost exactly the same using Naive Bayes.  I also trained on resampled (50/50 positive/negative) data, in an attempt to improve the model.  It became much less accurate, but did increase sensitivity significantly.\n",
    "\n",
    "#### Accuracy: 85.27%\n",
    "#### Specificity: 99.19%\n",
    "#### Sensitivity: 9.62%\n"
   ]
  },
  {
   "cell_type": "code",
   "execution_count": 26,
   "metadata": {},
   "outputs": [
    {
     "data": {
      "text/html": [
       "<style>.container { width:100% !important; }</style>"
      ],
      "text/plain": [
       "<IPython.core.display.HTML object>"
      ]
     },
     "metadata": {},
     "output_type": "display_data"
    }
   ],
   "source": [
    "import numpy as np\n",
    "import pandas as pd\n",
    "import gzip\n",
    "import matplotlib.pyplot as plt\n",
    "import seaborn as sns\n",
    "from IPython.core.display import display, HTML\n",
    "display(HTML(\"<style>.container { width:100% !important; }</style>\"))\n",
    "pd.set_option('display.max_rows', 100)\n",
    "#pd.set_option('display.max_colwidth', -1)\n",
    "\n",
    "from sklearn.model_selection import train_test_split\n",
    "from sklearn.naive_bayes import BernoulliNB\n",
    "from sklearn.metrics import confusion_matrix, classification_report\n",
    "from sklearn.model_selection import cross_val_score\n",
    "from sklearn.linear_model import LogisticRegression\n",
    "\n",
    "%matplotlib inline"
   ]
  },
  {
   "cell_type": "code",
   "execution_count": 2,
   "metadata": {},
   "outputs": [],
   "source": [
    "# These functions were on the data source's site, for uncompressing and \n",
    "# loading the data into pandas.  I left the abysmal variable name choices as I found them...\n",
    "def parse(path):\n",
    "  g = gzip.open(path, 'rb')\n",
    "  for l in g:\n",
    "    yield eval(l)\n",
    "\n",
    "    \n",
    "def getDF(path):\n",
    "  i = 0\n",
    "  df = {}\n",
    "  for d in parse(path):\n",
    "    df[i] = d\n",
    "    i += 1\n",
    "  return pd.DataFrame.from_dict(df, orient='index')\n"
   ]
  },
  {
   "cell_type": "code",
   "execution_count": 3,
   "metadata": {},
   "outputs": [],
   "source": [
    "revs = getDF('tools_home.json.gz')"
   ]
  },
  {
   "cell_type": "code",
   "execution_count": 4,
   "metadata": {},
   "outputs": [
    {
     "data": {
      "text/html": [
       "<div>\n",
       "<style scoped>\n",
       "    .dataframe tbody tr th:only-of-type {\n",
       "        vertical-align: middle;\n",
       "    }\n",
       "\n",
       "    .dataframe tbody tr th {\n",
       "        vertical-align: top;\n",
       "    }\n",
       "\n",
       "    .dataframe thead th {\n",
       "        text-align: right;\n",
       "    }\n",
       "</style>\n",
       "<table border=\"1\" class=\"dataframe\">\n",
       "  <thead>\n",
       "    <tr style=\"text-align: right;\">\n",
       "      <th></th>\n",
       "      <th>reviewerID</th>\n",
       "      <th>asin</th>\n",
       "      <th>reviewerName</th>\n",
       "      <th>helpful</th>\n",
       "      <th>reviewText</th>\n",
       "      <th>overall</th>\n",
       "      <th>summary</th>\n",
       "      <th>unixReviewTime</th>\n",
       "      <th>reviewTime</th>\n",
       "    </tr>\n",
       "  </thead>\n",
       "  <tbody>\n",
       "    <tr>\n",
       "      <th>0</th>\n",
       "      <td>A4IL0CLL27Q33</td>\n",
       "      <td>104800001X</td>\n",
       "      <td>D. Brennan</td>\n",
       "      <td>[0, 1]</td>\n",
       "      <td>I hate it when my shirt collars, not otherwise...</td>\n",
       "      <td>5.0</td>\n",
       "      <td>Perfect for collar stay management</td>\n",
       "      <td>1390953600</td>\n",
       "      <td>01 29, 2014</td>\n",
       "    </tr>\n",
       "    <tr>\n",
       "      <th>1</th>\n",
       "      <td>A3Q5W5E7TDVLJF</td>\n",
       "      <td>104800001X</td>\n",
       "      <td>funnyc130</td>\n",
       "      <td>[0, 0]</td>\n",
       "      <td>These little magnets are really powerful for t...</td>\n",
       "      <td>5.0</td>\n",
       "      <td>Neat</td>\n",
       "      <td>1369958400</td>\n",
       "      <td>05 31, 2013</td>\n",
       "    </tr>\n",
       "  </tbody>\n",
       "</table>\n",
       "</div>"
      ],
      "text/plain": [
       "       reviewerID        asin reviewerName helpful  \\\n",
       "0   A4IL0CLL27Q33  104800001X   D. Brennan  [0, 1]   \n",
       "1  A3Q5W5E7TDVLJF  104800001X    funnyc130  [0, 0]   \n",
       "\n",
       "                                          reviewText  overall  \\\n",
       "0  I hate it when my shirt collars, not otherwise...      5.0   \n",
       "1  These little magnets are really powerful for t...      5.0   \n",
       "\n",
       "                              summary  unixReviewTime   reviewTime  \n",
       "0  Perfect for collar stay management      1390953600  01 29, 2014  \n",
       "1                                Neat      1369958400  05 31, 2013  "
      ]
     },
     "execution_count": 4,
     "metadata": {},
     "output_type": "execute_result"
    }
   ],
   "source": [
    "revs.head(2)"
   ]
  },
  {
   "cell_type": "markdown",
   "metadata": {},
   "source": [
    "### Dropping the columns which aren't useful.  I'm keeping the product ID and summary to help see where reviews cluster for a given product, or possibly to help clarify an ambiguous review."
   ]
  },
  {
   "cell_type": "code",
   "execution_count": 5,
   "metadata": {},
   "outputs": [],
   "source": [
    "drop = ['reviewerID', 'reviewerName', 'helpful', 'unixReviewTime', 'reviewTime']\n",
    "revs.drop(columns=drop, inplace=True)"
   ]
  },
  {
   "cell_type": "code",
   "execution_count": 6,
   "metadata": {},
   "outputs": [
    {
     "data": {
      "text/html": [
       "<div>\n",
       "<style scoped>\n",
       "    .dataframe tbody tr th:only-of-type {\n",
       "        vertical-align: middle;\n",
       "    }\n",
       "\n",
       "    .dataframe tbody tr th {\n",
       "        vertical-align: top;\n",
       "    }\n",
       "\n",
       "    .dataframe thead th {\n",
       "        text-align: right;\n",
       "    }\n",
       "</style>\n",
       "<table border=\"1\" class=\"dataframe\">\n",
       "  <thead>\n",
       "    <tr style=\"text-align: right;\">\n",
       "      <th></th>\n",
       "      <th>asin</th>\n",
       "      <th>reviewText</th>\n",
       "      <th>overall</th>\n",
       "      <th>summary</th>\n",
       "    </tr>\n",
       "  </thead>\n",
       "  <tbody>\n",
       "    <tr>\n",
       "      <th>0</th>\n",
       "      <td>104800001X</td>\n",
       "      <td>I hate it when my shirt collars, not otherwise...</td>\n",
       "      <td>5.0</td>\n",
       "      <td>Perfect for collar stay management</td>\n",
       "    </tr>\n",
       "    <tr>\n",
       "      <th>1</th>\n",
       "      <td>104800001X</td>\n",
       "      <td>These little magnets are really powerful for t...</td>\n",
       "      <td>5.0</td>\n",
       "      <td>Neat</td>\n",
       "    </tr>\n",
       "  </tbody>\n",
       "</table>\n",
       "</div>"
      ],
      "text/plain": [
       "         asin                                         reviewText  overall  \\\n",
       "0  104800001X  I hate it when my shirt collars, not otherwise...      5.0   \n",
       "1  104800001X  These little magnets are really powerful for t...      5.0   \n",
       "\n",
       "                              summary  \n",
       "0  Perfect for collar stay management  \n",
       "1                                Neat  "
      ]
     },
     "execution_count": 6,
     "metadata": {},
     "output_type": "execute_result"
    }
   ],
   "source": [
    "revs.head(2)"
   ]
  },
  {
   "cell_type": "markdown",
   "metadata": {},
   "source": [
    "### Ok, the dominant class is by far positive reviews (let's call 'positive' as 4.0 or greater)."
   ]
  },
  {
   "cell_type": "code",
   "execution_count": 7,
   "metadata": {},
   "outputs": [
    {
     "data": {
      "text/plain": [
       "5.0    85266\n",
       "4.0    28336\n",
       "3.0    10769\n",
       "1.0     5143\n",
       "2.0     4962\n",
       "Name: overall, dtype: int64"
      ]
     },
     "execution_count": 7,
     "metadata": {},
     "output_type": "execute_result"
    }
   ],
   "source": [
    "revs['overall'].value_counts()"
   ]
  },
  {
   "cell_type": "markdown",
   "metadata": {},
   "source": [
    "### Not missing any values"
   ]
  },
  {
   "cell_type": "code",
   "execution_count": 8,
   "metadata": {},
   "outputs": [
    {
     "data": {
      "text/plain": [
       "asin          0\n",
       "reviewText    0\n",
       "overall       0\n",
       "summary       0\n",
       "dtype: int64"
      ]
     },
     "execution_count": 8,
     "metadata": {},
     "output_type": "execute_result"
    }
   ],
   "source": [
    "nans = revs.isnull().sum()\n",
    "nans"
   ]
  },
  {
   "cell_type": "code",
   "execution_count": 9,
   "metadata": {},
   "outputs": [
    {
     "name": "stdout",
     "output_type": "stream",
     "text": [
      "<class 'pandas.core.frame.DataFrame'>\n",
      "Int64Index: 134476 entries, 0 to 134475\n",
      "Data columns (total 4 columns):\n",
      "asin          134476 non-null object\n",
      "reviewText    134476 non-null object\n",
      "overall       134476 non-null float64\n",
      "summary       134476 non-null object\n",
      "dtypes: float64(1), object(3)\n",
      "memory usage: 5.1+ MB\n"
     ]
    }
   ],
   "source": [
    "revs.info()"
   ]
  },
  {
   "cell_type": "markdown",
   "metadata": {},
   "source": [
    "### Rename columns to make them clearer (at least to me)"
   ]
  },
  {
   "cell_type": "code",
   "execution_count": 10,
   "metadata": {},
   "outputs": [],
   "source": [
    "revs.rename(columns={'asin':'item', 'reviewText':'text', 'overall':'neg_rev'}, inplace=True)"
   ]
  },
  {
   "cell_type": "markdown",
   "metadata": {},
   "source": [
    "### Change this to binary, reviews 4.0 and above are positive (0), below are negative (1)"
   ]
  },
  {
   "cell_type": "code",
   "execution_count": 11,
   "metadata": {},
   "outputs": [],
   "source": [
    "revs['neg_rev'] = np.where(revs['neg_rev'] >= 4, 0, 1)"
   ]
  },
  {
   "cell_type": "code",
   "execution_count": 34,
   "metadata": {},
   "outputs": [],
   "source": [
    "#revs.loc[revs['neg_rev'] == 1, ['text']].head(4)"
   ]
  },
  {
   "cell_type": "code",
   "execution_count": 13,
   "metadata": {},
   "outputs": [
    {
     "data": {
      "text/html": [
       "<div>\n",
       "<style scoped>\n",
       "    .dataframe tbody tr th:only-of-type {\n",
       "        vertical-align: middle;\n",
       "    }\n",
       "\n",
       "    .dataframe tbody tr th {\n",
       "        vertical-align: top;\n",
       "    }\n",
       "\n",
       "    .dataframe thead th {\n",
       "        text-align: right;\n",
       "    }\n",
       "</style>\n",
       "<table border=\"1\" class=\"dataframe\">\n",
       "  <thead>\n",
       "    <tr style=\"text-align: right;\">\n",
       "      <th></th>\n",
       "      <th>item</th>\n",
       "      <th>text</th>\n",
       "      <th>summary</th>\n",
       "    </tr>\n",
       "    <tr>\n",
       "      <th>neg_rev</th>\n",
       "      <th></th>\n",
       "      <th></th>\n",
       "      <th></th>\n",
       "    </tr>\n",
       "  </thead>\n",
       "  <tbody>\n",
       "    <tr>\n",
       "      <th>0</th>\n",
       "      <td>743</td>\n",
       "      <td>743</td>\n",
       "      <td>743</td>\n",
       "    </tr>\n",
       "    <tr>\n",
       "      <th>1</th>\n",
       "      <td>578</td>\n",
       "      <td>578</td>\n",
       "      <td>578</td>\n",
       "    </tr>\n",
       "  </tbody>\n",
       "</table>\n",
       "</div>"
      ],
      "text/plain": [
       "         item  text  summary\n",
       "neg_rev                     \n",
       "0         743   743      743\n",
       "1         578   578      578"
      ]
     },
     "execution_count": 13,
     "metadata": {},
     "output_type": "execute_result"
    }
   ],
   "source": [
    "# This is for testing various words and phrases to see their distribution\n",
    "# in both classes\n",
    "revs.loc[revs['text'].str.contains(r\"junk\", case=False), :].groupby('neg_rev').count()"
   ]
  },
  {
   "cell_type": "code",
   "execution_count": 14,
   "metadata": {},
   "outputs": [
    {
     "name": "stderr",
     "output_type": "stream",
     "text": [
      "/Library/Frameworks/Python.framework/Versions/3.7/lib/python3.7/site-packages/ipykernel_launcher.py:25: UserWarning: This pattern has match groups. To actually get the groups, use str.extract.\n",
      "/Library/Frameworks/Python.framework/Versions/3.7/lib/python3.7/site-packages/ipykernel_launcher.py:25: UserWarning: This pattern has match groups. To actually get the groups, use str.extract.\n",
      "/Library/Frameworks/Python.framework/Versions/3.7/lib/python3.7/site-packages/ipykernel_launcher.py:25: UserWarning: This pattern has match groups. To actually get the groups, use str.extract.\n",
      "/Library/Frameworks/Python.framework/Versions/3.7/lib/python3.7/site-packages/ipykernel_launcher.py:25: UserWarning: This pattern has match groups. To actually get the groups, use str.extract.\n"
     ]
    }
   ],
   "source": [
    "words = ([r\"\\blove\\b\", \"love\"],\n",
    "         [r\"\\bgreat\\b\", \"great\"],\n",
    "         [r\"\\b(very)? easy (to use)?\\b\", \"easy\"],\n",
    "         [r\"\\bworks? well\\b\", \"works\"],\n",
    "         [r\"\\bnice\\b\", \"nice\"],\n",
    "         [r\"\\bexcellent\\b\", \"excellent\"],\n",
    "         [r\"\\bfine\\b\", \"fine\"],\n",
    "         [r\"\\bhappy\\b\", \"happy\"],\n",
    "         [r\"\\bquality\\b\", \"quality\"],\n",
    "         [r\"\\bimpressed\\b\", \"impressed\"],\n",
    "         [r\"\\bvalue\\b\", \"value\"],\n",
    "         [r\"\\bgood\\b\", \"good\"],\n",
    "         [r\"\\bhighly\\b\", \"highly\"],\n",
    "         [r\"\\bprice\\b\", \"price\"],\n",
    "         [r\"\\bbest\\b\", \"best\"],\n",
    "         [r\"\\buseless\\b\", \"useless\"],\n",
    "         [r\"\\breturn(ed)?\\b\", \"return\"],\n",
    "         [r\"\\bvery disappointed\\b\", \"disappoint\"],\n",
    "         [r\"\\bfav(orite)?\", \"favorite\"],\n",
    "         [r\"\\bunusable\\b\", \"unusable\"],\n",
    "         [r\"\\bchina?(ese)?\", \"china\"])\n",
    "\n",
    "for pattern, word in words:\n",
    "    revs[str(word)] = revs['text'].str.contains(pattern, case=False)"
   ]
  },
  {
   "cell_type": "code",
   "execution_count": 15,
   "metadata": {},
   "outputs": [
    {
     "data": {
      "image/png": "[encoded data removed]",
      "text/plain": [
       "<Figure size 576x432 with 2 Axes>"
      ]
     },
     "metadata": {},
     "output_type": "display_data"
    }
   ],
   "source": [
    "# Hardly any correlation at all\n",
    "fig, ax = plt.subplots(figsize=(8,6))\n",
    "sns.heatmap(revs.corr())\n",
    "plt.show()"
   ]
  },
  {
   "cell_type": "code",
   "execution_count": 16,
   "metadata": {},
   "outputs": [],
   "source": [
    "# Split into data and target\n",
    "X = revs.loc[:, 'love':]\n",
    "y = revs['neg_rev']\n",
    "X_train, X_test, y_train, y_test = train_test_split(X, y, test_size=0.3, random_state=43)"
   ]
  },
  {
   "cell_type": "code",
   "execution_count": 17,
   "metadata": {},
   "outputs": [],
   "source": [
    "bnb = BernoulliNB()\n",
    "bnb.fit(X_train, y_train)\n",
    "predictions = bnb.predict(X_test)"
   ]
  },
  {
   "cell_type": "code",
   "execution_count": 18,
   "metadata": {},
   "outputs": [
    {
     "name": "stdout",
     "output_type": "stream",
     "text": [
      "[[33804   270]\n",
      " [ 5684   585]]\n",
      "\n",
      "               precision    recall  f1-score   support\n",
      "\n",
      "           0       0.86      0.99      0.92     34074\n",
      "           1       0.68      0.09      0.16      6269\n",
      "\n",
      "   micro avg       0.85      0.85      0.85     40343\n",
      "   macro avg       0.77      0.54      0.54     40343\n",
      "weighted avg       0.83      0.85      0.80     40343\n",
      "\n"
     ]
    }
   ],
   "source": [
    "print(confusion_matrix(y_test, predictions))\n",
    "print('\\n', classification_report(y_test, predictions))"
   ]
  },
  {
   "cell_type": "code",
   "execution_count": 19,
   "metadata": {},
   "outputs": [
    {
     "data": {
      "text/html": [
       "<div>\n",
       "<style scoped>\n",
       "    .dataframe tbody tr th:only-of-type {\n",
       "        vertical-align: middle;\n",
       "    }\n",
       "\n",
       "    .dataframe tbody tr th {\n",
       "        vertical-align: top;\n",
       "    }\n",
       "\n",
       "    .dataframe thead th {\n",
       "        text-align: right;\n",
       "    }\n",
       "</style>\n",
       "<table border=\"1\" class=\"dataframe\">\n",
       "  <thead>\n",
       "    <tr style=\"text-align: right;\">\n",
       "      <th></th>\n",
       "      <th>item</th>\n",
       "      <th>text</th>\n",
       "      <th>summary</th>\n",
       "      <th>love</th>\n",
       "      <th>great</th>\n",
       "      <th>easy</th>\n",
       "      <th>works</th>\n",
       "      <th>nice</th>\n",
       "      <th>excellent</th>\n",
       "      <th>fine</th>\n",
       "      <th>...</th>\n",
       "      <th>good</th>\n",
       "      <th>highly</th>\n",
       "      <th>price</th>\n",
       "      <th>best</th>\n",
       "      <th>useless</th>\n",
       "      <th>return</th>\n",
       "      <th>disappoint</th>\n",
       "      <th>favorite</th>\n",
       "      <th>unusable</th>\n",
       "      <th>china</th>\n",
       "    </tr>\n",
       "    <tr>\n",
       "      <th>neg_rev</th>\n",
       "      <th></th>\n",
       "      <th></th>\n",
       "      <th></th>\n",
       "      <th></th>\n",
       "      <th></th>\n",
       "      <th></th>\n",
       "      <th></th>\n",
       "      <th></th>\n",
       "      <th></th>\n",
       "      <th></th>\n",
       "      <th></th>\n",
       "      <th></th>\n",
       "      <th></th>\n",
       "      <th></th>\n",
       "      <th></th>\n",
       "      <th></th>\n",
       "      <th></th>\n",
       "      <th></th>\n",
       "      <th></th>\n",
       "      <th></th>\n",
       "      <th></th>\n",
       "    </tr>\n",
       "  </thead>\n",
       "  <tbody>\n",
       "    <tr>\n",
       "      <th>0</th>\n",
       "      <td>113602</td>\n",
       "      <td>113602</td>\n",
       "      <td>113602</td>\n",
       "      <td>113602</td>\n",
       "      <td>113602</td>\n",
       "      <td>113602</td>\n",
       "      <td>113602</td>\n",
       "      <td>113602</td>\n",
       "      <td>113602</td>\n",
       "      <td>113602</td>\n",
       "      <td>...</td>\n",
       "      <td>113602</td>\n",
       "      <td>113602</td>\n",
       "      <td>113602</td>\n",
       "      <td>113602</td>\n",
       "      <td>113602</td>\n",
       "      <td>113602</td>\n",
       "      <td>113602</td>\n",
       "      <td>113602</td>\n",
       "      <td>113602</td>\n",
       "      <td>113602</td>\n",
       "    </tr>\n",
       "    <tr>\n",
       "      <th>1</th>\n",
       "      <td>20874</td>\n",
       "      <td>20874</td>\n",
       "      <td>20874</td>\n",
       "      <td>20874</td>\n",
       "      <td>20874</td>\n",
       "      <td>20874</td>\n",
       "      <td>20874</td>\n",
       "      <td>20874</td>\n",
       "      <td>20874</td>\n",
       "      <td>20874</td>\n",
       "      <td>...</td>\n",
       "      <td>20874</td>\n",
       "      <td>20874</td>\n",
       "      <td>20874</td>\n",
       "      <td>20874</td>\n",
       "      <td>20874</td>\n",
       "      <td>20874</td>\n",
       "      <td>20874</td>\n",
       "      <td>20874</td>\n",
       "      <td>20874</td>\n",
       "      <td>20874</td>\n",
       "    </tr>\n",
       "  </tbody>\n",
       "</table>\n",
       "<p>2 rows × 24 columns</p>\n",
       "</div>"
      ],
      "text/plain": [
       "           item    text  summary    love   great    easy   works    nice  \\\n",
       "neg_rev                                                                    \n",
       "0        113602  113602   113602  113602  113602  113602  113602  113602   \n",
       "1         20874   20874    20874   20874   20874   20874   20874   20874   \n",
       "\n",
       "         excellent    fine   ...      good  highly   price    best  useless  \\\n",
       "neg_rev                      ...                                              \n",
       "0           113602  113602   ...    113602  113602  113602  113602   113602   \n",
       "1            20874   20874   ...     20874   20874   20874   20874    20874   \n",
       "\n",
       "         return  disappoint  favorite  unusable   china  \n",
       "neg_rev                                                  \n",
       "0        113602      113602    113602    113602  113602  \n",
       "1         20874       20874     20874     20874   20874  \n",
       "\n",
       "[2 rows x 24 columns]"
      ]
     },
     "execution_count": 19,
     "metadata": {},
     "output_type": "execute_result"
    }
   ],
   "source": [
    "revs.groupby('neg_rev').count()"
   ]
  },
  {
   "cell_type": "code",
   "execution_count": 20,
   "metadata": {},
   "outputs": [],
   "source": [
    "# I pulled this out of my old Naive Bayes model, another way to do evaluation; more verbose to be sure!\n",
    "def evaluate(data, target, predicted):\n",
    "    \"\"\"\n",
    "    Do all of the statistical evaluation of a classifier in one place.\n",
    "    IN: the data being tested, target labels and predicted labels\n",
    "    OUT: various tests, accuracy, specificity, sensitivity, and confusion matrix usage\n",
    "    \"\"\"\n",
    "    \n",
    "    total_points = data.shape[0]\n",
    "    hits = (target == predicted).sum()\n",
    "    misses = (target != predicted).sum()\n",
    "    accuracy = (hits / data.shape[0]) * 100\n",
    "    c_matr = confusion_matrix(target, predicted)\n",
    "    real_ham = (target == False).sum()\n",
    "    real_spam = (target == True).sum()\n",
    "    specificity = (c_matr[0][0] / real_ham) * 100\n",
    "    sensitivity = (c_matr[1][1] / real_spam) * 100\n",
    "    \n",
    "    print(\"Total data points in the set: {}\".format(total_points))\n",
    "    \n",
    "    print(\"Correct: {} ({} true negatives and {} true positives)\".format(\n",
    "        hits, c_matr[0][0], c_matr[1][1]))\n",
    "    \n",
    "    print(\"Mislabeled: {} ({} Type I / false alarms and {} Type II / misses)\".format(\n",
    "        misses, c_matr[0][1], c_matr[1][0]))\n",
    "    \n",
    "    print(f\"Real test data: negatives {real_ham} positives {real_spam}\")  \n",
    "    print(f\"\\nAccuracy: {accuracy:.2f}%\\nSpecificity: {specificity:.2f}%\\nSensitivity: {sensitivity:.2f}%\")"
   ]
  },
  {
   "cell_type": "code",
   "execution_count": 21,
   "metadata": {},
   "outputs": [
    {
     "name": "stdout",
     "output_type": "stream",
     "text": [
      "Total data points in the set: 40343\n",
      "Correct: 34389 (33804 true negatives and 585 true positives)\n",
      "Mislabeled: 5954 (270 Type I / false alarms and 5684 Type II / misses)\n",
      "Real test data: negatives 34074 positives 6269\n",
      "\n",
      "Accuracy: 85.24%\n",
      "Specificity: 99.21%\n",
      "Sensitivity: 9.33%\n"
     ]
    }
   ],
   "source": [
    "evaluate(X_test, y_test, predictions)"
   ]
  },
  {
   "cell_type": "markdown",
   "metadata": {},
   "source": [
    "### Pretty abysmal; time to resample and weight this more evenly.  I'm making a 50/50 split of negative and positive reviews, 20k total"
   ]
  },
  {
   "cell_type": "code",
   "execution_count": 22,
   "metadata": {},
   "outputs": [],
   "source": [
    "# Make a more even split to train on\n",
    "eq_sampling = pd.concat([revs.loc[revs['neg_rev'] == 1, :].sample(10000),\n",
    "                         revs.loc[revs['neg_rev'] == 0, :].sample(10000)])"
   ]
  },
  {
   "cell_type": "code",
   "execution_count": 23,
   "metadata": {},
   "outputs": [],
   "source": [
    "# take training data from my evenly split data\n",
    "X = eq_sampling.loc[:, 'love':]\n",
    "y = eq_sampling['neg_rev']\n",
    "bnb.fit(X, y)\n",
    "predictions = bnb.predict(X_test)"
   ]
  },
  {
   "cell_type": "markdown",
   "metadata": {},
   "source": [
    "### An improvement in sensitivity, but a big loss overall!  Looks like the training data need to be improved, a lot.  These methods are just too coarse, and need real NLP."
   ]
  },
  {
   "cell_type": "code",
   "execution_count": 24,
   "metadata": {},
   "outputs": [
    {
     "name": "stdout",
     "output_type": "stream",
     "text": [
      "[[19065 15009]\n",
      " [ 1766  4503]]\n",
      "\n",
      "               precision    recall  f1-score   support\n",
      "\n",
      "           0       0.92      0.56      0.69     34074\n",
      "           1       0.23      0.72      0.35      6269\n",
      "\n",
      "   micro avg       0.58      0.58      0.58     40343\n",
      "   macro avg       0.57      0.64      0.52     40343\n",
      "weighted avg       0.81      0.58      0.64     40343\n",
      "\n"
     ]
    }
   ],
   "source": [
    "print(confusion_matrix(y_test, predictions))\n",
    "print('\\n', classification_report(y_test, predictions))"
   ]
  },
  {
   "cell_type": "code",
   "execution_count": 25,
   "metadata": {},
   "outputs": [
    {
     "name": "stdout",
     "output_type": "stream",
     "text": [
      "Total data points in the set: 40343\n",
      "Correct: 23568 (19065 true negatives and 4503 true positives)\n",
      "Mislabeled: 16775 (15009 Type I / false alarms and 1766 Type II / misses)\n",
      "Real test data: negatives 34074 positives 6269\n",
      "\n",
      "Accuracy: 58.42%\n",
      "Specificity: 55.95%\n",
      "Sensitivity: 71.83%\n"
     ]
    }
   ],
   "source": [
    "evaluate(X_test, y_test, predictions)"
   ]
  },
  {
   "cell_type": "markdown",
   "metadata": {},
   "source": [
    "### For grins, let's try a different model, Logistic Regression."
   ]
  },
  {
   "cell_type": "code",
   "execution_count": 30,
   "metadata": {},
   "outputs": [
    {
     "name": "stderr",
     "output_type": "stream",
     "text": [
      "/Library/Frameworks/Python.framework/Versions/3.7/lib/python3.7/site-packages/sklearn/linear_model/logistic.py:432: FutureWarning: Default solver will be changed to 'lbfgs' in 0.22. Specify a solver to silence this warning.\n",
      "  FutureWarning)\n"
     ]
    },
    {
     "name": "stdout",
     "output_type": "stream",
     "text": [
      "Coefficients\n",
      "[[-0.78271756 -0.7706641  -0.63855029 -0.11129211 -0.3640463  -0.90698919\n",
      "   0.39020884 -0.7763177   0.01969879 -0.21354169 -0.28577422  0.06266981\n",
      "  -1.61395091 -0.07548732 -0.37313795  1.89830357  2.08256638  3.45153872\n",
      "  -0.2388785   1.90366763  1.02301782]]\n",
      "[-1.44234511]\n",
      "\n",
      " Accuracy by admission status\n",
      "neg_rev      0     1\n",
      "row_0               \n",
      "0        33797  5666\n",
      "1          277   603\n",
      "\n",
      " Percentage accuracy\n",
      "0.8526881986961803\n"
     ]
    }
   ],
   "source": [
    "lr = LogisticRegression(C=1e9)\n",
    "fit = lr.fit(X_train, y_train)\n",
    "\n",
    "print('Coefficients')\n",
    "print(fit.coef_)\n",
    "print(fit.intercept_)\n",
    "predictions = lr.predict(X_test)\n",
    "\n",
    "print('\\n Accuracy by admission status')\n",
    "print(pd.crosstab(predictions, y_test))\n",
    "\n",
    "print('\\n Percentage accuracy')\n",
    "print(lr.score(X_test, y_test))"
   ]
  },
  {
   "cell_type": "markdown",
   "metadata": {},
   "source": [
    "### The numbers are actually quite similar to Naive Bayes, both using the original data as well as the 50/50 data"
   ]
  },
  {
   "cell_type": "code",
   "execution_count": 31,
   "metadata": {},
   "outputs": [
    {
     "name": "stdout",
     "output_type": "stream",
     "text": [
      "Total data points in the set: 40343\n",
      "Correct: 34400 (33797 true negatives and 603 true positives)\n",
      "Mislabeled: 5943 (277 Type I / false alarms and 5666 Type II / misses)\n",
      "Real test data: negatives 34074 positives 6269\n",
      "\n",
      "Accuracy: 85.27%\n",
      "Specificity: 99.19%\n",
      "Sensitivity: 9.62%\n"
     ]
    }
   ],
   "source": [
    "# Original data here\n",
    "evaluate(X_test, y_test, predictions)"
   ]
  },
  {
   "cell_type": "markdown",
   "metadata": {},
   "source": [
    "### Below is Logistic Regression using the 50/50 training data; also worse, basically the same as the Naive Bayes on the same data"
   ]
  },
  {
   "cell_type": "code",
   "execution_count": 32,
   "metadata": {},
   "outputs": [
    {
     "name": "stdout",
     "output_type": "stream",
     "text": [
      "Coefficients\n",
      "[[-0.85037466 -0.80505102 -0.60702586 -0.03135053 -0.32159203 -0.87504495\n",
      "   0.50446763 -0.6788178  -0.01550147 -0.01318161 -0.29232005  0.08471063\n",
      "  -1.74435474 -0.03944309 -0.33030413  2.04650223  2.06511949  2.89840386\n",
      "  -0.34529354  1.75480767  1.12124763]]\n",
      "[0.22957896]\n",
      "\n",
      " Accuracy by admission status\n",
      "neg_rev      0     1\n",
      "row_0               \n",
      "0        18906  1747\n",
      "1        15168  4522\n",
      "\n",
      " Percentage accuracy\n",
      "0.5807203232283171\n"
     ]
    },
    {
     "name": "stderr",
     "output_type": "stream",
     "text": [
      "/Library/Frameworks/Python.framework/Versions/3.7/lib/python3.7/site-packages/sklearn/linear_model/logistic.py:432: FutureWarning: Default solver will be changed to 'lbfgs' in 0.22. Specify a solver to silence this warning.\n",
      "  FutureWarning)\n"
     ]
    }
   ],
   "source": [
    "fit = lr.fit(X, y)\n",
    "\n",
    "print('Coefficients')\n",
    "print(fit.coef_)\n",
    "print(fit.intercept_)\n",
    "predictions = lr.predict(X_test)\n",
    "\n",
    "print('\\n Accuracy by admission status')\n",
    "print(pd.crosstab(predictions, y_test))\n",
    "\n",
    "print('\\n Percentage accuracy')\n",
    "print(lr.score(X_test, y_test))"
   ]
  },
  {
   "cell_type": "code",
   "execution_count": 33,
   "metadata": {},
   "outputs": [
    {
     "name": "stdout",
     "output_type": "stream",
     "text": [
      "Total data points in the set: 40343\n",
      "Correct: 23428 (18906 true negatives and 4522 true positives)\n",
      "Mislabeled: 16915 (15168 Type I / false alarms and 1747 Type II / misses)\n",
      "Real test data: negatives 34074 positives 6269\n",
      "\n",
      "Accuracy: 58.07%\n",
      "Specificity: 55.49%\n",
      "Sensitivity: 72.13%\n"
     ]
    }
   ],
   "source": [
    "evaluate(X_test, y_test, predictions)"
   ]
  }
 ],
 "metadata": {
  "kernelspec": {
   "display_name": "Python 3",
   "language": "python",
   "name": "python3"
  },
  "language_info": {
   "codemirror_mode": {
    "name": "ipython",
    "version": 3
   },
   "file_extension": ".py",
   "mimetype": "text/x-python",
   "name": "python",
   "nbconvert_exporter": "python",
   "pygments_lexer": "ipython3",
   "version": "3.7.0"
  }
 },
 "nbformat": 4,
 "nbformat_minor": 2
}
