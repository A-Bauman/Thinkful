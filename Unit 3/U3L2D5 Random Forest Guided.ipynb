{
 "cells": [
  {
   "cell_type": "markdown",
   "metadata": {},
   "source": [
    "### I did a whole bunch of cleaning and massaging here before going to SelectKBest, as you can see.  Still more could be done, namely converting object types (likely just text) to numerics, but I let the dummy encoding take care of it eventually.  In industry, I'll likely do some exploratory modeling and feature selection much much sooner, just to see how things go, then get more serious about data cleaning.\n",
    "### As I mentioned in our call, I was surprised which features ended up being the strongest; I was definitely looking at it as a human, and was way off.  Good lesson in trusting the technology, provided I do my end correctly.\n",
    "### I'm not sure I could predict above 90% or not without using payment amt or outstanding principal, I actually would need to explore a bit and winnow those out to see.  Considering they're in the top 4, it would be difficult.  Regardless, Thinkful's estimate for this whole lesson, including the drill, is 2-3 hours, and I'm beyond double that already.  I know I could pretty easily find out, now that my model is working well."
   ]
  },
  {
   "cell_type": "code",
   "execution_count": 1,
   "metadata": {},
   "outputs": [],
   "source": [
    "import pandas as pd\n",
    "import numpy as np\n",
    "import matplotlib.pyplot as plt\n",
    "import seaborn as sns\n",
    "from sklearn.feature_selection import SelectKBest, f_regression, mutual_info_regression, f_classif\n",
    "%matplotlib inline"
   ]
  },
  {
   "cell_type": "code",
   "execution_count": 2,
   "metadata": {},
   "outputs": [],
   "source": [
    "def cleanup(df, col, patterns):\n",
    "    \"\"\" \n",
    "    Cleans up names in a specified dataframe.column, according to patterns\n",
    "    Patterns are a tuple of lists: ([regex, replacement], [...], etc)\n",
    "    replace() happens IN PLACE\n",
    "    \"\"\"\n",
    "    for pattern, replacement in patterns:\n",
    "        df[col] = df[col].str.replace(pattern, replacement)\n"
   ]
  },
  {
   "cell_type": "code",
   "execution_count": 3,
   "metadata": {},
   "outputs": [
    {
     "name": "stderr",
     "output_type": "stream",
     "text": [
      "/Library/Frameworks/Python.framework/Versions/3.7/lib/python3.7/site-packages/IPython/core/interactiveshell.py:2785: DtypeWarning: Columns (0,19,55) have mixed types. Specify dtype option on import or set low_memory=False.\n",
      "  interactivity=interactivity, compiler=compiler, result=result)\n"
     ]
    }
   ],
   "source": [
    "y2015 = pd.read_csv('loans.csv', skipinitialspace=True, header=1)"
   ]
  },
  {
   "cell_type": "code",
   "execution_count": 4,
   "metadata": {},
   "outputs": [],
   "source": [
    "# a bunch of cleanup here; I dropped NaN's, but only if a column had 200k or more\n",
    "y2015 = y2015[:-2]\n",
    "y2015.drop(columns=[\"id\", \"member_id\"], inplace=True)\n",
    "y2015['int_rate'] = pd.to_numeric(y2015['int_rate'].str.strip('%'), errors='coerce')\n",
    "\n",
    "y2015.drop(['url', 'emp_title', 'zip_code', 'earliest_cr_line', 'revol_util',\n",
    "            'sub_grade', 'addr_state', 'desc', \"verification_status_joint\",\n",
    "            \"disbursement_method\", \"hardship_type\", \"pymnt_plan\", \"title\"], 1, inplace=True)\n",
    "\n",
    "y2015[\"term\"] = pd.to_numeric(y2015[\"term\"].str.strip(' months'), errors='coerce')\n",
    "y2015.dropna(axis=1, how='any', thresh=200000, inplace=True)"
   ]
  },
  {
   "cell_type": "code",
   "execution_count": 5,
   "metadata": {},
   "outputs": [],
   "source": [
    "# changing the employment length column to numeric, \"10+\" becomes 11, \n",
    "# \"\"< 1\" becomes 0, and none/0 becomes -1; removed \"year/s\"\n",
    "patterns = ([r\" years?\", \"\"],\n",
    "            [r\"10\", \"11\"],\n",
    "            [r\"< 1\\b\", \"0\"],\n",
    "            [r\"+\", \"\"])\n",
    "\n",
    "cleanup(y2015, \"emp_length\", patterns)\n",
    "y2015[\"emp_length\"] = y2015[\"emp_length\"].fillna(-1)\n",
    "y2015[\"emp_length\"] = pd.to_numeric(y2015[\"emp_length\"], errors='coerce')"
   ]
  },
  {
   "cell_type": "code",
   "execution_count": 6,
   "metadata": {},
   "outputs": [
    {
     "data": {
      "text/plain": [
       " 11    141521\n",
       " 2      37497\n",
       " 0      34340\n",
       " 3      33430\n",
       " 1      27473\n",
       " 5      24930\n",
       " 4      24506\n",
       "-1      23817\n",
       " 8      21560\n",
       " 7      18414\n",
       " 6      16838\n",
       " 9      16769\n",
       "Name: emp_length, dtype: int64"
      ]
     },
     "execution_count": 6,
     "metadata": {},
     "output_type": "execute_result"
    }
   ],
   "source": [
    "y2015[\"emp_length\"].value_counts()"
   ]
  },
  {
   "cell_type": "code",
   "execution_count": 7,
   "metadata": {},
   "outputs": [
    {
     "data": {
      "text/html": [
       "<div>\n",
       "<style scoped>\n",
       "    .dataframe tbody tr th:only-of-type {\n",
       "        vertical-align: middle;\n",
       "    }\n",
       "\n",
       "    .dataframe tbody tr th {\n",
       "        vertical-align: top;\n",
       "    }\n",
       "\n",
       "    .dataframe thead th {\n",
       "        text-align: right;\n",
       "    }\n",
       "</style>\n",
       "<table border=\"1\" class=\"dataframe\">\n",
       "  <thead>\n",
       "    <tr style=\"text-align: right;\">\n",
       "      <th></th>\n",
       "      <th>loan_amnt</th>\n",
       "      <th>funded_amnt</th>\n",
       "      <th>funded_amnt_inv</th>\n",
       "      <th>term</th>\n",
       "      <th>int_rate</th>\n",
       "      <th>installment</th>\n",
       "      <th>grade</th>\n",
       "      <th>emp_length</th>\n",
       "      <th>home_ownership</th>\n",
       "      <th>annual_inc</th>\n",
       "      <th>...</th>\n",
       "      <th>pct_tl_nvr_dlq</th>\n",
       "      <th>percent_bc_gt_75</th>\n",
       "      <th>pub_rec_bankruptcies</th>\n",
       "      <th>tax_liens</th>\n",
       "      <th>tot_hi_cred_lim</th>\n",
       "      <th>total_bal_ex_mort</th>\n",
       "      <th>total_bc_limit</th>\n",
       "      <th>total_il_high_credit_limit</th>\n",
       "      <th>hardship_flag</th>\n",
       "      <th>debt_settlement_flag</th>\n",
       "    </tr>\n",
       "  </thead>\n",
       "  <tbody>\n",
       "    <tr>\n",
       "      <th>0</th>\n",
       "      <td>17475.0</td>\n",
       "      <td>17475.0</td>\n",
       "      <td>17475.0</td>\n",
       "      <td>36</td>\n",
       "      <td>13.99</td>\n",
       "      <td>597.17</td>\n",
       "      <td>C</td>\n",
       "      <td>2</td>\n",
       "      <td>RENT</td>\n",
       "      <td>39750.0</td>\n",
       "      <td>...</td>\n",
       "      <td>84.6</td>\n",
       "      <td>0.0</td>\n",
       "      <td>0.0</td>\n",
       "      <td>0.0</td>\n",
       "      <td>50240.0</td>\n",
       "      <td>32365.0</td>\n",
       "      <td>21000.0</td>\n",
       "      <td>29240.0</td>\n",
       "      <td>N</td>\n",
       "      <td>Y</td>\n",
       "    </tr>\n",
       "    <tr>\n",
       "      <th>1</th>\n",
       "      <td>16000.0</td>\n",
       "      <td>16000.0</td>\n",
       "      <td>16000.0</td>\n",
       "      <td>60</td>\n",
       "      <td>12.88</td>\n",
       "      <td>363.07</td>\n",
       "      <td>C</td>\n",
       "      <td>11</td>\n",
       "      <td>OWN</td>\n",
       "      <td>90000.0</td>\n",
       "      <td>...</td>\n",
       "      <td>86.7</td>\n",
       "      <td>25.0</td>\n",
       "      <td>0.0</td>\n",
       "      <td>0.0</td>\n",
       "      <td>263351.0</td>\n",
       "      <td>11594.0</td>\n",
       "      <td>16300.0</td>\n",
       "      <td>0.0</td>\n",
       "      <td>N</td>\n",
       "      <td>N</td>\n",
       "    </tr>\n",
       "    <tr>\n",
       "      <th>2</th>\n",
       "      <td>20000.0</td>\n",
       "      <td>20000.0</td>\n",
       "      <td>20000.0</td>\n",
       "      <td>36</td>\n",
       "      <td>5.32</td>\n",
       "      <td>602.30</td>\n",
       "      <td>A</td>\n",
       "      <td>9</td>\n",
       "      <td>OWN</td>\n",
       "      <td>65000.0</td>\n",
       "      <td>...</td>\n",
       "      <td>100.0</td>\n",
       "      <td>0.0</td>\n",
       "      <td>0.0</td>\n",
       "      <td>0.0</td>\n",
       "      <td>106217.0</td>\n",
       "      <td>15444.0</td>\n",
       "      <td>76200.0</td>\n",
       "      <td>30017.0</td>\n",
       "      <td>N</td>\n",
       "      <td>N</td>\n",
       "    </tr>\n",
       "    <tr>\n",
       "      <th>3</th>\n",
       "      <td>24000.0</td>\n",
       "      <td>24000.0</td>\n",
       "      <td>24000.0</td>\n",
       "      <td>60</td>\n",
       "      <td>9.80</td>\n",
       "      <td>507.58</td>\n",
       "      <td>B</td>\n",
       "      <td>-1</td>\n",
       "      <td>OWN</td>\n",
       "      <td>77900.0</td>\n",
       "      <td>...</td>\n",
       "      <td>95.2</td>\n",
       "      <td>0.0</td>\n",
       "      <td>0.0</td>\n",
       "      <td>0.0</td>\n",
       "      <td>202351.0</td>\n",
       "      <td>4910.0</td>\n",
       "      <td>30500.0</td>\n",
       "      <td>33631.0</td>\n",
       "      <td>N</td>\n",
       "      <td>N</td>\n",
       "    </tr>\n",
       "    <tr>\n",
       "      <th>4</th>\n",
       "      <td>18000.0</td>\n",
       "      <td>18000.0</td>\n",
       "      <td>18000.0</td>\n",
       "      <td>36</td>\n",
       "      <td>7.49</td>\n",
       "      <td>559.83</td>\n",
       "      <td>A</td>\n",
       "      <td>5</td>\n",
       "      <td>MORTGAGE</td>\n",
       "      <td>75000.0</td>\n",
       "      <td>...</td>\n",
       "      <td>97.8</td>\n",
       "      <td>50.0</td>\n",
       "      <td>0.0</td>\n",
       "      <td>0.0</td>\n",
       "      <td>335119.0</td>\n",
       "      <td>102660.0</td>\n",
       "      <td>20400.0</td>\n",
       "      <td>107522.0</td>\n",
       "      <td>N</td>\n",
       "      <td>N</td>\n",
       "    </tr>\n",
       "  </tbody>\n",
       "</table>\n",
       "<p>5 rows × 79 columns</p>\n",
       "</div>"
      ],
      "text/plain": [
       "   loan_amnt  funded_amnt  funded_amnt_inv  term  int_rate  installment grade  \\\n",
       "0    17475.0      17475.0          17475.0    36     13.99       597.17     C   \n",
       "1    16000.0      16000.0          16000.0    60     12.88       363.07     C   \n",
       "2    20000.0      20000.0          20000.0    36      5.32       602.30     A   \n",
       "3    24000.0      24000.0          24000.0    60      9.80       507.58     B   \n",
       "4    18000.0      18000.0          18000.0    36      7.49       559.83     A   \n",
       "\n",
       "   emp_length home_ownership  annual_inc          ...          pct_tl_nvr_dlq  \\\n",
       "0           2           RENT     39750.0          ...                    84.6   \n",
       "1          11            OWN     90000.0          ...                    86.7   \n",
       "2           9            OWN     65000.0          ...                   100.0   \n",
       "3          -1            OWN     77900.0          ...                    95.2   \n",
       "4           5       MORTGAGE     75000.0          ...                    97.8   \n",
       "\n",
       "  percent_bc_gt_75 pub_rec_bankruptcies tax_liens  tot_hi_cred_lim  \\\n",
       "0              0.0                  0.0       0.0          50240.0   \n",
       "1             25.0                  0.0       0.0         263351.0   \n",
       "2              0.0                  0.0       0.0         106217.0   \n",
       "3              0.0                  0.0       0.0         202351.0   \n",
       "4             50.0                  0.0       0.0         335119.0   \n",
       "\n",
       "   total_bal_ex_mort  total_bc_limit  total_il_high_credit_limit  \\\n",
       "0            32365.0         21000.0                     29240.0   \n",
       "1            11594.0         16300.0                         0.0   \n",
       "2            15444.0         76200.0                     30017.0   \n",
       "3             4910.0         30500.0                     33631.0   \n",
       "4           102660.0         20400.0                    107522.0   \n",
       "\n",
       "   hardship_flag  debt_settlement_flag  \n",
       "0              N                     Y  \n",
       "1              N                     N  \n",
       "2              N                     N  \n",
       "3              N                     N  \n",
       "4              N                     N  \n",
       "\n",
       "[5 rows x 79 columns]"
      ]
     },
     "execution_count": 7,
     "metadata": {},
     "output_type": "execute_result"
    }
   ],
   "source": [
    "y2015.head()"
   ]
  },
  {
   "cell_type": "code",
   "execution_count": null,
   "metadata": {},
   "outputs": [
    {
     "name": "stdout",
     "output_type": "stream",
     "text": [
      "TRUE for ('loan_amnt', 'funded_amnt')\n"
     ]
    }
   ],
   "source": [
    "# very computationally intensive, nested for loops! but I had to\n",
    "# see where I had duplicate columns, and there were a pair\n",
    "cols = y2015.columns\n",
    "for ct, col in enumerate(cols[:-1]):\n",
    "    for name in cols[(ct + 1):]:\n",
    "        if np.array_equal(y2015[col], y2015[name]):\n",
    "            print(f\"TRUE for {col, name}\")"
   ]
  },
  {
   "cell_type": "code",
   "execution_count": null,
   "metadata": {},
   "outputs": [],
   "source": [
    "# these two columns are identical, and therefore one is redundant\n",
    "np.where(y2015[\"loan_amnt\"] != y2015[\"funded_amnt\"])\n",
    "y2015.drop(\"funded_amnt\", 1, inplace=True)"
   ]
  },
  {
   "cell_type": "code",
   "execution_count": null,
   "metadata": {},
   "outputs": [],
   "source": [
    "#y2015.info()"
   ]
  },
  {
   "cell_type": "code",
   "execution_count": null,
   "metadata": {},
   "outputs": [],
   "source": [
    "# I'm doing this to suppress a warning and keep cross-validation happy\n",
    "# It was complaining about less than the number of folds in one of my classes\n",
    "y2015.loc[y2015[\"loan_status\"] == \"Late (31-120 days)\"].head(4)\n",
    "y2015.loc[[52, 217, 307, 360], \"loan_status\"] = 'Default'\n",
    "y2015[\"loan_status\"].value_counts()"
   ]
  },
  {
   "cell_type": "markdown",
   "metadata": {},
   "source": [
    "### well this is pretty useless, obviously need to narrow waaaayy down"
   ]
  },
  {
   "cell_type": "code",
   "execution_count": null,
   "metadata": {},
   "outputs": [],
   "source": [
    "corrmat = y2015.corr()\n",
    "\n",
    "f, ax = plt.subplots(figsize=(15, 15))\n",
    "sns.heatmap(corrmat, vmax=.8, square=True)\n",
    "plt.show()"
   ]
  },
  {
   "cell_type": "code",
   "execution_count": null,
   "metadata": {},
   "outputs": [],
   "source": [
    "# Just looking at these to see which are other than numeric\n",
    "cats = list(y2015.select_dtypes(include=['object']).columns)\n",
    "#cats.nunique()\n",
    "cats.remove(\"loan_status\")\n",
    "cats"
   ]
  },
  {
   "cell_type": "code",
   "execution_count": null,
   "metadata": {},
   "outputs": [],
   "source": [
    "# just setup, don't want our outcome in the dataset\n",
    "X = y2015.drop('loan_status', 1)\n",
    "Y = y2015['loan_status']\n",
    "X = pd.get_dummies(X)"
   ]
  },
  {
   "cell_type": "code",
   "execution_count": null,
   "metadata": {},
   "outputs": [],
   "source": [
    "X = X.dropna(axis=1)"
   ]
  },
  {
   "cell_type": "markdown",
   "metadata": {},
   "source": [
    "### SelectKBest is my friend.  I also did it without, but this is extremely helpful."
   ]
  },
  {
   "cell_type": "code",
   "execution_count": null,
   "metadata": {},
   "outputs": [],
   "source": [
    "# yummy\n",
    "X_new = SelectKBest(f_classif, k=10).fit_transform(X, Y)"
   ]
  },
  {
   "cell_type": "markdown",
   "metadata": {},
   "source": [
    "### I wanted to see what was actually being selected.  Notice 'k = 4', doesn't take a lot for good predictions."
   ]
  },
  {
   "cell_type": "code",
   "execution_count": null,
   "metadata": {},
   "outputs": [],
   "source": [
    "selector = SelectKBest(f_classif, k = 4)\n",
    "X_new_2 = selector.fit_transform(X, Y)\n",
    "names = X.columns.values[selector.get_support()]\n",
    "scores = selector.scores_[selector.get_support()]\n",
    "names_scores = list(zip(names, scores))\n",
    "ns_df = pd.DataFrame(data = names_scores, columns=['Feat_names', 'F_Scores'])\n",
    "ns_df_sorted = ns_df.sort_values(['F_Scores', 'Feat_names'], ascending = [False, True])\n",
    "print(ns_df_sorted)"
   ]
  },
  {
   "cell_type": "markdown",
   "metadata": {},
   "source": [
    "### Very very consistent predictions in cross-validation"
   ]
  },
  {
   "cell_type": "code",
   "execution_count": null,
   "metadata": {},
   "outputs": [],
   "source": [
    "from sklearn import ensemble\n",
    "from sklearn.model_selection import cross_val_score\n",
    "\n",
    "rfc = ensemble.RandomForestClassifier()\n",
    "cross_val_score(rfc, X_new_2, Y, cv=10)"
   ]
  },
  {
   "cell_type": "code",
   "execution_count": null,
   "metadata": {},
   "outputs": [],
   "source": [
    "# With the simplified model...\n",
    "corrmat = X[names].corr()\n",
    "print(corrmat)\n",
    "\n",
    "f, ax = plt.subplots(figsize=(7, 7))\n",
    "sns.heatmap(corrmat, vmax=.8, square=True)\n",
    "plt.show()"
   ]
  }
 ],
 "metadata": {
  "kernelspec": {
   "display_name": "Python 3",
   "language": "python",
   "name": "python3"
  },
  "language_info": {
   "codemirror_mode": {
    "name": "ipython",
    "version": 3
   },
   "file_extension": ".py",
   "mimetype": "text/x-python",
   "name": "python",
   "nbconvert_exporter": "python",
   "pygments_lexer": "ipython3",
   "version": "3.7.0"
  }
 },
 "nbformat": 4,
 "nbformat_minor": 2
}
