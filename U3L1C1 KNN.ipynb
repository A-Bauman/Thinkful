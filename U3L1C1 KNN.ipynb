{
 "cells": [
  {
   "cell_type": "code",
   "execution_count": 1,
   "metadata": {},
   "outputs": [],
   "source": [
    "import numpy as np\n",
    "import pandas as pd\n",
    "import matplotlib.pyplot as plt\n",
    "import scipy\n",
    "%matplotlib inline"
   ]
  },
  {
   "cell_type": "code",
   "execution_count": 95,
   "metadata": {},
   "outputs": [
    {
     "data": {
      "image/png": "[encoded data removed]",
      "text/plain": [
       "<Figure size 432x288 with 1 Axes>"
      ]
     },
     "metadata": {},
     "output_type": "display_data"
    }
   ],
   "source": [
    "music = pd.DataFrame()\n",
    "\n",
    "# Some data to play with.\n",
    "music['duration'] = [184, 134, 243, 186, 122, 197, 294, 382, 102, 264, \n",
    "                     205, 110, 307, 110, 397, 153, 190, 192, 210, 403,\n",
    "                     164, 198, 204, 253, 234, 190, 182, 401, 376, 102,\n",
    "                     320, 260, 160]\n",
    "music['loudness'] = [18, 34, 43, 36, 22, 9, 29, 22, 10, 24, \n",
    "                     20, 10, 17, 51, 7, 13, 19, 12, 21, 22,\n",
    "                     16, 18, 4, 23, 34, 19, 14, 11, 37, 42,\n",
    "                     43, 12, 22]\n",
    "\n",
    "# We know whether the songs in our training data are jazz or not.\n",
    "music['jazz'] = [ 1, 0, 0, 0, 1, 1, 0, 1, 1, 0,\n",
    "                  0, 1, 1, 0, 1, 1, 0, 1, 1, 1,\n",
    "                  1, 1, 1, 1, 0, 0, 1, 1, 0, 0,\n",
    "                  0, 1, 0]\n",
    "\n",
    "# Look at our data.\n",
    "plt.scatter(\n",
    "    music[music['jazz'] == 1].duration,\n",
    "    music[music['jazz'] == 1].loudness,\n",
    "    color='red'\n",
    ")\n",
    "plt.scatter(\n",
    "    music[music['jazz'] == 0].duration,\n",
    "    music[music['jazz'] == 0].loudness,\n",
    "    color='blue'\n",
    ")\n",
    "\n",
    "plt.scatter(203,21,color='black')\n",
    "plt.legend(['Jazz', 'Rock'])\n",
    "plt.title('Jazz and Rock Characteristics')\n",
    "plt.xlabel('Duration')\n",
    "plt.ylabel('Loudness')\n",
    "plt.show()"
   ]
  },
  {
   "cell_type": "markdown",
   "metadata": {},
   "source": [
    "## My KNN implementation\n",
    "### I know we're going to iterate on this by refining how we deal with distance."
   ]
  },
  {
   "cell_type": "code",
   "execution_count": 158,
   "metadata": {},
   "outputs": [],
   "source": [
    "\n",
    "def nearest_k(coord, k, data, target):\n",
    "    \"\"\"\n",
    "    Calculates and returns distances for nearest k points from coord, along with type\n",
    "    \n",
    "    IN: a cartesian coordinate, the number of neighbors to consider, current points, classifications\n",
    "    OUT: a sorted list of size k with distances to nearest neighbors and their classification\n",
    "    \"\"\"\n",
    "    distances = []\n",
    "    \n",
    "    # because of the Numpy array cast, this becomes an array based on the shape of data,\n",
    "    # which is an array of 2-element lists, each holding a pair of coordinates\n",
    "    points_sqrd = ((coord - np.array(data))**2)\n",
    "    for idx, elem in enumerate(points_sqrd):\n",
    "        \n",
    "        # sum and take the square root, which is the distance, and get appropriate 'vote'\n",
    "        distances.append([np.sqrt(elem[0] + elem[1]), target[idx]])\n",
    "        \n",
    "    # this gives the nearest distances in order, of the requested size\n",
    "    return sorted(distances)[:k]\n",
    "\n",
    "\n",
    "def pred_type(coord, k, data, target):\n",
    "    \"\"\"\n",
    "    Predicts incoming coordinate's type based on the types of its neighbors.\n",
    "    \n",
    "    IN: a cartesian coordinate, the number of neighbors to consider, current points, classifications\n",
    "    OUT: prints the ratios of votes of k neighbors and the classification based on those votes\n",
    "    \"\"\"\n",
    "    k_neighbors = np.array(nearest_k(coord, k, data, target))\n",
    "    \n",
    "    # easier to do here than inside my print; total the 1's\n",
    "    ones = int(k_neighbors[:,1].sum())\n",
    "    print(\"Aaron's implementation:\")\n",
    "    print(f\"Jazz (1) gets {ones}/{k} -- [{ones/k:.4f}]\\nRock (0) gets {k-ones}/{k} -- [{(k-ones)/k:.4f}]\")\n"
   ]
  },
  {
   "cell_type": "markdown",
   "metadata": {},
   "source": [
    "### Called at the bottom of next cell, after sklearn's implementation is called"
   ]
  },
  {
   "cell_type": "code",
   "execution_count": 159,
   "metadata": {},
   "outputs": [
    {
     "name": "stdout",
     "output_type": "stream",
     "text": [
      "predicting (rock 0, jazz 1): 0\n",
      "probabilities (rock to jazz): [0.625 0.375]\n",
      "\n",
      "Aaron's implementation:\n",
      "Jazz (1) gets 3/8 -- [0.3750]\n",
      "Rock (0) gets 5/8 -- [0.6250]\n"
     ]
    }
   ],
   "source": [
    "from sklearn.neighbors import KNeighborsClassifier\n",
    "\n",
    "k = 8\n",
    "neighbors = KNeighborsClassifier(n_neighbors=k)\n",
    "X = music[['loudness', 'duration']]     # note that these are reversed, coming in Y, X order\n",
    "Y = music.jazz\n",
    "neighbors.fit(X,Y)\n",
    "\n",
    "## Predict for a 24 loudness, 190 seconds long song.\n",
    "xy = [5, 301]\n",
    "print(f\"predicting (rock 0, jazz 1): {neighbors.predict([xy])[0]}\")\n",
    "print(f\"probabilities (rock to jazz): {neighbors.predict_proba([xy])[0]}\\n\")\n",
    "\n",
    "pred_type(xy, k, X, Y)"
   ]
  },
  {
   "cell_type": "code",
   "execution_count": 66,
   "metadata": {},
   "outputs": [
    {
     "name": "stdout",
     "output_type": "stream",
     "text": [
      "[18 34 43 36 22  9 29 22 10 24 20 10 17 51  7 13 19 12 21 22 16 18  4 23\n",
      " 34 19 14 11 37 42 43 12 22]\n"
     ]
    },
    {
     "data": {
      "image/png": "[encoded data removed]",
      "text/plain": [
       "<Figure size 576x432 with 1 Axes>"
      ]
     },
     "metadata": {},
     "output_type": "display_data"
    }
   ],
   "source": [
    "# Our data. Converting from data frames to arrays for the mesh.\n",
    "X = np.array(X)\n",
    "Y = np.array(Y)\n",
    "\n",
    "# Mesh size.\n",
    "h = 0.25\n",
    "\n",
    "# the X[:, 0] notation is just taking all rows in the array (which is a list of lists, each containing one of\n",
    "# the points), and only the first element 0, or Loudness in this case, then 1 or Duration\n",
    "\n",
    "# Plot the decision boundary. We assign a color to each point in the mesh.\n",
    "x_min = X[:, 0].min() - .5\n",
    "x_max = X[:, 0].max() + .5\n",
    "y_min = X[:, 1].min() - .5\n",
    "y_max = X[:, 1].max() + .5\n",
    "\n",
    "# I think this is creating literally a huge grid of points, stepsize of h; xx and yy are long lists of\n",
    "# basically coordinates, and match with each other.\n",
    "xx, yy = np.meshgrid(\n",
    "    np.arange(x_min, x_max, h),\n",
    "    np.arange(y_min, y_max, h)\n",
    ")\n",
    "\n",
    "# now, for every point on the grid created above, we compute using our model. So, the more neighbors\n",
    "# passed in or smaller mesh, the longer the calculations.  Every single point in the mesh has to \n",
    "# calculate for all n neighbors\n",
    "Z = neighbors.predict(np.c_[xx.ravel(), yy.ravel()])\n",
    "\n",
    "# reshape() returns an array with same data in the new shape.  In this case, we're making Z match the \n",
    "# shape of xx and yy, so they can be plotted\n",
    "# Put the result into a color plot.\n",
    "Z = Z.reshape(xx.shape)\n",
    "plt.figure(1, figsize=(8, 6))           # I think '1' is redundant here, it works without\n",
    "plt.set_cmap(plt.cm.Oranges)\n",
    "plt.pcolormesh(xx, yy, Z)\n",
    "\n",
    "# Add the training points to the plot.\n",
    "plt.scatter(X[:, 0], X[:, 1], c=Y)\n",
    "plt.xlabel('Loudness')\n",
    "plt.ylabel('Duration')\n",
    "plt.title('Mesh visualization')\n",
    "\n",
    "plt.xlim(xx.min(), xx.max())\n",
    "plt.ylim(yy.min(), yy.max())\n",
    "\n",
    "plt.show()"
   ]
  }
 ],
 "metadata": {
  "kernelspec": {
   "display_name": "Python 3",
   "language": "python",
   "name": "python3"
  },
  "language_info": {
   "codemirror_mode": {
    "name": "ipython",
    "version": 3
   },
   "file_extension": ".py",
   "mimetype": "text/x-python",
   "name": "python",
   "nbconvert_exporter": "python",
   "pygments_lexer": "ipython3",
   "version": "3.7.0"
  }
 },
 "nbformat": 4,
 "nbformat_minor": 2
}
