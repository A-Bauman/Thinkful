{
 "cells": [
  {
   "cell_type": "markdown",
   "metadata": {},
   "source": [
    "### Quick pass at Survival Analysis, see lowest cells.  There is a difference between longevity by gender, and apparently for married/unmarried (though it switches -- married men live longer than unmarried, while the reverse is true for women!)"
   ]
  },
  {
   "cell_type": "code",
   "execution_count": 1,
   "metadata": {},
   "outputs": [],
   "source": [
    "import numpy as np\n",
    "import pandas as pd\n",
    "import matplotlib.pyplot as plt\n",
    "import seaborn as sns\n",
    "import warnings\n",
    "%matplotlib inline\n",
    "\n",
    "warnings.filterwarnings('ignore')"
   ]
  },
  {
   "cell_type": "code",
   "execution_count": 2,
   "metadata": {},
   "outputs": [],
   "source": [
    "data = pd.read_csv(\"https://tf-assets-prod.s3.amazonaws.com/tf-curric/data-science/nhis.csv\", index_col=0)"
   ]
  },
  {
   "cell_type": "markdown",
   "metadata": {},
   "source": [
    "We'll be doing a classic survival analysis model, using Cox PH to look at sex differences in time to death (aka. longevity) using data from the U.S. National Health Interview Survey. This data is particularly great because they have both year of birth and year of death. Death records stop in 2009 (when the dataset was considered complete), so any people who are still living in 2009 will need to be right-censored.\n",
    "\n",
    "Some people do not have date of birth. Those cases will be truncated.\n",
    "\n",
    "Let's start by loading the data, taking a look at it, and cleaning it up:"
   ]
  },
  {
   "cell_type": "code",
   "execution_count": 3,
   "metadata": {},
   "outputs": [
    {
     "name": "stdout",
     "output_type": "stream",
     "text": [
      "(1605246, 9)\n"
     ]
    },
    {
     "data": {
      "text/html": [
       "<div>\n",
       "<style scoped>\n",
       "    .dataframe tbody tr th:only-of-type {\n",
       "        vertical-align: middle;\n",
       "    }\n",
       "\n",
       "    .dataframe tbody tr th {\n",
       "        vertical-align: top;\n",
       "    }\n",
       "\n",
       "    .dataframe thead th {\n",
       "        text-align: right;\n",
       "    }\n",
       "</style>\n",
       "<table border=\"1\" class=\"dataframe\">\n",
       "  <thead>\n",
       "    <tr style=\"text-align: right;\">\n",
       "      <th></th>\n",
       "      <th>YEAR</th>\n",
       "      <th>NHISPID</th>\n",
       "      <th>AGE</th>\n",
       "      <th>SEX</th>\n",
       "      <th>SEXORIEN</th>\n",
       "      <th>MARSTAT</th>\n",
       "      <th>BIRTHYR</th>\n",
       "      <th>MORTSTAT</th>\n",
       "      <th>MORTDODY</th>\n",
       "    </tr>\n",
       "  </thead>\n",
       "  <tbody>\n",
       "    <tr>\n",
       "      <th>2744230</th>\n",
       "      <td>1986</td>\n",
       "      <td>1986109602890101</td>\n",
       "      <td>60</td>\n",
       "      <td>1</td>\n",
       "      <td>NaN</td>\n",
       "      <td>11</td>\n",
       "      <td>NaN</td>\n",
       "      <td>1.0</td>\n",
       "      <td>2005.0</td>\n",
       "    </tr>\n",
       "    <tr>\n",
       "      <th>2744231</th>\n",
       "      <td>1986</td>\n",
       "      <td>1986109602890102</td>\n",
       "      <td>54</td>\n",
       "      <td>2</td>\n",
       "      <td>NaN</td>\n",
       "      <td>11</td>\n",
       "      <td>NaN</td>\n",
       "      <td>1.0</td>\n",
       "      <td>2010.0</td>\n",
       "    </tr>\n",
       "    <tr>\n",
       "      <th>2744232</th>\n",
       "      <td>1986</td>\n",
       "      <td>1986109602890103</td>\n",
       "      <td>21</td>\n",
       "      <td>1</td>\n",
       "      <td>NaN</td>\n",
       "      <td>50</td>\n",
       "      <td>NaN</td>\n",
       "      <td>2.0</td>\n",
       "      <td>9999.0</td>\n",
       "    </tr>\n",
       "    <tr>\n",
       "      <th>2744233</th>\n",
       "      <td>1986</td>\n",
       "      <td>1986109602890201</td>\n",
       "      <td>46</td>\n",
       "      <td>1</td>\n",
       "      <td>NaN</td>\n",
       "      <td>11</td>\n",
       "      <td>NaN</td>\n",
       "      <td>2.0</td>\n",
       "      <td>9999.0</td>\n",
       "    </tr>\n",
       "    <tr>\n",
       "      <th>2744234</th>\n",
       "      <td>1986</td>\n",
       "      <td>1986109602890202</td>\n",
       "      <td>38</td>\n",
       "      <td>2</td>\n",
       "      <td>NaN</td>\n",
       "      <td>11</td>\n",
       "      <td>NaN</td>\n",
       "      <td>2.0</td>\n",
       "      <td>9999.0</td>\n",
       "    </tr>\n",
       "  </tbody>\n",
       "</table>\n",
       "</div>"
      ],
      "text/plain": [
       "         YEAR           NHISPID  AGE  SEX  SEXORIEN  MARSTAT  BIRTHYR  \\\n",
       "2744230  1986  1986109602890101   60    1       NaN       11      NaN   \n",
       "2744231  1986  1986109602890102   54    2       NaN       11      NaN   \n",
       "2744232  1986  1986109602890103   21    1       NaN       50      NaN   \n",
       "2744233  1986  1986109602890201   46    1       NaN       11      NaN   \n",
       "2744234  1986  1986109602890202   38    2       NaN       11      NaN   \n",
       "\n",
       "         MORTSTAT  MORTDODY  \n",
       "2744230       1.0    2005.0  \n",
       "2744231       1.0    2010.0  \n",
       "2744232       2.0    9999.0  \n",
       "2744233       2.0    9999.0  \n",
       "2744234       2.0    9999.0  "
      ]
     },
     "execution_count": 3,
     "metadata": {},
     "output_type": "execute_result"
    }
   ],
   "source": [
    "print(data.shape)\n",
    "data.head()"
   ]
  },
  {
   "cell_type": "code",
   "execution_count": 4,
   "metadata": {},
   "outputs": [
    {
     "data": {
      "text/html": [
       "<div>\n",
       "<style scoped>\n",
       "    .dataframe tbody tr th:only-of-type {\n",
       "        vertical-align: middle;\n",
       "    }\n",
       "\n",
       "    .dataframe tbody tr th {\n",
       "        vertical-align: top;\n",
       "    }\n",
       "\n",
       "    .dataframe thead th {\n",
       "        text-align: right;\n",
       "    }\n",
       "</style>\n",
       "<table border=\"1\" class=\"dataframe\">\n",
       "  <thead>\n",
       "    <tr style=\"text-align: right;\">\n",
       "      <th></th>\n",
       "      <th>YEAR</th>\n",
       "      <th>NHISPID</th>\n",
       "      <th>AGE</th>\n",
       "      <th>SEX</th>\n",
       "      <th>SEXORIEN</th>\n",
       "      <th>MARSTAT</th>\n",
       "      <th>BIRTHYR</th>\n",
       "      <th>MORTSTAT</th>\n",
       "      <th>MORTDODY</th>\n",
       "    </tr>\n",
       "  </thead>\n",
       "  <tbody>\n",
       "  </tbody>\n",
       "</table>\n",
       "</div>"
      ],
      "text/plain": [
       "Empty DataFrame\n",
       "Columns: [YEAR, NHISPID, AGE, SEX, SEXORIEN, MARSTAT, BIRTHYR, MORTSTAT, MORTDODY]\n",
       "Index: []"
      ]
     },
     "execution_count": 4,
     "metadata": {},
     "output_type": "execute_result"
    }
   ],
   "source": [
    "# Looks like this whole column is empty, drop it (in next cell)\n",
    "data[data['SEXORIEN'].notnull()]"
   ]
  },
  {
   "cell_type": "code",
   "execution_count": 5,
   "metadata": {},
   "outputs": [
    {
     "data": {
      "text/html": [
       "<div>\n",
       "<style scoped>\n",
       "    .dataframe tbody tr th:only-of-type {\n",
       "        vertical-align: middle;\n",
       "    }\n",
       "\n",
       "    .dataframe tbody tr th {\n",
       "        vertical-align: top;\n",
       "    }\n",
       "\n",
       "    .dataframe thead th {\n",
       "        text-align: right;\n",
       "    }\n",
       "</style>\n",
       "<table border=\"1\" class=\"dataframe\">\n",
       "  <thead>\n",
       "    <tr style=\"text-align: right;\">\n",
       "      <th></th>\n",
       "      <th>YEAR</th>\n",
       "      <th>NHISPID</th>\n",
       "      <th>AGE</th>\n",
       "      <th>SEX</th>\n",
       "      <th>MARSTAT</th>\n",
       "      <th>BIRTHYR</th>\n",
       "      <th>MORTSTAT</th>\n",
       "      <th>MORTDODY</th>\n",
       "    </tr>\n",
       "  </thead>\n",
       "  <tbody>\n",
       "    <tr>\n",
       "      <th>2744230</th>\n",
       "      <td>1986</td>\n",
       "      <td>1986109602890101</td>\n",
       "      <td>60</td>\n",
       "      <td>1</td>\n",
       "      <td>11</td>\n",
       "      <td>NaN</td>\n",
       "      <td>1.0</td>\n",
       "      <td>2005.0</td>\n",
       "    </tr>\n",
       "    <tr>\n",
       "      <th>2744231</th>\n",
       "      <td>1986</td>\n",
       "      <td>1986109602890102</td>\n",
       "      <td>54</td>\n",
       "      <td>2</td>\n",
       "      <td>11</td>\n",
       "      <td>NaN</td>\n",
       "      <td>1.0</td>\n",
       "      <td>2010.0</td>\n",
       "    </tr>\n",
       "    <tr>\n",
       "      <th>2744232</th>\n",
       "      <td>1986</td>\n",
       "      <td>1986109602890103</td>\n",
       "      <td>21</td>\n",
       "      <td>1</td>\n",
       "      <td>50</td>\n",
       "      <td>NaN</td>\n",
       "      <td>2.0</td>\n",
       "      <td>9999.0</td>\n",
       "    </tr>\n",
       "    <tr>\n",
       "      <th>2744233</th>\n",
       "      <td>1986</td>\n",
       "      <td>1986109602890201</td>\n",
       "      <td>46</td>\n",
       "      <td>1</td>\n",
       "      <td>11</td>\n",
       "      <td>NaN</td>\n",
       "      <td>2.0</td>\n",
       "      <td>9999.0</td>\n",
       "    </tr>\n",
       "    <tr>\n",
       "      <th>2744234</th>\n",
       "      <td>1986</td>\n",
       "      <td>1986109602890202</td>\n",
       "      <td>38</td>\n",
       "      <td>2</td>\n",
       "      <td>11</td>\n",
       "      <td>NaN</td>\n",
       "      <td>2.0</td>\n",
       "      <td>9999.0</td>\n",
       "    </tr>\n",
       "  </tbody>\n",
       "</table>\n",
       "</div>"
      ],
      "text/plain": [
       "         YEAR           NHISPID  AGE  SEX  MARSTAT  BIRTHYR  MORTSTAT  \\\n",
       "2744230  1986  1986109602890101   60    1       11      NaN       1.0   \n",
       "2744231  1986  1986109602890102   54    2       11      NaN       1.0   \n",
       "2744232  1986  1986109602890103   21    1       50      NaN       2.0   \n",
       "2744233  1986  1986109602890201   46    1       11      NaN       2.0   \n",
       "2744234  1986  1986109602890202   38    2       11      NaN       2.0   \n",
       "\n",
       "         MORTDODY  \n",
       "2744230    2005.0  \n",
       "2744231    2010.0  \n",
       "2744232    9999.0  \n",
       "2744233    9999.0  \n",
       "2744234    9999.0  "
      ]
     },
     "execution_count": 5,
     "metadata": {},
     "output_type": "execute_result"
    }
   ],
   "source": [
    "data.drop('SEXORIEN', axis=1, inplace=True)\n",
    "data.head()"
   ]
  },
  {
   "cell_type": "code",
   "execution_count": 6,
   "metadata": {},
   "outputs": [
    {
     "data": {
      "text/plain": [
       "YEAR          int64\n",
       "NHISPID       int64\n",
       "AGE           int64\n",
       "SEX           int64\n",
       "MARSTAT       int64\n",
       "BIRTHYR     float64\n",
       "MORTSTAT    float64\n",
       "MORTDODY    float64\n",
       "dtype: object"
      ]
     },
     "execution_count": 6,
     "metadata": {},
     "output_type": "execute_result"
    }
   ],
   "source": [
    "data.dtypes"
   ]
  },
  {
   "cell_type": "code",
   "execution_count": 7,
   "metadata": {},
   "outputs": [],
   "source": [
    "# Dropping cases where birth year is not known\n",
    "data2 = data[(data[\"BIRTHYR\"] <= 2009) & (data[\"BIRTHYR\"].notnull())]\n",
    "\n",
    "# Calculating time-to-event\n",
    "data2[\"Longevity\"] = data2[\"MORTDODY\"] - data2[\"BIRTHYR\"]\n",
    "\n",
    "# Creating a 'status' variable where 1 means dead and 0 means alive as of 2009\n",
    "data2[\"dead\"] = (2 - data2['MORTSTAT'])\n",
    "\n",
    "# For people who were alive as of 2009, calculating their longevity as their age in 2009\n",
    "data2.loc[data2['dead'] == 0, \"Longevity\"] = 2009 - data2.loc[data2['dead'] == 0, \"BIRTHYR\"] \n",
    "\n",
    "# Creating a binary variable where 1 = female and 0 = male\n",
    "data2[\"female\"] = (data2[\"SEX\"] == 2)\n",
    "\n",
    "# Now these columns are duplicated, drop them\n",
    "data2.drop(columns=['SEX', 'MORTSTAT'], inplace=True)\n",
    "\n",
    "# Change all datatypes to int\n",
    "data2 = data2.astype(int)"
   ]
  },
  {
   "cell_type": "code",
   "execution_count": 8,
   "metadata": {},
   "outputs": [
    {
     "name": "stdout",
     "output_type": "stream",
     "text": [
      "(754219, 9)\n"
     ]
    },
    {
     "data": {
      "text/html": [
       "<div>\n",
       "<style scoped>\n",
       "    .dataframe tbody tr th:only-of-type {\n",
       "        vertical-align: middle;\n",
       "    }\n",
       "\n",
       "    .dataframe tbody tr th {\n",
       "        vertical-align: top;\n",
       "    }\n",
       "\n",
       "    .dataframe thead th {\n",
       "        text-align: right;\n",
       "    }\n",
       "</style>\n",
       "<table border=\"1\" class=\"dataframe\">\n",
       "  <thead>\n",
       "    <tr style=\"text-align: right;\">\n",
       "      <th></th>\n",
       "      <th>YEAR</th>\n",
       "      <th>NHISPID</th>\n",
       "      <th>AGE</th>\n",
       "      <th>MARSTAT</th>\n",
       "      <th>BIRTHYR</th>\n",
       "      <th>MORTDODY</th>\n",
       "      <th>Longevity</th>\n",
       "      <th>dead</th>\n",
       "      <th>female</th>\n",
       "    </tr>\n",
       "  </thead>\n",
       "  <tbody>\n",
       "    <tr>\n",
       "      <th>3928174</th>\n",
       "      <td>1997</td>\n",
       "      <td>19970003080101</td>\n",
       "      <td>33</td>\n",
       "      <td>11</td>\n",
       "      <td>1963</td>\n",
       "      <td>9999</td>\n",
       "      <td>46</td>\n",
       "      <td>0</td>\n",
       "      <td>1</td>\n",
       "    </tr>\n",
       "    <tr>\n",
       "      <th>3928175</th>\n",
       "      <td>1997</td>\n",
       "      <td>19970003080102</td>\n",
       "      <td>36</td>\n",
       "      <td>11</td>\n",
       "      <td>1960</td>\n",
       "      <td>9999</td>\n",
       "      <td>49</td>\n",
       "      <td>0</td>\n",
       "      <td>0</td>\n",
       "    </tr>\n",
       "    <tr>\n",
       "      <th>3928178</th>\n",
       "      <td>1997</td>\n",
       "      <td>19970003090101</td>\n",
       "      <td>42</td>\n",
       "      <td>11</td>\n",
       "      <td>1954</td>\n",
       "      <td>1999</td>\n",
       "      <td>45</td>\n",
       "      <td>1</td>\n",
       "      <td>0</td>\n",
       "    </tr>\n",
       "    <tr>\n",
       "      <th>3928179</th>\n",
       "      <td>1997</td>\n",
       "      <td>19970003090102</td>\n",
       "      <td>52</td>\n",
       "      <td>11</td>\n",
       "      <td>1944</td>\n",
       "      <td>9999</td>\n",
       "      <td>65</td>\n",
       "      <td>0</td>\n",
       "      <td>1</td>\n",
       "    </tr>\n",
       "    <tr>\n",
       "      <th>3928182</th>\n",
       "      <td>1997</td>\n",
       "      <td>19970003100101</td>\n",
       "      <td>41</td>\n",
       "      <td>11</td>\n",
       "      <td>1955</td>\n",
       "      <td>9999</td>\n",
       "      <td>54</td>\n",
       "      <td>0</td>\n",
       "      <td>0</td>\n",
       "    </tr>\n",
       "  </tbody>\n",
       "</table>\n",
       "</div>"
      ],
      "text/plain": [
       "         YEAR         NHISPID  AGE  MARSTAT  BIRTHYR  MORTDODY  Longevity  \\\n",
       "3928174  1997  19970003080101   33       11     1963      9999         46   \n",
       "3928175  1997  19970003080102   36       11     1960      9999         49   \n",
       "3928178  1997  19970003090101   42       11     1954      1999         45   \n",
       "3928179  1997  19970003090102   52       11     1944      9999         65   \n",
       "3928182  1997  19970003100101   41       11     1955      9999         54   \n",
       "\n",
       "         dead  female  \n",
       "3928174     0       1  \n",
       "3928175     0       0  \n",
       "3928178     1       0  \n",
       "3928179     0       1  \n",
       "3928182     0       0  "
      ]
     },
     "execution_count": 8,
     "metadata": {},
     "output_type": "execute_result"
    }
   ],
   "source": [
    "print(data2.shape)\n",
    "data2.head()"
   ]
  },
  {
   "cell_type": "code",
   "execution_count": 9,
   "metadata": {},
   "outputs": [
    {
     "data": {
      "image/png": "[encoded data removed]",
      "text/plain": [
       "<Figure size 432x432 with 4 Axes>"
      ]
     },
     "metadata": {},
     "output_type": "display_data"
    }
   ],
   "source": [
    "g = sns.FacetGrid(data2, row=\"female\", col=\"dead\", margin_titles=True)\n",
    "g.map(plt.hist, \"Longevity\", color=\"steelblue\", lw=0)\n",
    "plt.show()"
   ]
  },
  {
   "cell_type": "markdown",
   "metadata": {},
   "source": [
    "### The first look\n",
    "After data cleaning, we've gone from 1605246 records to 754219. The vast majority of our sample was still living as of 2009. This means most of our data will be right-censored.\n",
    "\n",
    "Now we're going to use the statsmodels survival analysis functions to create some models for our data. First, we can calculate the Hazard (risk of death) for each age, starting at the youngest people in the sample (18 years old in 2009)."
   ]
  },
  {
   "cell_type": "code",
   "execution_count": 10,
   "metadata": {},
   "outputs": [
    {
     "data": {
      "text/html": [
       "<div>\n",
       "<style scoped>\n",
       "    .dataframe tbody tr th:only-of-type {\n",
       "        vertical-align: middle;\n",
       "    }\n",
       "\n",
       "    .dataframe tbody tr th {\n",
       "        vertical-align: top;\n",
       "    }\n",
       "\n",
       "    .dataframe thead th {\n",
       "        text-align: right;\n",
       "    }\n",
       "</style>\n",
       "<table border=\"1\" class=\"dataframe\">\n",
       "  <thead>\n",
       "    <tr style=\"text-align: right;\">\n",
       "      <th></th>\n",
       "      <th>Surv prob</th>\n",
       "      <th>Surv prob SE</th>\n",
       "      <th>num at risk</th>\n",
       "      <th>num events</th>\n",
       "    </tr>\n",
       "    <tr>\n",
       "      <th>Time</th>\n",
       "      <th></th>\n",
       "      <th></th>\n",
       "      <th></th>\n",
       "      <th></th>\n",
       "    </tr>\n",
       "  </thead>\n",
       "  <tbody>\n",
       "    <tr>\n",
       "      <th>18</th>\n",
       "      <td>0.999997</td>\n",
       "      <td>0.000002</td>\n",
       "      <td>754217</td>\n",
       "      <td>2.0</td>\n",
       "    </tr>\n",
       "    <tr>\n",
       "      <th>19</th>\n",
       "      <td>0.999981</td>\n",
       "      <td>0.000005</td>\n",
       "      <td>753439</td>\n",
       "      <td>12.0</td>\n",
       "    </tr>\n",
       "    <tr>\n",
       "      <th>20</th>\n",
       "      <td>0.999940</td>\n",
       "      <td>0.000009</td>\n",
       "      <td>751911</td>\n",
       "      <td>31.0</td>\n",
       "    </tr>\n",
       "    <tr>\n",
       "      <th>21</th>\n",
       "      <td>0.999879</td>\n",
       "      <td>0.000013</td>\n",
       "      <td>749414</td>\n",
       "      <td>46.0</td>\n",
       "    </tr>\n",
       "    <tr>\n",
       "      <th>22</th>\n",
       "      <td>0.999825</td>\n",
       "      <td>0.000015</td>\n",
       "      <td>746169</td>\n",
       "      <td>40.0</td>\n",
       "    </tr>\n",
       "  </tbody>\n",
       "</table>\n",
       "</div>"
      ],
      "text/plain": [
       "      Surv prob  Surv prob SE  num at risk  num events\n",
       "Time                                                  \n",
       "18     0.999997      0.000002       754217         2.0\n",
       "19     0.999981      0.000005       753439        12.0\n",
       "20     0.999940      0.000009       751911        31.0\n",
       "21     0.999879      0.000013       749414        46.0\n",
       "22     0.999825      0.000015       746169        40.0"
      ]
     },
     "execution_count": 10,
     "metadata": {},
     "output_type": "execute_result"
    }
   ],
   "source": [
    "import statsmodels.api as sm\n",
    "import statsmodels.formula.api as smf\n",
    "\n",
    "sf = sm.SurvfuncRight(data2[\"Longevity\"], data2[\"dead\"])\n",
    "sf.summary().head()"
   ]
  },
  {
   "cell_type": "markdown",
   "metadata": {},
   "source": [
    "You can notice a few things in the survival table:\n",
    "\n",
    "- First, only 2 people in the sample died at the age of 18, with the number of deaths increasing after that.\n",
    "- Second, the standard error steadily gets larger as the sample size (the number at risk, aka. the number of people alive at that timepoint) shrinks.\n",
    "- Finally, the 'number at risk' drops at each timepoint, but by quite a bit more than the number of deaths. This reflects our right-censoring. If someone turned 18 in 2009 and didn't die, they don't count toward the 'number at risk' at age 19 because they're out of the observation window, but they also aren't an event at timepoint 18 because they were still alive at that age.\n",
    "\n",
    "We can also make a very nice survival plot for the men and the women:"
   ]
  },
  {
   "cell_type": "code",
   "execution_count": 11,
   "metadata": {},
   "outputs": [
    {
     "data": {
      "text/plain": [
       "(0.85, 1)"
      ]
     },
     "execution_count": 11,
     "metadata": {},
     "output_type": "execute_result"
    },
    {
     "data": {
      "image/png": "[encoded data removed]",
      "text/plain": [
       "<Figure size 432x288 with 1 Axes>"
      ]
     },
     "metadata": {},
     "output_type": "display_data"
    }
   ],
   "source": [
    "# Plot code modified from the statsmodels docs at http://www.statsmodels.org/dev/duration.html\n",
    "\n",
    "groups = data2.groupby(\"female\")\n",
    "ax = plt.axes()\n",
    "sexes = [\"male\", \"female\"]\n",
    "\n",
    "# Fitting a survival function for each group\n",
    "for group in groups:\n",
    "    sf = sm.SurvfuncRight(group[1][\"Longevity\"], group[1][\"dead\"])\n",
    "    sf.plot(ax)\n",
    "li = ax.get_lines()\n",
    "plt.figlegend((li[0], li[2]), sexes, \"center\")\n",
    "ax.set_ylabel(\"Proportion alive\")\n",
    "ax.set_xlabel(\"Age\")\n",
    "ax.set_autoscaley_on(False)\n",
    "ax.set_ylim([.85,1])"
   ]
  },
  {
   "cell_type": "markdown",
   "metadata": {},
   "source": [
    "Most people are still alive, but this may be due to extreme right-censoring.\n",
    "\n",
    "### Cox PH for gender\n",
    "A graph is all very well, but is the difference in longevity for men and women meaningful? We can test using the Cox PH model."
   ]
  },
  {
   "cell_type": "code",
   "execution_count": 12,
   "metadata": {},
   "outputs": [
    {
     "name": "stdout",
     "output_type": "stream",
     "text": [
      "                       Results: PHReg\n",
      "=============================================================\n",
      "Model:                  PH Reg        Sample size:     754217\n",
      "Dependent variable:     Longevity     Num. events:     67383 \n",
      "Ties:                   Breslow                              \n",
      "-------------------------------------------------------------\n",
      "        log HR log HR SE   HR      t     P>|t|  [0.025 0.975]\n",
      "-------------------------------------------------------------\n",
      "female -0.4460    0.0078 0.6402 -57.5296 0.0000 0.6306 0.6500\n",
      "=============================================================\n",
      "Confidence intervals are for the hazard ratios\n"
     ]
    }
   ],
   "source": [
    "# Model, Data, and if Right-Censored\n",
    "mod = smf.phreg(\"Longevity ~  female\", data2, status=data2['dead'].values) \n",
    "rslt = mod.fit()\n",
    "print(rslt.summary())"
   ]
  },
  {
   "cell_type": "markdown",
   "metadata": {},
   "source": [
    "It looks like the difference is meaningful. The convention is to report and interpret the Hazard Ratio (HR) rather than the log HR. According to the Cox PH, at any given age, women are 64% less likely to die than men, with a 95% confidence interval of 63% to 65%. This difference is statistically significant at  𝛼  of .05 (p < .0001). Our confidence interval is tiny because our sample is so big!\n",
    "\n",
    "Looking from the plot to the model, you may notice that the data tell a slightly different story. The survival rate discrepancy seems to shrink a bit after age 80. This suggests that either we should include some additional features in the model to try and account for this discrepancy, or we should use a different modeling technique that doesn't assume that the effects of features are consistent across all values.\n",
    "\n",
    "We can plot the predicted survival rates from the model:"
   ]
  },
  {
   "cell_type": "code",
   "execution_count": 13,
   "metadata": {},
   "outputs": [
    {
     "name": "stdout",
     "output_type": "stream",
     "text": [
      "         YEAR         NHISPID  AGE  MARSTAT  BIRTHYR  MORTDODY  Longevity  \\\n",
      "3928174  1997  19970003080101   33       11     1963      9999         46   \n",
      "3928175  1997  19970003080102   36       11     1960      9999         49   \n",
      "3928178  1997  19970003090101   42       11     1954      1999         45   \n",
      "3928179  1997  19970003090102   52       11     1944      9999         65   \n",
      "3928182  1997  19970003100101   41       11     1955      9999         54   \n",
      "\n",
      "         dead  female  predicted  \n",
      "3928174     0       1   0.994803  \n",
      "3928175     0       0   0.988401  \n",
      "3928178     1       0   0.992777  \n",
      "3928179     0       1   0.956459  \n",
      "3928182     0       0   0.978739  \n"
     ]
    }
   ],
   "source": [
    "data2[\"predicted\"] = rslt.predict(pred_type='surv').predicted_values\n",
    "print(data2.head())"
   ]
  },
  {
   "cell_type": "code",
   "execution_count": 14,
   "metadata": {},
   "outputs": [
    {
     "data": {
      "image/png": "[encoded data removed]",
      "text/plain": [
       "<Figure size 402.5x360 with 1 Axes>"
      ]
     },
     "metadata": {},
     "output_type": "display_data"
    }
   ],
   "source": [
    "sns.lmplot(x=\"Longevity\", y=\"predicted\", hue=\"female\", data=data2, fit_reg=False, lowess=True)\n",
    "plt.ylim(.85, 1)\n",
    "plt.show()"
   ]
  },
  {
   "cell_type": "markdown",
   "metadata": {},
   "source": [
    "Going back to the survival rates from the raw data, it does appear this model is missing some elements, including the shrinkage in the gender difference after 80, but also the leveling-off of the survival rate once people get to 90 years or older. Again, adding more parameters may help.\n",
    "\n",
    "## Drill\n",
    "They say that people who get married live longer than people who don't. Test that assertion by using marital status as an additional feature in your model. You'll need to create a feature that differentiates the never married from everyone else - check the codebook to get started. Does marriage make a difference? Calculate the survival plot and the hazard ratio for being married at any point a lifetime.\n",
    "\n",
    "Marital status is as follows (found in codebook online):\n",
    "- 10: Married\n",
    "- 11: Married - Spouse Present\n",
    "- 12: Married - Spouse not in Household\n",
    "- 13: Married - Spouse in Household Unknown\n",
    "- 20: Widowed\n",
    "- 30: Divorced\n",
    "- 40: Separated\n",
    "- 50: Never Married\n",
    "- 99: Unknown"
   ]
  },
  {
   "cell_type": "code",
   "execution_count": 15,
   "metadata": {},
   "outputs": [
    {
     "name": "stdout",
     "output_type": "stream",
     "text": [
      "754219 rows in the data\n"
     ]
    },
    {
     "data": {
      "text/plain": [
       "11    251130\n",
       "10    180579\n",
       "50    170198\n",
       "30     74561\n",
       "20     49623\n",
       "40     19796\n",
       "12      5602\n",
       "99      2722\n",
       "13         8\n",
       "Name: MARSTAT, dtype: int64"
      ]
     },
     "execution_count": 15,
     "metadata": {},
     "output_type": "execute_result"
    }
   ],
   "source": [
    "print(f\"{data2.shape[0]} rows in the data\")\n",
    "data2['MARSTAT'].value_counts()"
   ]
  },
  {
   "cell_type": "markdown",
   "metadata": {},
   "source": [
    "### Make some decisions about what to keep\n",
    "I think the 'Unknown' category should be dropped, as it gives us no information at all, and is roughly 0.33% of our overall dataset.  I'm also dropping the 8 who are married but 'Spouse in Household Unknown'.  I'm not sure what that means, and again it's a very small part of the data.\n",
    "\n",
    "Exploration can be made of the other categories; it's likely that being widowed, divorced, or separated has an impact on longevity that's different than those who are married.  For now we'll stick with never married and everything else."
   ]
  },
  {
   "cell_type": "code",
   "execution_count": 16,
   "metadata": {},
   "outputs": [
    {
     "name": "stdout",
     "output_type": "stream",
     "text": [
      "751489 rows in the data\n"
     ]
    },
    {
     "data": {
      "text/plain": [
       "11    251130\n",
       "10    180579\n",
       "50    170198\n",
       "30     74561\n",
       "20     49623\n",
       "40     19796\n",
       "12      5602\n",
       "Name: MARSTAT, dtype: int64"
      ]
     },
     "execution_count": 16,
     "metadata": {},
     "output_type": "execute_result"
    }
   ],
   "source": [
    "data2 = data2[(data2['MARSTAT'] != 99) & (data2['MARSTAT'] != 13)]\n",
    "print(f\"{data2.shape[0]} rows in the data\")\n",
    "data2['MARSTAT'].value_counts()"
   ]
  },
  {
   "cell_type": "code",
   "execution_count": 17,
   "metadata": {},
   "outputs": [
    {
     "data": {
      "text/html": [
       "<div>\n",
       "<style scoped>\n",
       "    .dataframe tbody tr th:only-of-type {\n",
       "        vertical-align: middle;\n",
       "    }\n",
       "\n",
       "    .dataframe tbody tr th {\n",
       "        vertical-align: top;\n",
       "    }\n",
       "\n",
       "    .dataframe thead th {\n",
       "        text-align: right;\n",
       "    }\n",
       "</style>\n",
       "<table border=\"1\" class=\"dataframe\">\n",
       "  <thead>\n",
       "    <tr style=\"text-align: right;\">\n",
       "      <th></th>\n",
       "      <th>YEAR</th>\n",
       "      <th>NHISPID</th>\n",
       "      <th>AGE</th>\n",
       "      <th>MARSTAT</th>\n",
       "      <th>BIRTHYR</th>\n",
       "      <th>MORTDODY</th>\n",
       "      <th>Longevity</th>\n",
       "      <th>dead</th>\n",
       "      <th>female</th>\n",
       "      <th>predicted</th>\n",
       "      <th>unmarried</th>\n",
       "    </tr>\n",
       "  </thead>\n",
       "  <tbody>\n",
       "    <tr>\n",
       "      <th>3928174</th>\n",
       "      <td>1997</td>\n",
       "      <td>19970003080101</td>\n",
       "      <td>33</td>\n",
       "      <td>11</td>\n",
       "      <td>1963</td>\n",
       "      <td>9999</td>\n",
       "      <td>46</td>\n",
       "      <td>0</td>\n",
       "      <td>1</td>\n",
       "      <td>0.994803</td>\n",
       "      <td>0</td>\n",
       "    </tr>\n",
       "    <tr>\n",
       "      <th>3928175</th>\n",
       "      <td>1997</td>\n",
       "      <td>19970003080102</td>\n",
       "      <td>36</td>\n",
       "      <td>11</td>\n",
       "      <td>1960</td>\n",
       "      <td>9999</td>\n",
       "      <td>49</td>\n",
       "      <td>0</td>\n",
       "      <td>0</td>\n",
       "      <td>0.988401</td>\n",
       "      <td>0</td>\n",
       "    </tr>\n",
       "    <tr>\n",
       "      <th>3928178</th>\n",
       "      <td>1997</td>\n",
       "      <td>19970003090101</td>\n",
       "      <td>42</td>\n",
       "      <td>11</td>\n",
       "      <td>1954</td>\n",
       "      <td>1999</td>\n",
       "      <td>45</td>\n",
       "      <td>1</td>\n",
       "      <td>0</td>\n",
       "      <td>0.992777</td>\n",
       "      <td>0</td>\n",
       "    </tr>\n",
       "    <tr>\n",
       "      <th>3928179</th>\n",
       "      <td>1997</td>\n",
       "      <td>19970003090102</td>\n",
       "      <td>52</td>\n",
       "      <td>11</td>\n",
       "      <td>1944</td>\n",
       "      <td>9999</td>\n",
       "      <td>65</td>\n",
       "      <td>0</td>\n",
       "      <td>1</td>\n",
       "      <td>0.956459</td>\n",
       "      <td>0</td>\n",
       "    </tr>\n",
       "    <tr>\n",
       "      <th>3928182</th>\n",
       "      <td>1997</td>\n",
       "      <td>19970003100101</td>\n",
       "      <td>41</td>\n",
       "      <td>11</td>\n",
       "      <td>1955</td>\n",
       "      <td>9999</td>\n",
       "      <td>54</td>\n",
       "      <td>0</td>\n",
       "      <td>0</td>\n",
       "      <td>0.978739</td>\n",
       "      <td>0</td>\n",
       "    </tr>\n",
       "  </tbody>\n",
       "</table>\n",
       "</div>"
      ],
      "text/plain": [
       "         YEAR         NHISPID  AGE  MARSTAT  BIRTHYR  MORTDODY  Longevity  \\\n",
       "3928174  1997  19970003080101   33       11     1963      9999         46   \n",
       "3928175  1997  19970003080102   36       11     1960      9999         49   \n",
       "3928178  1997  19970003090101   42       11     1954      1999         45   \n",
       "3928179  1997  19970003090102   52       11     1944      9999         65   \n",
       "3928182  1997  19970003100101   41       11     1955      9999         54   \n",
       "\n",
       "         dead  female  predicted  unmarried  \n",
       "3928174     0       1   0.994803          0  \n",
       "3928175     0       0   0.988401          0  \n",
       "3928178     1       0   0.992777          0  \n",
       "3928179     0       1   0.956459          0  \n",
       "3928182     0       0   0.978739          0  "
      ]
     },
     "execution_count": 17,
     "metadata": {},
     "output_type": "execute_result"
    }
   ],
   "source": [
    "# Feature for never married\n",
    "data2['unmarried'] = np.where((data2['MARSTAT'] == 50), 1, 0)\n",
    "data2.head()"
   ]
  },
  {
   "cell_type": "code",
   "execution_count": 32,
   "metadata": {},
   "outputs": [
    {
     "data": {
      "image/png": "[encoded data removed]",
      "text/plain": [
       "<Figure size 420.125x360 with 1 Axes>"
      ]
     },
     "metadata": {},
     "output_type": "display_data"
    }
   ],
   "source": [
    "df = data2[(data2['female'] == 0) & data2['unmarried'] == 0]\n",
    "\n",
    "sns.lmplot(x=\"Longevity\", y=\"predicted\", hue=\"unmarried\",\n",
    "           data=df, fit_reg=False, lowess=True, sharex=False)\n",
    "plt.ylim(.85, 1)\n",
    "plt.show()"
   ]
  },
  {
   "cell_type": "code",
   "execution_count": 33,
   "metadata": {},
   "outputs": [
    {
     "data": {
      "image/png": "[encoded data removed]",
      "text/plain": [
       "<Figure size 420.125x360 with 1 Axes>"
      ]
     },
     "metadata": {},
     "output_type": "display_data"
    }
   ],
   "source": [
    "df1 = data2[(data2['female'] == 1) & data2['unmarried'] == 0]\n",
    "\n",
    "sns.lmplot(x=\"Longevity\", y=\"predicted\", hue=\"unmarried\",\n",
    "           data=df1, fit_reg=False, lowess=True, sharex=False)\n",
    "plt.ylim(.85, 1)\n",
    "plt.show()"
   ]
  },
  {
   "cell_type": "markdown",
   "metadata": {},
   "source": [
    "### Unmarried men MORE likely to die sooner\n",
    "At a quick pass, you can see graphically and below: The Hazard Ratio for unmarried men vs. married is 67%"
   ]
  },
  {
   "cell_type": "code",
   "execution_count": 34,
   "metadata": {},
   "outputs": [
    {
     "name": "stdout",
     "output_type": "stream",
     "text": [
      "                       Results: PHReg\n",
      "=============================================================\n",
      "Model:                  PH Reg        Sample size:     662968\n",
      "Dependent variable:     Longevity     Num. events:     63911 \n",
      "Ties:                   Breslow                              \n",
      "-------------------------------------------------------------\n",
      "        log HR log HR SE   HR      t     P>|t|  [0.025 0.975]\n",
      "-------------------------------------------------------------\n",
      "female -0.3947    0.0080 0.6739 -49.5925 0.0000 0.6635 0.6845\n",
      "=============================================================\n",
      "Confidence intervals are for the hazard ratios\n"
     ]
    }
   ],
   "source": [
    "# Model, Data, and if Right-Censored\n",
    "mod = smf.phreg(\"Longevity ~  female\", df, status=df['dead'].values) \n",
    "rslt = mod.fit()\n",
    "print(rslt.summary())"
   ]
  },
  {
   "cell_type": "markdown",
   "metadata": {},
   "source": [
    "### Married women MORE likely to die sooner\n",
    "And, shocker, being married to men makes women die sooner!!!  Looks like 62%"
   ]
  },
  {
   "cell_type": "code",
   "execution_count": 35,
   "metadata": {},
   "outputs": [
    {
     "name": "stdout",
     "output_type": "stream",
     "text": [
      "                       Results: PHReg\n",
      "=============================================================\n",
      "Model:                  PH Reg        Sample size:     669438\n",
      "Dependent variable:     Longevity     Num. events:     64770 \n",
      "Ties:                   Breslow                              \n",
      "-------------------------------------------------------------\n",
      "        log HR log HR SE   HR      t     P>|t|  [0.025 0.975]\n",
      "-------------------------------------------------------------\n",
      "female -0.4781    0.0079 0.6200 -60.3689 0.0000 0.6104 0.6297\n",
      "=============================================================\n",
      "Confidence intervals are for the hazard ratios\n"
     ]
    }
   ],
   "source": [
    "# Model, Data, and if Right-Censored\n",
    "mod = smf.phreg(\"Longevity ~  female\", df1, status=df1['dead'].values) \n",
    "rslt = mod.fit()\n",
    "print(rslt.summary())"
   ]
  }
 ],
 "metadata": {
  "kernelspec": {
   "display_name": "Python 3",
   "language": "python",
   "name": "python3"
  },
  "language_info": {
   "codemirror_mode": {
    "name": "ipython",
    "version": 3
   },
   "file_extension": ".py",
   "mimetype": "text/x-python",
   "name": "python",
   "nbconvert_exporter": "python",
   "pygments_lexer": "ipython3",
   "version": "3.7.0"
  }
 },
 "nbformat": 4,
 "nbformat_minor": 2
}
