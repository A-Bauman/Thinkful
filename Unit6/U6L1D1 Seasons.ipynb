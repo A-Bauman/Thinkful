{
 "cells": [
  {
   "cell_type": "markdown",
   "metadata": {},
   "source": [
    "## DRILL: What's the seasons?\n",
    "Look at the data we created in the beginning. Analyze it to figure out how big a cycle is. Use your programming skills to derive the cycle time rather than looking at the code used to create the series.\n",
    "\n",
    "### As you can see below, the cycle time is 2 weeks; I did this by booleans, shifting the entire column both up and down, then making a comparison.  This found the local maxima; I simply did the same thing with the time column, to find a 14-day periodicity."
   ]
  },
  {
   "cell_type": "code",
   "execution_count": 1,
   "metadata": {},
   "outputs": [],
   "source": [
    "import matplotlib.pyplot as plt\n",
    "import seaborn as sns\n",
    "import numpy as np\n",
    "import pandas as pd\n",
    "import datetime as dt\n",
    "import scipy\n",
    "\n",
    "%matplotlib inline"
   ]
  },
  {
   "cell_type": "code",
   "execution_count": 2,
   "metadata": {},
   "outputs": [],
   "source": [
    "# To simulate a student's rate of learning\n",
    "lrn = pd.DataFrame()\n",
    "\n",
    "# Add a range of 100 dates starting Jan 1, 2017.\n",
    "lrn['date'] = pd.date_range(start='2017-01-01', periods=100)\n",
    "\n",
    "# Add linearly increasing knowledge and oscillating confidence.\n",
    "lrn['knowledge'] = np.arange(0, 100)\n",
    "lrn['confidence'] = 10 * np.cos(np.arange(0, 100) * np.pi / 7) + np.arange(0, 100)"
   ]
  },
  {
   "cell_type": "code",
   "execution_count": 3,
   "metadata": {},
   "outputs": [
    {
     "data": {
      "image/png": "[encoded data removed]",
      "text/plain": [
       "<Figure size 432x288 with 1 Axes>"
      ]
     },
     "metadata": {},
     "output_type": "display_data"
    }
   ],
   "source": [
    "plt.plot(lrn.date, lrn.knowledge, '--')\n",
    "plt.plot(lrn.date, lrn.confidence, 'o-')\n",
    "\n",
    "# Rotate the display of x-markers, dates in this case\n",
    "plt.xticks(rotation=60)\n",
    "plt.legend(loc = (.01,.8))\n",
    "plt.title('Time Series: Student Learning')\n",
    "\n",
    "plt.show()"
   ]
  },
  {
   "cell_type": "code",
   "execution_count": 12,
   "metadata": {},
   "outputs": [
    {
     "data": {
      "text/html": [
       "<div>\n",
       "<style scoped>\n",
       "    .dataframe tbody tr th:only-of-type {\n",
       "        vertical-align: middle;\n",
       "    }\n",
       "\n",
       "    .dataframe tbody tr th {\n",
       "        vertical-align: top;\n",
       "    }\n",
       "\n",
       "    .dataframe thead th {\n",
       "        text-align: right;\n",
       "    }\n",
       "</style>\n",
       "<table border=\"1\" class=\"dataframe\">\n",
       "  <thead>\n",
       "    <tr style=\"text-align: right;\">\n",
       "      <th></th>\n",
       "      <th>date</th>\n",
       "      <th>knowledge</th>\n",
       "      <th>confidence</th>\n",
       "    </tr>\n",
       "  </thead>\n",
       "  <tbody>\n",
       "    <tr>\n",
       "      <th>0</th>\n",
       "      <td>2017-01-01</td>\n",
       "      <td>0</td>\n",
       "      <td>10.000000</td>\n",
       "    </tr>\n",
       "    <tr>\n",
       "      <th>1</th>\n",
       "      <td>2017-01-02</td>\n",
       "      <td>1</td>\n",
       "      <td>10.009689</td>\n",
       "    </tr>\n",
       "    <tr>\n",
       "      <th>2</th>\n",
       "      <td>2017-01-03</td>\n",
       "      <td>2</td>\n",
       "      <td>8.234898</td>\n",
       "    </tr>\n",
       "    <tr>\n",
       "      <th>3</th>\n",
       "      <td>2017-01-04</td>\n",
       "      <td>3</td>\n",
       "      <td>5.225209</td>\n",
       "    </tr>\n",
       "    <tr>\n",
       "      <th>4</th>\n",
       "      <td>2017-01-05</td>\n",
       "      <td>4</td>\n",
       "      <td>1.774791</td>\n",
       "    </tr>\n",
       "    <tr>\n",
       "      <th>5</th>\n",
       "      <td>2017-01-06</td>\n",
       "      <td>5</td>\n",
       "      <td>-1.234898</td>\n",
       "    </tr>\n",
       "    <tr>\n",
       "      <th>6</th>\n",
       "      <td>2017-01-07</td>\n",
       "      <td>6</td>\n",
       "      <td>-3.009689</td>\n",
       "    </tr>\n",
       "    <tr>\n",
       "      <th>7</th>\n",
       "      <td>2017-01-08</td>\n",
       "      <td>7</td>\n",
       "      <td>-3.000000</td>\n",
       "    </tr>\n",
       "    <tr>\n",
       "      <th>8</th>\n",
       "      <td>2017-01-09</td>\n",
       "      <td>8</td>\n",
       "      <td>-1.009689</td>\n",
       "    </tr>\n",
       "    <tr>\n",
       "      <th>9</th>\n",
       "      <td>2017-01-10</td>\n",
       "      <td>9</td>\n",
       "      <td>2.765102</td>\n",
       "    </tr>\n",
       "    <tr>\n",
       "      <th>10</th>\n",
       "      <td>2017-01-11</td>\n",
       "      <td>10</td>\n",
       "      <td>7.774791</td>\n",
       "    </tr>\n",
       "    <tr>\n",
       "      <th>11</th>\n",
       "      <td>2017-01-12</td>\n",
       "      <td>11</td>\n",
       "      <td>13.225209</td>\n",
       "    </tr>\n",
       "    <tr>\n",
       "      <th>12</th>\n",
       "      <td>2017-01-13</td>\n",
       "      <td>12</td>\n",
       "      <td>18.234898</td>\n",
       "    </tr>\n",
       "    <tr>\n",
       "      <th>13</th>\n",
       "      <td>2017-01-14</td>\n",
       "      <td>13</td>\n",
       "      <td>22.009689</td>\n",
       "    </tr>\n",
       "    <tr>\n",
       "      <th>14</th>\n",
       "      <td>2017-01-15</td>\n",
       "      <td>14</td>\n",
       "      <td>24.000000</td>\n",
       "    </tr>\n",
       "    <tr>\n",
       "      <th>15</th>\n",
       "      <td>2017-01-16</td>\n",
       "      <td>15</td>\n",
       "      <td>24.009689</td>\n",
       "    </tr>\n",
       "    <tr>\n",
       "      <th>16</th>\n",
       "      <td>2017-01-17</td>\n",
       "      <td>16</td>\n",
       "      <td>22.234898</td>\n",
       "    </tr>\n",
       "    <tr>\n",
       "      <th>17</th>\n",
       "      <td>2017-01-18</td>\n",
       "      <td>17</td>\n",
       "      <td>19.225209</td>\n",
       "    </tr>\n",
       "    <tr>\n",
       "      <th>18</th>\n",
       "      <td>2017-01-19</td>\n",
       "      <td>18</td>\n",
       "      <td>15.774791</td>\n",
       "    </tr>\n",
       "    <tr>\n",
       "      <th>19</th>\n",
       "      <td>2017-01-20</td>\n",
       "      <td>19</td>\n",
       "      <td>12.765102</td>\n",
       "    </tr>\n",
       "  </tbody>\n",
       "</table>\n",
       "</div>"
      ],
      "text/plain": [
       "         date  knowledge  confidence\n",
       "0  2017-01-01          0   10.000000\n",
       "1  2017-01-02          1   10.009689\n",
       "2  2017-01-03          2    8.234898\n",
       "3  2017-01-04          3    5.225209\n",
       "4  2017-01-05          4    1.774791\n",
       "5  2017-01-06          5   -1.234898\n",
       "6  2017-01-07          6   -3.009689\n",
       "7  2017-01-08          7   -3.000000\n",
       "8  2017-01-09          8   -1.009689\n",
       "9  2017-01-10          9    2.765102\n",
       "10 2017-01-11         10    7.774791\n",
       "11 2017-01-12         11   13.225209\n",
       "12 2017-01-13         12   18.234898\n",
       "13 2017-01-14         13   22.009689\n",
       "14 2017-01-15         14   24.000000\n",
       "15 2017-01-16         15   24.009689\n",
       "16 2017-01-17         16   22.234898\n",
       "17 2017-01-18         17   19.225209\n",
       "18 2017-01-19         18   15.774791\n",
       "19 2017-01-20         19   12.765102"
      ]
     },
     "execution_count": 12,
     "metadata": {},
     "output_type": "execute_result"
    }
   ],
   "source": [
    "# See where local maxima occur, gives me what to aim for\n",
    "lrn.head(20)"
   ]
  },
  {
   "cell_type": "markdown",
   "metadata": {},
   "source": [
    "## My real code starts here"
   ]
  },
  {
   "cell_type": "code",
   "execution_count": 11,
   "metadata": {},
   "outputs": [
    {
     "data": {
      "text/plain": [
       "5.450418679126329"
      ]
     },
     "execution_count": 11,
     "metadata": {},
     "output_type": "execute_result"
    }
   ],
   "source": [
    "# This will take the difference of each element in the column, compared to the one before\n",
    "# I can then take the max and see where it occurs throughout the column\n",
    "# This was a dead-end, but still good to learn about\n",
    "lrn['confidence'].diff().max()"
   ]
  },
  {
   "cell_type": "code",
   "execution_count": 25,
   "metadata": {},
   "outputs": [
    {
     "data": {
      "text/html": [
       "<div>\n",
       "<style scoped>\n",
       "    .dataframe tbody tr th:only-of-type {\n",
       "        vertical-align: middle;\n",
       "    }\n",
       "\n",
       "    .dataframe tbody tr th {\n",
       "        vertical-align: top;\n",
       "    }\n",
       "\n",
       "    .dataframe thead th {\n",
       "        text-align: right;\n",
       "    }\n",
       "</style>\n",
       "<table border=\"1\" class=\"dataframe\">\n",
       "  <thead>\n",
       "    <tr style=\"text-align: right;\">\n",
       "      <th></th>\n",
       "      <th>date</th>\n",
       "      <th>knowledge</th>\n",
       "      <th>confidence</th>\n",
       "    </tr>\n",
       "  </thead>\n",
       "  <tbody>\n",
       "    <tr>\n",
       "      <th>1</th>\n",
       "      <td>2017-01-02</td>\n",
       "      <td>1</td>\n",
       "      <td>10.009689</td>\n",
       "    </tr>\n",
       "    <tr>\n",
       "      <th>15</th>\n",
       "      <td>2017-01-16</td>\n",
       "      <td>15</td>\n",
       "      <td>24.009689</td>\n",
       "    </tr>\n",
       "    <tr>\n",
       "      <th>29</th>\n",
       "      <td>2017-01-30</td>\n",
       "      <td>29</td>\n",
       "      <td>38.009689</td>\n",
       "    </tr>\n",
       "    <tr>\n",
       "      <th>43</th>\n",
       "      <td>2017-02-13</td>\n",
       "      <td>43</td>\n",
       "      <td>52.009689</td>\n",
       "    </tr>\n",
       "    <tr>\n",
       "      <th>57</th>\n",
       "      <td>2017-02-27</td>\n",
       "      <td>57</td>\n",
       "      <td>66.009689</td>\n",
       "    </tr>\n",
       "    <tr>\n",
       "      <th>71</th>\n",
       "      <td>2017-03-13</td>\n",
       "      <td>71</td>\n",
       "      <td>80.009689</td>\n",
       "    </tr>\n",
       "    <tr>\n",
       "      <th>85</th>\n",
       "      <td>2017-03-27</td>\n",
       "      <td>85</td>\n",
       "      <td>94.009689</td>\n",
       "    </tr>\n",
       "  </tbody>\n",
       "</table>\n",
       "</div>"
      ],
      "text/plain": [
       "         date  knowledge  confidence\n",
       "1  2017-01-02          1   10.009689\n",
       "15 2017-01-16         15   24.009689\n",
       "29 2017-01-30         29   38.009689\n",
       "43 2017-02-13         43   52.009689\n",
       "57 2017-02-27         57   66.009689\n",
       "71 2017-03-13         71   80.009689\n",
       "85 2017-03-27         85   94.009689"
      ]
     },
     "execution_count": 25,
     "metadata": {},
     "output_type": "execute_result"
    }
   ],
   "source": [
    "# Compares a given cell to cells before and after, finds all local maxima\n",
    "prev_is_less = lrn['confidence'] > lrn['confidence'].shift()\n",
    "next_is_less = lrn['confidence'] > lrn['confidence'].shift(-1)\n",
    "\n",
    "# OK, now just make sure both are true\n",
    "lrn[(prev_is_less) & (next_is_less)]"
   ]
  },
  {
   "cell_type": "code",
   "execution_count": 29,
   "metadata": {},
   "outputs": [
    {
     "data": {
      "text/plain": [
       "1        NaT\n",
       "15   14 days\n",
       "29   14 days\n",
       "43   14 days\n",
       "57   14 days\n",
       "71   14 days\n",
       "85   14 days\n",
       "Name: date, dtype: timedelta64[ns]"
      ]
     },
     "execution_count": 29,
     "metadata": {},
     "output_type": "execute_result"
    }
   ],
   "source": [
    "# It's easy to see above, but here's the difference in times for each local maximum\n",
    "# That gives us 2 weeks\n",
    "lrn[(prev_is_less) & (next_is_less)]['date'].diff()"
   ]
  }
 ],
 "metadata": {
  "kernelspec": {
   "display_name": "Python 3",
   "language": "python",
   "name": "python3"
  },
  "language_info": {
   "codemirror_mode": {
    "name": "ipython",
    "version": 3
   },
   "file_extension": ".py",
   "mimetype": "text/x-python",
   "name": "python",
   "nbconvert_exporter": "python",
   "pygments_lexer": "ipython3",
   "version": "3.7.0"
  }
 },
 "nbformat": 4,
 "nbformat_minor": 2
}
