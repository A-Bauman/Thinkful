{
 "cells": [
  {
   "cell_type": "code",
   "execution_count": 96,
   "metadata": {},
   "outputs": [],
   "source": [
    "import numpy as np\n",
    "import pandas as pd\n",
    "import scipy.stats"
   ]
  },
  {
   "cell_type": "code",
   "execution_count": 97,
   "metadata": {},
   "outputs": [
    {
     "name": "stdout",
     "output_type": "stream",
     "text": [
      "Plos One mean: £1079\n",
      "Plos One median: £900\n",
      "Plos One std: £656\n",
      "\n",
      "Journal Of Biological Chemistry mean: £1484\n",
      "Journal Of Biological Chemistry median: £1328\n",
      "Journal Of Biological Chemistry std: £538\n",
      "\n",
      "Neuroimage mean: £2230\n",
      "Neuroimage median: £2334\n",
      "Neuroimage std: £258\n",
      "\n",
      "Nucleic Acids Research mean: £1161\n",
      "Nucleic Acids Research median: £852\n",
      "Nucleic Acids Research std: £448\n",
      "\n",
      "Plos Pathogens mean: £1781\n",
      "Plos Pathogens median: £1600\n",
      "Plos Pathogens std: £723\n",
      "\n"
     ]
    }
   ],
   "source": [
    "# I experimented with different encodings, this is what worked\n",
    "df = pd.read_csv(\"TH_Cleaning.csv\", encoding='latin1')\n",
    "\n",
    "# rename this very unwieldy column name....\n",
    "df.rename(inplace=True, columns={'COST (£) charged to Wellcome (inc VAT when charged)':'Cost'})\n",
    "\n",
    "# uncomment the print to see where NaN's occur\n",
    "# strip leading/trailing whitespace, make case consistent\n",
    "for column in df.columns:\n",
    "    df[column] = df[column].str.strip()\n",
    "    df[column] = df[column].str.lower()\n",
    "    #print(pd.value_counts(df[column].isna()))\n",
    "\n",
    "# this drops about 10% of the data (roughly 200 rows), all of it in the PMID column\n",
    "df.dropna(inplace=True)\n",
    "\n",
    "# strip various nasties from the cost, as well as random \\n's that were showing up\n",
    "df['Cost'] = df['Cost'].str.replace('[£$]*', \"\")\n",
    "df['Cost'] = df['Cost'].str.replace('[$£]?[.][0-9]{0,2}[$£]*', \"\")\n",
    "df['PMID/PMCID'] = df['PMID/PMCID'].str.replace('\\s*', \"\")\n",
    "\n",
    "# convert to integers, then winsorize; there were values such as 99999 and some < 100\n",
    "df.Cost = pd.to_numeric(df.Cost, errors='coerce').fillna(0).astype(np.int64)\n",
    "scipy.stats.mstats.winsorize(df.Cost, limits=0.03, inplace=True)\n",
    "\n",
    "# this was to get an idea of the distribution of costs, and where outliers might be\n",
    "#values, counts = np.unique(df['Cost'], return_counts=True)\n",
    "\n",
    "#df.groupby('Journal title')['Cost'].describe()\n",
    "\n",
    "# grab the top 5 journals\n",
    "popular = list(pd.value_counts(df['Journal title']).head(5).index)\n",
    "#df.loc[df['Journal title'] == popular[0], :]\n",
    "\n",
    "# calculate and display the mean, median, and std for the 5 most popular journals\n",
    "for idx, title in enumerate(popular):\n",
    "    stats = df.loc[df['Journal title'] == popular[idx], 'Cost']\n",
    "    print(f\"{popular[idx].title()} mean: £{stats.mean():.0f}\")\n",
    "    print(f\"{popular[idx].title()} median: £{stats.median():.0f}\")\n",
    "    print(f\"{popular[idx].title()} std: £{stats.std(ddof=1):.0f}\\n\") "
   ]
  }
 ],
 "metadata": {
  "kernelspec": {
   "display_name": "Python 3",
   "language": "python",
   "name": "python3"
  },
  "language_info": {
   "codemirror_mode": {
    "name": "ipython",
    "version": 3
   },
   "file_extension": ".py",
   "mimetype": "text/x-python",
   "name": "python",
   "nbconvert_exporter": "python",
   "pygments_lexer": "ipython3",
   "version": "3.7.0"
  }
 },
 "nbformat": 4,
 "nbformat_minor": 2
}
