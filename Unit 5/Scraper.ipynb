{
 "cells": [
  {
   "cell_type": "markdown",
   "metadata": {},
   "source": [
    "### Scraping book info with scrapy\n",
    "This notebook has a scrapy spider for a single page and also a more sophisticated scraper for multiple pages. Scraping takes place on a toyscraping website @ books.toscrap.com\n",
    "\n",
    "You can only run each scraper once, then the kernel needs to be restarted; to generate output below requires some restarting but NOT clearing of previous data."
   ]
  },
  {
   "cell_type": "code",
   "execution_count": 1,
   "metadata": {},
   "outputs": [],
   "source": [
    "#Scraping the first page\n",
    "import pandas as pd\n",
    "import re\n",
    "import scrapy\n",
    "from scrapy.crawler import CrawlerProcess"
   ]
  },
  {
   "cell_type": "code",
   "execution_count": 2,
   "metadata": {},
   "outputs": [
    {
     "name": "stdout",
     "output_type": "stream",
     "text": [
      "Success!\n"
     ]
    }
   ],
   "source": [
    "class bookspider(scrapy.Spider):\n",
    "    # Naming the spider is important if you are running more than one spider of\n",
    "    # this class simultaneously.\n",
    "    name = \"books\"\n",
    "    \n",
    "    # URL(s) to start with.\n",
    "    start_urls = ['http://books.toscrape.com/',]\n",
    "\n",
    "    # Use XPath to parse the response we get.\n",
    "    def parse(self, response):\n",
    "        # Iterate over every <li> element in the ol section.\n",
    "        for li in response.xpath('//div[2]/ol/li'):\n",
    "            yield {\n",
    "                # This is the code to choose what we want to extract\n",
    "                # You can modify this with other Xpath expressions to extract other information from the site\n",
    "                'name': li.xpath('article/h3/a/@title').extract(),\n",
    "                'price': li.xpath('article/div[2]/p[1]/text()').extract_first(),\n",
    "                'instock': li.xpath('article/div[2]/p[2]/i/@class').extract(),\n",
    "                'rating' : li.xpath('article/p/@class').extract()\n",
    "                  }\n",
    "\n",
    "# Tell the script how to run the crawler by passing in settings.\n",
    "process = CrawlerProcess({\n",
    "    'FEED_FORMAT': 'json',         # Store data in JSON format.\n",
    "    'FEED_URI': 'test1.json',  # Name our storage file.\n",
    "    'LOG_ENABLED': False           # Turn off logging for now.\n",
    "})\n",
    "\n",
    "# Start the crawler with our spider.\n",
    "process.crawl(bookspider)\n",
    "process.start()\n",
    "print('Success!')"
   ]
  },
  {
   "cell_type": "code",
   "execution_count": 3,
   "metadata": {},
   "outputs": [
    {
     "name": "stdout",
     "output_type": "stream",
     "text": [
      "(20, 4)\n",
      "     instock                                     name   price  \\\n",
      "0  [icon-ok]                   [A Light in the Attic]  £51.77   \n",
      "1  [icon-ok]                     [Tipping the Velvet]  £53.74   \n",
      "2  [icon-ok]                             [Soumission]  £50.10   \n",
      "3  [icon-ok]                          [Sharp Objects]  £47.82   \n",
      "4  [icon-ok]  [Sapiens: A Brief History of Humankind]  £54.23   \n",
      "\n",
      "                rating  \n",
      "0  [star-rating Three]  \n",
      "1    [star-rating One]  \n",
      "2    [star-rating One]  \n",
      "3   [star-rating Four]  \n",
      "4   [star-rating Five]  \n"
     ]
    }
   ],
   "source": [
    "# Checking whether we got data \n",
    "book_df=pd.read_json('test1.json', orient='records')\n",
    "print(book_df.shape)\n",
    "print(book_df.head())"
   ]
  },
  {
   "cell_type": "markdown",
   "metadata": {},
   "source": [
    "### Scrape all pages..."
   ]
  },
  {
   "cell_type": "code",
   "execution_count": 2,
   "metadata": {},
   "outputs": [
    {
     "name": "stdout",
     "output_type": "stream",
     "text": [
      "Success!\n"
     ]
    }
   ],
   "source": [
    "class BookSpider(scrapy.Spider):\n",
    "    # Naming the spider is important if you are running more than one spider of\n",
    "    # this class simultaneously.\n",
    "    name = \"Book\"\n",
    "    \n",
    "    # URL(s) to start with.\n",
    "    start_urls = [\n",
    "        'http://books.toscrape.com/',\n",
    "    ]\n",
    "\n",
    "    # Use XPath to parse the response we get.\n",
    "    def parse(self, response):\n",
    "        \n",
    "        # Iterate over every <li> element in the ol section.\n",
    "        for li in response.xpath('//div[2]/ol/li'):            \n",
    "           \n",
    "            yield {\n",
    "                'name': li.xpath('article/h3/a/@title').extract(),\n",
    "                'price': li.xpath('article/div[2]/p[1]/text()').extract_first(),\n",
    "                'instock': li.xpath('article/div[2]/p[2]/i/@class').extract(),\n",
    "                'rating' : li.xpath('article/p/@class').extract()\n",
    "                   }\n",
    "        # Get the URL of the previous page.\n",
    "        next_page = response.xpath('//li[@class=\"next\"]/a/@href').extract_first()\n",
    "        \n",
    "        # There are a LOT of pages here.  For our example, we'll just scrape the first 9.\n",
    "        # This finds the page number. The next segment of code prevents us from going beyond page 9.\n",
    "        pagenum = int(re.findall(r'\\d+',next_page)[0])\n",
    "        \n",
    "        # Recursively call the spider to run on the next page, if it exists.\n",
    "        if next_page is not None and pagenum < 10:\n",
    "            next_page = response.urljoin(next_page)\n",
    "            # Request the next page and recursively parse it the same way we did above\n",
    "            yield scrapy.Request(next_page, callback=self.parse)\n",
    "\n",
    "# Tell the script how to run the crawler by passing in settings.\n",
    "# The new settings have to do with scraping etiquette.          \n",
    "process = CrawlerProcess({\n",
    "    'FEED_FORMAT': 'json',         # Store data in JSON format.\n",
    "    'FEED_URI': 'data.json',       # Name our storage file.\n",
    "    'LOG_ENABLED': False,          # Turn off logging for now.\n",
    "    'ROBOTSTXT_OBEY': True,\n",
    "    'USER_AGENT': 'Aaron@ABauman',\n",
    "    'AUTOTHROTTLE_ENABLED': True,\n",
    "    'HTTPCACHE_ENABLED': True\n",
    "})\n",
    "\n",
    "# Start the crawler with our spider.\n",
    "process.crawl(BookSpider)\n",
    "process.start()\n",
    "print('Success!')"
   ]
  },
  {
   "cell_type": "code",
   "execution_count": 3,
   "metadata": {},
   "outputs": [
    {
     "name": "stdout",
     "output_type": "stream",
     "text": [
      "(180, 4)\n",
      "       instock            name   price              rating\n",
      "179  [icon-ok]  [Mrs. Houdini]  £30.25  [star-rating Five]\n"
     ]
    }
   ],
   "source": [
    "# Checking whether we got data from all 9 pages\n",
    "books_df=pd.read_json('data.json', orient='records')\n",
    "print(books_df.shape)\n",
    "print(books_df.tail(1))"
   ]
  },
  {
   "cell_type": "code",
   "execution_count": 4,
   "metadata": {},
   "outputs": [],
   "source": [
    "import numpy as np\n",
    "import matplotlib.pyplot as plt\n",
    "import seaborn as sns"
   ]
  },
  {
   "cell_type": "code",
   "execution_count": 5,
   "metadata": {},
   "outputs": [],
   "source": [
    "books_df.price = [ float(re.sub('[^\\d+\\.\\d+]', '',i)) for i in books_df.price]\n",
    "rate_keys = {'One': 1,'Two':2,'Three':3,'Four':4,'Five':5}\n",
    "books_df.rating = [ rate_keys[re.sub('star-rating ','',''.join(i))] for i in books_df.rating]"
   ]
  },
  {
   "cell_type": "code",
   "execution_count": 6,
   "metadata": {},
   "outputs": [
    {
     "data": {
      "text/plain": [
       "Text(0.5,1,'Distribution of Book Prices')"
      ]
     },
     "execution_count": 6,
     "metadata": {},
     "output_type": "execute_result"
    },
    {
     "data": {
      "image/png": "[encoded data removed]",
      "text/plain": [
       "<Figure size 432x288 with 1 Axes>"
      ]
     },
     "metadata": {},
     "output_type": "display_data"
    }
   ],
   "source": [
    "sns.distplot(books_df.price, kde=False)\n",
    "plt.title('Distribution of Book Prices')"
   ]
  },
  {
   "cell_type": "code",
   "execution_count": 7,
   "metadata": {},
   "outputs": [
    {
     "data": {
      "text/plain": [
       "Text(0.5,1,'Distribution of Book Ratings')"
      ]
     },
     "execution_count": 7,
     "metadata": {},
     "output_type": "execute_result"
    },
    {
     "data": {
      "image/png": "[encoded data removed]",
      "text/plain": [
       "<Figure size 432x288 with 1 Axes>"
      ]
     },
     "metadata": {},
     "output_type": "display_data"
    }
   ],
   "source": [
    "sns.distplot(books_df.rating, kde=False)\n",
    "plt.title('Distribution of Book Ratings')"
   ]
  },
  {
   "cell_type": "code",
   "execution_count": 8,
   "metadata": {},
   "outputs": [
    {
     "data": {
      "image/png": "[encoded data removed]",
      "text/plain": [
       "<Figure size 432x288 with 1 Axes>"
      ]
     },
     "metadata": {},
     "output_type": "display_data"
    }
   ],
   "source": [
    "sns.scatterplot(x='rating',y='price',data=books_df)\n",
    "plt.show()"
   ]
  }
 ],
 "metadata": {
  "kernelspec": {
   "display_name": "Python 3",
   "language": "python",
   "name": "python3"
  },
  "language_info": {
   "codemirror_mode": {
    "name": "ipython",
    "version": 3
   },
   "file_extension": ".py",
   "mimetype": "text/x-python",
   "name": "python",
   "nbconvert_exporter": "python",
   "pygments_lexer": "ipython3",
   "version": "3.7.0"
  }
 },
 "nbformat": 4,
 "nbformat_minor": 2
}
