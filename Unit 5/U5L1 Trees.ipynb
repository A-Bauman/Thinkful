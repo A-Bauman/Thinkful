{
 "cells": [
  {
   "cell_type": "markdown",
   "metadata": {},
   "source": [
    "## Here's an implementation of a tree.  I tried to make it horrible: no recursion, no iteration, and brittle (hard-code values rather than maintain flexibility).  It's an illustration of a very naive approach.  It does actually meet the requirements of the assignment!\n",
    "\n",
    "Obviously I could take the opposite approach (which I tried to do with my Quicksort algorithm), and what I'll do with Project Euler.  This was just to have fun and be silly. Oh, and my class methods are a bit silly too."
   ]
  },
  {
   "cell_type": "code",
   "execution_count": 1,
   "metadata": {},
   "outputs": [],
   "source": [
    "class Node:\n",
    "    def __init__(self, val):\n",
    "        self.left = None\n",
    "        self.right = None\n",
    "        self.val = val\n",
    "    \n",
    "    def set_right(self, node):\n",
    "        self.right = node\n",
    "        return self.right\n",
    "        \n",
    "    def set_left(self, node):\n",
    "        self.left = node\n",
    "        return self.left\n",
    "        \n",
    "    def get_right(self):\n",
    "        return self.right\n",
    "    \n",
    "    def get_left(self):\n",
    "        return self.left\n",
    "    \n",
    "    def get_val(self):\n",
    "        return self.val"
   ]
  },
  {
   "cell_type": "code",
   "execution_count": 2,
   "metadata": {},
   "outputs": [],
   "source": [
    "root = Node('A')\n",
    "B = root.set_left(Node('B'))\n",
    "C = root.set_right(Node('C'))\n",
    "D = B.set_left(Node('D'))\n",
    "E = B.set_right(Node('E'))\n",
    "F = C.set_left(Node('F'))\n",
    "G = C.set_right(Node('G'))\n",
    "D.set_left(Node('H'))\n",
    "D.set_right(Node('I'))\n",
    "E.set_left(Node('J'))\n",
    "E.set_right(Node('K'))\n",
    "F.set_left(Node('L'))\n",
    "F.set_right(Node('M'))\n",
    "G.set_left(Node('N'))\n",
    "_ = G.set_right(Node('O'))"
   ]
  },
  {
   "cell_type": "code",
   "execution_count": 3,
   "metadata": {},
   "outputs": [],
   "source": [
    "def print_node(node):\n",
    "    if node.val == 'A':\n",
    "        print(node.val)\n",
    "    left = node.get_left()\n",
    "    right = node.get_right()\n",
    "    if left:\n",
    "        print(left.val)\n",
    "        print(right.val)\n",
    "        l2 = left.get_left()\n",
    "        if l2:\n",
    "            print(l2.val)\n",
    "            print(left.get_right().val)\n",
    "            print(right.get_left().val)\n",
    "            print(right.get_right().val)"
   ]
  },
  {
   "cell_type": "code",
   "execution_count": 4,
   "metadata": {},
   "outputs": [
    {
     "name": "stdout",
     "output_type": "stream",
     "text": [
      "A\n",
      "B\n",
      "C\n",
      "D\n",
      "E\n",
      "F\n",
      "G\n",
      "H\n",
      "I\n",
      "J\n",
      "K\n",
      "L\n",
      "M\n",
      "N\n",
      "O\n"
     ]
    }
   ],
   "source": [
    "print_node(root)\n",
    "print_node(D)\n",
    "print_node(E)\n",
    "print_node(F)\n",
    "print_node(G)"
   ]
  }
 ],
 "metadata": {
  "kernelspec": {
   "display_name": "Python 3",
   "language": "python",
   "name": "python3"
  },
  "language_info": {
   "codemirror_mode": {
    "name": "ipython",
    "version": 3
   },
   "file_extension": ".py",
   "mimetype": "text/x-python",
   "name": "python",
   "nbconvert_exporter": "python",
   "pygments_lexer": "ipython3",
   "version": "3.6.7"
  }
 },
 "nbformat": 4,
 "nbformat_minor": 2
}
