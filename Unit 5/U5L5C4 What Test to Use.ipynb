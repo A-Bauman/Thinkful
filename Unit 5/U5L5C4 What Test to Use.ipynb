{
 "cells": [
  {
   "cell_type": "markdown",
   "metadata": {},
   "source": [
    "## Challenge: What Test to Use?\n",
    "In this dataset, the same participants answered questions in 2012 and again 2014.\n",
    "\n",
    "1. Did people become less trusting from 2012 to 2014? Compute results for each country in the sample.\n",
    "2. Did people become happier from 2012 to 2014? Compute results for each country in the sample.\n",
    "3. Who reported watching more TV in 2012, men or women?\n",
    "4. Who was more likely to believe people were fair in 2012, people living with a partner or people living alone?\n",
    "5. Pick three or four of the countries in the sample and compare how often people met socially in 2014. Are there differences, and if so, which countries stand out?\n",
    "6. Pick three or four of the countries in the sample and compare how often people took part in social activities, relative to others their age, in 2014. Are there differences, and if so, which countries stand out?"
   ]
  },
  {
   "cell_type": "code",
   "execution_count": 1,
   "metadata": {},
   "outputs": [],
   "source": [
    "import pandas as pd\n",
    "import numpy as np\n",
    "import matplotlib.pyplot as plt\n",
    "import seaborn as sns\n",
    "import scipy.stats as stats\n",
    "%matplotlib inline\n",
    "sns.set()\n",
    "\n",
    "import warnings\n",
    "warnings.filterwarnings(action='once')"
   ]
  },
  {
   "cell_type": "code",
   "execution_count": 2,
   "metadata": {},
   "outputs": [
    {
     "data": {
      "text/html": [
       "<div>\n",
       "<style scoped>\n",
       "    .dataframe tbody tr th:only-of-type {\n",
       "        vertical-align: middle;\n",
       "    }\n",
       "\n",
       "    .dataframe tbody tr th {\n",
       "        vertical-align: top;\n",
       "    }\n",
       "\n",
       "    .dataframe thead th {\n",
       "        text-align: right;\n",
       "    }\n",
       "</style>\n",
       "<table border=\"1\" class=\"dataframe\">\n",
       "  <thead>\n",
       "    <tr style=\"text-align: right;\">\n",
       "      <th></th>\n",
       "      <th>cntry</th>\n",
       "      <th>idno</th>\n",
       "      <th>year</th>\n",
       "      <th>tvtot</th>\n",
       "      <th>ppltrst</th>\n",
       "      <th>pplfair</th>\n",
       "      <th>pplhlp</th>\n",
       "      <th>happy</th>\n",
       "      <th>sclmeet</th>\n",
       "      <th>sclact</th>\n",
       "      <th>gndr</th>\n",
       "      <th>agea</th>\n",
       "      <th>partner</th>\n",
       "    </tr>\n",
       "  </thead>\n",
       "  <tbody>\n",
       "    <tr>\n",
       "      <th>0</th>\n",
       "      <td>CH</td>\n",
       "      <td>5.0</td>\n",
       "      <td>6</td>\n",
       "      <td>3.0</td>\n",
       "      <td>3.0</td>\n",
       "      <td>10.0</td>\n",
       "      <td>5.0</td>\n",
       "      <td>8.0</td>\n",
       "      <td>5.0</td>\n",
       "      <td>4.0</td>\n",
       "      <td>2.0</td>\n",
       "      <td>60.0</td>\n",
       "      <td>1.0</td>\n",
       "    </tr>\n",
       "    <tr>\n",
       "      <th>1</th>\n",
       "      <td>CH</td>\n",
       "      <td>25.0</td>\n",
       "      <td>6</td>\n",
       "      <td>6.0</td>\n",
       "      <td>5.0</td>\n",
       "      <td>7.0</td>\n",
       "      <td>5.0</td>\n",
       "      <td>9.0</td>\n",
       "      <td>3.0</td>\n",
       "      <td>2.0</td>\n",
       "      <td>2.0</td>\n",
       "      <td>59.0</td>\n",
       "      <td>1.0</td>\n",
       "    </tr>\n",
       "    <tr>\n",
       "      <th>2</th>\n",
       "      <td>CH</td>\n",
       "      <td>26.0</td>\n",
       "      <td>6</td>\n",
       "      <td>1.0</td>\n",
       "      <td>8.0</td>\n",
       "      <td>8.0</td>\n",
       "      <td>8.0</td>\n",
       "      <td>7.0</td>\n",
       "      <td>6.0</td>\n",
       "      <td>3.0</td>\n",
       "      <td>1.0</td>\n",
       "      <td>24.0</td>\n",
       "      <td>2.0</td>\n",
       "    </tr>\n",
       "    <tr>\n",
       "      <th>3</th>\n",
       "      <td>CH</td>\n",
       "      <td>28.0</td>\n",
       "      <td>6</td>\n",
       "      <td>4.0</td>\n",
       "      <td>6.0</td>\n",
       "      <td>6.0</td>\n",
       "      <td>7.0</td>\n",
       "      <td>10.0</td>\n",
       "      <td>6.0</td>\n",
       "      <td>2.0</td>\n",
       "      <td>2.0</td>\n",
       "      <td>64.0</td>\n",
       "      <td>1.0</td>\n",
       "    </tr>\n",
       "    <tr>\n",
       "      <th>4</th>\n",
       "      <td>CH</td>\n",
       "      <td>29.0</td>\n",
       "      <td>6</td>\n",
       "      <td>5.0</td>\n",
       "      <td>6.0</td>\n",
       "      <td>7.0</td>\n",
       "      <td>5.0</td>\n",
       "      <td>8.0</td>\n",
       "      <td>7.0</td>\n",
       "      <td>2.0</td>\n",
       "      <td>2.0</td>\n",
       "      <td>55.0</td>\n",
       "      <td>1.0</td>\n",
       "    </tr>\n",
       "  </tbody>\n",
       "</table>\n",
       "</div>"
      ],
      "text/plain": [
       "  cntry  idno  year  tvtot  ppltrst  pplfair  pplhlp  happy  sclmeet  sclact  \\\n",
       "0    CH   5.0     6    3.0      3.0     10.0     5.0    8.0      5.0     4.0   \n",
       "1    CH  25.0     6    6.0      5.0      7.0     5.0    9.0      3.0     2.0   \n",
       "2    CH  26.0     6    1.0      8.0      8.0     8.0    7.0      6.0     3.0   \n",
       "3    CH  28.0     6    4.0      6.0      6.0     7.0   10.0      6.0     2.0   \n",
       "4    CH  29.0     6    5.0      6.0      7.0     5.0    8.0      7.0     2.0   \n",
       "\n",
       "   gndr  agea  partner  \n",
       "0   2.0  60.0      1.0  \n",
       "1   2.0  59.0      1.0  \n",
       "2   1.0  24.0      2.0  \n",
       "3   2.0  64.0      1.0  \n",
       "4   2.0  55.0      1.0  "
      ]
     },
     "execution_count": 2,
     "metadata": {},
     "output_type": "execute_result"
    }
   ],
   "source": [
    "df = pd.read_csv(\"EuroHappy.csv\")\n",
    "df.head()"
   ]
  },
  {
   "cell_type": "code",
   "execution_count": 3,
   "metadata": {},
   "outputs": [
    {
     "name": "stdout",
     "output_type": "stream",
     "text": [
      "<class 'pandas.core.frame.DataFrame'>\n",
      "RangeIndex: 8594 entries, 0 to 8593\n",
      "Data columns (total 13 columns):\n",
      "cntry      8594 non-null object\n",
      "idno       8594 non-null float64\n",
      "year       8594 non-null int64\n",
      "tvtot      8586 non-null float64\n",
      "ppltrst    8580 non-null float64\n",
      "pplfair    8555 non-null float64\n",
      "pplhlp     8569 non-null float64\n",
      "happy      8563 non-null float64\n",
      "sclmeet    8579 non-null float64\n",
      "sclact     8500 non-null float64\n",
      "gndr       8584 non-null float64\n",
      "agea       8355 non-null float64\n",
      "partner    8577 non-null float64\n",
      "dtypes: float64(11), int64(1), object(1)\n",
      "memory usage: 872.9+ KB\n"
     ]
    }
   ],
   "source": [
    "df.info()"
   ]
  },
  {
   "cell_type": "code",
   "execution_count": 4,
   "metadata": {},
   "outputs": [
    {
     "data": {
      "text/plain": [
       "7    4297\n",
       "6    4297\n",
       "Name: year, dtype: int64"
      ]
     },
     "execution_count": 4,
     "metadata": {},
     "output_type": "execute_result"
    }
   ],
   "source": [
    "# Take a look at the year column\n",
    "df['year'].value_counts()"
   ]
  },
  {
   "cell_type": "markdown",
   "metadata": {},
   "source": [
    "### Looks like there is a small amount of missing data"
   ]
  },
  {
   "cell_type": "code",
   "execution_count": 5,
   "metadata": {},
   "outputs": [
    {
     "name": "stderr",
     "output_type": "stream",
     "text": [
      "/Library/Frameworks/Python.framework/Versions/3.7/lib/python3.7/site-packages/matplotlib/cbook/__init__.py:2347: DeprecationWarning: Using or importing the ABCs from 'collections' instead of from 'collections.abc' is deprecated, and in 3.8 it will stop working\n",
      "  if isinstance(obj, collections.Iterator):\n"
     ]
    },
    {
     "data": {
      "image/png": "[encoded data removed]",
      "text/plain": [
       "<Figure size 1008x432 with 1 Axes>"
      ]
     },
     "metadata": {},
     "output_type": "display_data"
    }
   ],
   "source": [
    "# Missing data?\n",
    "plt.figure(figsize=(14,6))\n",
    "sns.heatmap(df.isnull(),\n",
    "            yticklabels=False,\n",
    "            cbar=False,\n",
    "            cmap='viridis').set_title('Missing Data', fontweight='bold', fontsize=14)\n",
    "plt.show()"
   ]
  },
  {
   "cell_type": "markdown",
   "metadata": {},
   "source": [
    "# 1. Did people become less trusting from 2012 to 2014? Compute results for each country in the sample."
   ]
  },
  {
   "cell_type": "code",
   "execution_count": 6,
   "metadata": {},
   "outputs": [
    {
     "data": {
      "image/png": "[encoded data removed]",
      "text/plain": [
       "<Figure size 864x432 with 1 Axes>"
      ]
     },
     "metadata": {},
     "output_type": "display_data"
    }
   ],
   "source": [
    "# Start with an overall look\n",
    "# This is by no means a normal distribution.  Normal-esque? Ish?\n",
    "plt.figure(figsize=(12,6))\n",
    "data_2012 = pd.DataFrame(df[df['year']==6].dropna())\n",
    "data_2014 = pd.DataFrame(df[df['year']==7].dropna())\n",
    "\n",
    "data_2012['ppltrst'].plot(kind='hist', legend=True, label='2012', alpha=0.5)\n",
    "data_2014['ppltrst'].plot(kind='hist', legend=True, label='2014', alpha=0.5)\n",
    "plt.show()"
   ]
  },
  {
   "cell_type": "code",
   "execution_count": 7,
   "metadata": {},
   "outputs": [
    {
     "data": {
      "image/png": "[encoded data removed]",
      "text/plain": [
       "<Figure size 864x432 with 1 Axes>"
      ]
     },
     "metadata": {},
     "output_type": "display_data"
    }
   ],
   "source": [
    "# I could fix the legend, but already burned too much time fiddling with it\n",
    "plt.figure(figsize=(12,6))\n",
    "sns.boxplot(x=\"cntry\", y=\"ppltrst\", hue='year', data=df).set_title('Blue: 2012        Brown: 2014', fontweight='bold')\n",
    "plt.tight_layout()\n",
    "plt.legend(fancybox=True, framealpha=1, shadow=True, borderpad=1, loc=(1.01,0.82))\n",
    "plt.show()"
   ]
  },
  {
   "cell_type": "markdown",
   "metadata": {},
   "source": [
    "### This is a dependent A/B test: same people experiencing different stimulus (in this case, time).  I'll run a regular ttest for paired samples, but put more faith in the nonparemetric Wilcoxon\n",
    "It looks like both tests concur actually, showing Spain and Sweden as the only countries that are statistically different between the years (both tests showing p < 0.05)"
   ]
  },
  {
   "cell_type": "code",
   "execution_count": 8,
   "metadata": {},
   "outputs": [
    {
     "name": "stdout",
     "output_type": "stream",
     "text": [
      "CH \t Ttest_relResult(statistic=-0.685503936789268, pvalue=0.4932433040188394)\n",
      "\t WilcoxonResult(statistic=97323.0, pvalue=0.5553997503173174) \n",
      "\n",
      "CZ \t Ttest_relResult(statistic=0.3309358230335794, pvalue=0.7408085007445435)\n",
      "\t WilcoxonResult(statistic=70943.0, pvalue=0.8339189113309622) \n",
      "\n",
      "DE \t Ttest_relResult(statistic=-0.6684373647831918, pvalue=0.5165064656723359)\n",
      "\t WilcoxonResult(statistic=30.5, pvalue=0.5022609941677378) \n",
      "\n",
      "ES \t Ttest_relResult(statistic=2.1512250255992353, pvalue=0.03166935799305661)\n",
      "\t WilcoxonResult(statistic=205134.5, pvalue=0.0242005176212083) \n",
      "\n",
      "NO \t Ttest_relResult(statistic=0.5462752312298897, pvalue=0.5850490996185177)\n",
      "\t WilcoxonResult(statistic=78707.0, pvalue=0.6406594408625819) \n",
      "\n",
      "SE \t Ttest_relResult(statistic=-2.074422015535839, pvalue=0.0383378027404032)\n",
      "\t WilcoxonResult(statistic=118894.0, pvalue=0.04299772898275245) \n",
      "\n"
     ]
    },
    {
     "name": "stderr",
     "output_type": "stream",
     "text": [
      "/Library/Frameworks/Python.framework/Versions/3.7/lib/python3.7/site-packages/ipykernel_launcher.py:2: UserWarning: Boolean Series key will be reindexed to match DataFrame index.\n",
      "  \n"
     ]
    }
   ],
   "source": [
    "for country in df['cntry'].unique().tolist():\n",
    "    x = data_2012[df['cntry'] == country]['ppltrst']\n",
    "    y = data_2014[df['cntry'] == country]['ppltrst']\n",
    "\n",
    "    # A bit of a hack here to make lengths agree so the Wilcox will run\n",
    "    lenx, leny = len(x), len(y)\n",
    "    #print(lenx, '\\t', leny)\n",
    "    if lenx > leny:\n",
    "        x = x[:leny]\n",
    "    else:\n",
    "        y = y[:lenx]\n",
    "    \n",
    "    print(country, '\\t', stats.ttest_rel(x, y))\n",
    "    print('\\t', stats.wilcoxon(x, y), '\\n')"
   ]
  },
  {
   "cell_type": "markdown",
   "metadata": {},
   "source": [
    "# 2. Did people become happier from 2012 to 2014? Compute results for each country in the sample."
   ]
  },
  {
   "cell_type": "code",
   "execution_count": 9,
   "metadata": {},
   "outputs": [
    {
     "data": {
      "image/png": "[encoded data removed]",
      "text/plain": [
       "<Figure size 864x432 with 1 Axes>"
      ]
     },
     "metadata": {},
     "output_type": "display_data"
    }
   ],
   "source": [
    "plt.figure(figsize=(12,6))\n",
    "data_2012 = df[df['year']==6].dropna()\n",
    "data_2014 = df[df['year']==7].dropna()\n",
    "data_2012['happy'].plot(kind='hist', legend=True, label='2012', alpha=0.5)\n",
    "data_2014['happy'].plot(kind='hist', legend=True, label='2014', alpha=0.5)\n",
    "plt.show()"
   ]
  },
  {
   "cell_type": "code",
   "execution_count": 10,
   "metadata": {},
   "outputs": [
    {
     "data": {
      "image/png": "[encoded data removed]",
      "text/plain": [
       "<Figure size 864x432 with 1 Axes>"
      ]
     },
     "metadata": {},
     "output_type": "display_data"
    }
   ],
   "source": [
    "plt.figure(figsize=(12,6))\n",
    "sns.boxplot(x=\"cntry\",\n",
    "            y=\"happy\",\n",
    "            hue='year',\n",
    "            data=df).set_title('Blue: 2012        Brown: 2014', fontweight='bold', fontsize=14)\n",
    "plt.tight_layout()\n",
    "plt.legend(fancybox=True, framealpha=1, shadow=True, borderpad=1, loc=(1.01,0.82))\n",
    "plt.show()"
   ]
  },
  {
   "cell_type": "markdown",
   "metadata": {},
   "source": [
    "### Same as above, dependent test.  NOT NORMAL, so only non-parametric is relevant.  I'm going to run the parametric test just for comparison\n",
    "Interesting.  The tests agree about the Czech Rep. and Spain, and are split on Germany and Switzerland (though only if you use 0.05, a different cutoff might make them agree)"
   ]
  },
  {
   "cell_type": "code",
   "execution_count": 11,
   "metadata": {},
   "outputs": [
    {
     "name": "stdout",
     "output_type": "stream",
     "text": [
      "CH \t Ttest_relResult(statistic=-0.7800633792362622, pvalue=0.43560606784786937)\n",
      "\t WilcoxonResult(statistic=72908.5, pvalue=0.5767042949680168) \n",
      "\n",
      "CZ \t Ttest_relResult(statistic=-1.0703576573050146, pvalue=0.2848887319230953)\n",
      "\t WilcoxonResult(statistic=61773.5, pvalue=0.38263492515573405) \n",
      "\n",
      "DE \t Ttest_relResult(statistic=-0.7030499101780563, pvalue=0.49543876166584)\n",
      "\t WilcoxonResult(statistic=17.0, pvalue=0.5071224553598253) \n",
      "\n",
      "ES \t Ttest_relResult(statistic=1.3860590934427537, pvalue=0.16600158102705556)\n",
      "\t WilcoxonResult(statistic=212608.0, pvalue=0.17284338638135865) \n",
      "\n",
      "NO \t Ttest_relResult(statistic=4.149373860727647, pvalue=3.739949572463859e-05)\n",
      "\t WilcoxonResult(statistic=64696.0, pvalue=1.6078039491474595e-05) \n",
      "\n",
      "SE \t Ttest_relResult(statistic=-0.48955055558479654, pvalue=0.6245771053748665)\n",
      "\t WilcoxonResult(statistic=110648.0, pvalue=0.72351428366515) \n",
      "\n"
     ]
    },
    {
     "name": "stderr",
     "output_type": "stream",
     "text": [
      "/Library/Frameworks/Python.framework/Versions/3.7/lib/python3.7/site-packages/ipykernel_launcher.py:2: UserWarning: Boolean Series key will be reindexed to match DataFrame index.\n",
      "  \n",
      "/Library/Frameworks/Python.framework/Versions/3.7/lib/python3.7/site-packages/scipy/stats/morestats.py:2388: UserWarning: Warning: sample size too small for normal approximation.\n",
      "  warnings.warn(\"Warning: sample size too small for normal approximation.\")\n"
     ]
    }
   ],
   "source": [
    "for country in df['cntry'].unique().tolist():\n",
    "    x = data_2012[df['cntry'] == country]['happy']\n",
    "    y = data_2014[df['cntry'] == country]['happy']\n",
    "\n",
    "    # A bit of a hack here to make lengths agree so the Wilcox will run\n",
    "    lenx, leny = len(x), len(y)\n",
    "    #print(lenx, '\\t', leny)\n",
    "    if lenx > leny:\n",
    "        x = x[:leny]\n",
    "    else:\n",
    "        y = y[:lenx]\n",
    "    \n",
    "    print(country, '\\t', stats.ttest_rel(x, y))\n",
    "    print('\\t', stats.wilcoxon(x, y), '\\n')"
   ]
  },
  {
   "cell_type": "markdown",
   "metadata": {},
   "source": [
    "# 3. Who reported watching more TV in 2012, (1) men or (2) women?¶\n",
    "According to the Mann-Whitney test, the results are significant, and to me personally, surprising.  Somehow I imagined more men in Europe watching TV more often."
   ]
  },
  {
   "cell_type": "code",
   "execution_count": 12,
   "metadata": {},
   "outputs": [
    {
     "data": {
      "text/plain": [
       "gndr\n",
       "1.0    3.859230\n",
       "2.0    3.905352\n",
       "Name: tvtot, dtype: float64"
      ]
     },
     "execution_count": 12,
     "metadata": {},
     "output_type": "execute_result"
    }
   ],
   "source": [
    "data_2012.groupby(['gndr'])['tvtot'].mean()"
   ]
  },
  {
   "cell_type": "code",
   "execution_count": 13,
   "metadata": {},
   "outputs": [
    {
     "data": {
      "image/png": "[encoded data removed]",
      "text/plain": [
       "<Figure size 432x288 with 1 Axes>"
      ]
     },
     "metadata": {},
     "output_type": "display_data"
    }
   ],
   "source": [
    "sns.boxplot(x=\"gndr\", y=\"tvtot\", data=data_2012).set_title('Total TV Watching',\n",
    "                                                            fontweight='bold',\n",
    "                                                            fontsize=14)\n",
    "plt.tight_layout()\n",
    "plt.show()"
   ]
  },
  {
   "cell_type": "code",
   "execution_count": 14,
   "metadata": {},
   "outputs": [
    {
     "data": {
      "image/png": "[encoded data removed]",
      "text/plain": [
       "<Figure size 432x288 with 1 Axes>"
      ]
     },
     "metadata": {},
     "output_type": "display_data"
    }
   ],
   "source": [
    "# Not what I would call a normal distribution\n",
    "data_2012[data_2012['gndr']==1]['tvtot'].plot(kind='hist', legend=True, label='Men', alpha=0.7)\n",
    "data_2012[data_2012['gndr']==2]['tvtot'].plot(kind='hist', legend=True, label='Women', alpha=0.3)\n",
    "plt.tight_layout()\n",
    "plt.legend(fancybox=True, framealpha=1, shadow=True, borderpad=1, loc=(1.01,0.8))\n",
    "plt.show()"
   ]
  },
  {
   "cell_type": "markdown",
   "metadata": {},
   "source": [
    "### I believe this calls for a Mann-Whitney, as these are independent groups, not normally distributed"
   ]
  },
  {
   "cell_type": "code",
   "execution_count": 15,
   "metadata": {},
   "outputs": [
    {
     "name": "stdout",
     "output_type": "stream",
     "text": [
      "MannwhitneyuResult(statistic=2042391.5, pvalue=0.2165401933322842)\n"
     ]
    },
    {
     "name": "stderr",
     "output_type": "stream",
     "text": [
      "/Library/Frameworks/Python.framework/Versions/3.7/lib/python3.7/site-packages/scipy/stats/stats.py:4885: DeprecationWarning: Calling `mannwhitneyu` without specifying `alternative` is deprecated.\n",
      "  \"`alternative` is deprecated.\", DeprecationWarning)\n"
     ]
    }
   ],
   "source": [
    "print(stats.mannwhitneyu(data_2012[data_2012['gndr'] == 1]['tvtot'], data_2012[data_2012['gndr'] == 2]['tvtot']))"
   ]
  },
  {
   "cell_type": "markdown",
   "metadata": {},
   "source": [
    "# 4. Who was more likely to believe people were fair in 2012, (1) people living with a partner or (2) people living alone?"
   ]
  },
  {
   "cell_type": "code",
   "execution_count": 16,
   "metadata": {},
   "outputs": [
    {
     "data": {
      "text/plain": [
       "partner\n",
       "1.0    6.074351\n",
       "2.0    5.865925\n",
       "Name: pplfair, dtype: float64"
      ]
     },
     "execution_count": 16,
     "metadata": {},
     "output_type": "execute_result"
    }
   ],
   "source": [
    "data_2012.groupby(['partner'])['pplfair'].mean()"
   ]
  },
  {
   "cell_type": "code",
   "execution_count": 17,
   "metadata": {},
   "outputs": [
    {
     "data": {
      "image/png": "[encoded data removed]",
      "text/plain": [
       "<Figure size 432x288 with 1 Axes>"
      ]
     },
     "metadata": {},
     "output_type": "display_data"
    }
   ],
   "source": [
    "sns.boxplot(x=\"partner\", y=\"pplfair\", data=data_2012).set_title('Perception of the \"fairness\" of others',\n",
    "                                                            fontweight='bold',\n",
    "                                                            fontsize=14)\n",
    "plt.tight_layout()\n",
    "plt.show()"
   ]
  },
  {
   "cell_type": "code",
   "execution_count": 18,
   "metadata": {},
   "outputs": [
    {
     "data": {
      "image/png": "[encoded data removed]",
      "text/plain": [
       "<Figure size 432x288 with 1 Axes>"
      ]
     },
     "metadata": {},
     "output_type": "display_data"
    }
   ],
   "source": [
    "# More normal than previous one, but still not great.  Going with nonparametric.\n",
    "data_2012[data_2012['partner']==1]['pplfair'].plot(kind='hist', legend=True, label='Partnered', alpha=0.7)\n",
    "data_2012[data_2012['partner']==2]['pplfair'].plot(kind='hist', legend=True, label='Single', alpha=0.3)\n",
    "plt.tight_layout()\n",
    "plt.legend(fancybox=True, framealpha=1, shadow=True, borderpad=1, loc=(1.01,0.8))\n",
    "plt.show()"
   ]
  },
  {
   "cell_type": "markdown",
   "metadata": {},
   "source": [
    "### I believe this calls for a Mann-Whitney again... Not normally distributed\n",
    "And, this looks VERY significant.  Which, if you look at the histogram above, it's obvious...."
   ]
  },
  {
   "cell_type": "code",
   "execution_count": 19,
   "metadata": {},
   "outputs": [
    {
     "name": "stdout",
     "output_type": "stream",
     "text": [
      "MannwhitneyuResult(statistic=1819821.5, pvalue=0.00028258143613772957)\n"
     ]
    },
    {
     "name": "stderr",
     "output_type": "stream",
     "text": [
      "/Library/Frameworks/Python.framework/Versions/3.7/lib/python3.7/site-packages/scipy/stats/stats.py:4885: DeprecationWarning: Calling `mannwhitneyu` without specifying `alternative` is deprecated.\n",
      "  \"`alternative` is deprecated.\", DeprecationWarning)\n"
     ]
    }
   ],
   "source": [
    "print(stats.mannwhitneyu(data_2012[data_2012['partner'] == 1]['pplfair'],\n",
    "                         data_2012[data_2012['partner'] == 2]['pplfair']))"
   ]
  },
  {
   "cell_type": "markdown",
   "metadata": {},
   "source": [
    "# 5. Pick three or four of the countries in the sample and compare how often people met socially in 2014. Are there differences, and if so, which countries stand out?\n",
    "Quite a good showing from the Swedes, and the Spaniards are on top, as expected.  The Czechs really drop off...."
   ]
  },
  {
   "cell_type": "code",
   "execution_count": 20,
   "metadata": {},
   "outputs": [],
   "source": [
    "# I think the Czeck Rep, Spain, and Sweden should be interesting, and different.  I expect more of a showing\n",
    "# from the Spaniards!!\n",
    "countries = ['CZ', 'ES', 'SE']"
   ]
  },
  {
   "cell_type": "code",
   "execution_count": 21,
   "metadata": {},
   "outputs": [
    {
     "data": {
      "image/png": "[encoded data removed]",
      "text/plain": [
       "<Figure size 864x432 with 1 Axes>"
      ]
     },
     "metadata": {},
     "output_type": "display_data"
    }
   ],
   "source": [
    "# Again, not normally distributed\n",
    "plt.figure(figsize=(12,6))\n",
    "\n",
    "data_2014[data_2014['cntry']== 'CZ']['sclmeet'].plot(kind='hist', legend=True, label='Czech Rep', alpha=0.5)\n",
    "data_2014[data_2014['cntry']== 'ES']['sclmeet'].plot(kind='hist', legend=True, label='Spain', alpha=0.3)\n",
    "data_2014[data_2014['cntry']== 'SE']['sclmeet'].plot(kind='hist', legend=True, label='Sweden', alpha=0.3)\n",
    "\n",
    "plt.tight_layout()\n",
    "plt.legend(fancybox=True, framealpha=1, shadow=True, borderpad=1, loc=(1.01,0.8))\n",
    "plt.show()"
   ]
  },
  {
   "cell_type": "markdown",
   "metadata": {},
   "source": [
    "### Kruskal-Wallace makes sense here\n",
    "Again, just look at the histogram, the difference is verified below... look at that p-val"
   ]
  },
  {
   "cell_type": "code",
   "execution_count": 22,
   "metadata": {},
   "outputs": [
    {
     "data": {
      "text/plain": [
       "KruskalResult(statistic=164.73114903229128, pvalue=1.6946713557834595e-36)"
      ]
     },
     "execution_count": 22,
     "metadata": {},
     "output_type": "execute_result"
    }
   ],
   "source": [
    "stats.kruskal(\n",
    "    data_2014[data_2014['cntry']== 'CZ']['sclmeet'],\n",
    "    data_2014[data_2014['cntry']== 'ES']['sclmeet'],\n",
    "    data_2014[data_2014['cntry']== 'SE']['sclmeet'])"
   ]
  },
  {
   "cell_type": "markdown",
   "metadata": {},
   "source": [
    "# 6. Pick three or four of the countries in the sample and compare how often people took part in social activities, relative to others their age, in 2014. Are there differences, and if so, which countries stand out?"
   ]
  },
  {
   "cell_type": "code",
   "execution_count": 23,
   "metadata": {},
   "outputs": [
    {
     "data": {
      "image/png": "[encoded data removed]",
      "text/plain": [
       "<Figure size 864x432 with 1 Axes>"
      ]
     },
     "metadata": {},
     "output_type": "display_data"
    }
   ],
   "source": [
    "# Again, not normally distributed, though it's a bit better\n",
    "plt.figure(figsize=(12,6))\n",
    "\n",
    "data_2014[data_2014['cntry']== 'CZ']['sclact'].plot(kind='hist', legend=True, label='Czech Rep', alpha=0.5)\n",
    "data_2014[data_2014['cntry']== 'ES']['sclact'].plot(kind='hist', legend=True, label='Spain', alpha=0.3)\n",
    "data_2014[data_2014['cntry']== 'SE']['sclact'].plot(kind='hist', legend=True, label='Sweden', alpha=0.3)\n",
    "\n",
    "plt.tight_layout()\n",
    "plt.legend(fancybox=True, framealpha=1, shadow=True, borderpad=1, loc=(1.01,0.8))\n",
    "plt.show()"
   ]
  },
  {
   "cell_type": "markdown",
   "metadata": {},
   "source": [
    "### Kruskal-Wallace again\n",
    "The results are unsurprising, if you just look at the histogram"
   ]
  },
  {
   "cell_type": "code",
   "execution_count": 24,
   "metadata": {},
   "outputs": [
    {
     "data": {
      "text/plain": [
       "KruskalResult(statistic=36.9246206112881, pvalue=9.592250484702523e-09)"
      ]
     },
     "execution_count": 24,
     "metadata": {},
     "output_type": "execute_result"
    }
   ],
   "source": [
    "stats.kruskal(\n",
    "    data_2014[data_2014['cntry']== 'CZ']['sclact'],\n",
    "    data_2014[data_2014['cntry']== 'ES']['sclact'],\n",
    "    data_2014[data_2014['cntry']== 'SE']['sclact'])"
   ]
  }
 ],
 "metadata": {
  "kernelspec": {
   "display_name": "Python 3",
   "language": "python",
   "name": "python3"
  },
  "language_info": {
   "codemirror_mode": {
    "name": "ipython",
    "version": 3
   },
   "file_extension": ".py",
   "mimetype": "text/x-python",
   "name": "python",
   "nbconvert_exporter": "python",
   "pygments_lexer": "ipython3",
   "version": "3.7.0"
  }
 },
 "nbformat": 4,
 "nbformat_minor": 2
}
